{
 "cells": [
  {
   "cell_type": "markdown",
   "metadata": {},
   "source": [
    "# Telecom Churn Case Study\n",
    "\n",
    "Following are carried out below:\n",
    "\n",
    "1. Reading and basing understanding of data\n",
    "2. Data cleaning\n",
    "   a. Null Value calclation and dropping of cols with large no. of null values\n",
    "   b. Null value imputation of columns with mostly or all 0s\n",
    "   c. Use of Iterative Imputer for null-value imputation (KNN was used, but discarded later due to the large amount of time it took)\n",
    "   d. Capping of Iterative imputed columns with max and min of that specific column, to ensure that **absurd** values generated during imputation, are eliminated\n",
    "3. Data Filtering to get the top 30% high-value customers (HVC)\n",
    "4. Generation of combined variables - all cloumns if month 6 and 7 are added up since they form good period\n",
    "5. Some EDA to identify relationship between columns\n",
    "6. Standard Scaling\n",
    "7. PCA to reduce dimensionality\n",
    "8. 3 models using PCA, along with their Metrics (from Confusion Matrix)\n",
    "   a. Logistic Regression\n",
    "   b. Random Forests\n",
    "   c. Decision Trees\n",
    "   d. **XGBoost was also tried but is not shown here**\n",
    "9. An interpretable model, giving the most important variables"
   ]
  },
  {
   "cell_type": "code",
   "execution_count": 1,
   "metadata": {},
   "outputs": [],
   "source": [
    "import numpy as np\n",
    "import pandas as pd\n",
    "import matplotlib.pyplot as plt\n",
    "import seaborn as sns\n",
    "%matplotlib inline\n",
    "\n",
    "import sklearn\n",
    "import statsmodels.api as sm\n",
    "\n",
    "from statsmodels.stats.outliers_influence import variance_inflation_factor\n",
    "\n",
    "from sklearn.model_selection import train_test_split\n",
    "from sklearn.preprocessing import StandardScaler\n",
    "from sklearn.preprocessing import MinMaxScaler\n",
    "\n",
    "\n",
    "from sklearn.feature_selection import RFE\n",
    "\n",
    "from sklearn.linear_model import LinearRegression\n",
    "from sklearn.linear_model import LogisticRegression\n",
    "\n",
    "from sklearn import metrics\n",
    "from sklearn.metrics import r2_score\n",
    "\n",
    "from sklearn.decomposition import PCA\n",
    "from sklearn.decomposition import IncrementalPCA\n",
    "\n",
    "# Importing required packages for visualization\n",
    "from IPython.display import Image  \n",
    "from six import StringIO  \n",
    "from sklearn.tree import export_graphviz\n",
    "import pydotplus, graphviz\n",
    "\n",
    "from sklearn.model_selection import GridSearchCV\n",
    "\n",
    "from sklearn.tree import DecisionTreeClassifier\n",
    "from sklearn.ensemble import RandomForestClassifier\n",
    "\n",
    "import warnings\n",
    "warnings.filterwarnings('ignore')"
   ]
  },
  {
   "cell_type": "markdown",
   "metadata": {},
   "source": [
    "## 1.0 Reading and understanding data"
   ]
  },
  {
   "cell_type": "code",
   "execution_count": 2,
   "metadata": {},
   "outputs": [
    {
     "data": {
      "text/html": [
       "<div>\n",
       "<style scoped>\n",
       "    .dataframe tbody tr th:only-of-type {\n",
       "        vertical-align: middle;\n",
       "    }\n",
       "\n",
       "    .dataframe tbody tr th {\n",
       "        vertical-align: top;\n",
       "    }\n",
       "\n",
       "    .dataframe thead th {\n",
       "        text-align: right;\n",
       "    }\n",
       "</style>\n",
       "<table border=\"1\" class=\"dataframe\">\n",
       "  <thead>\n",
       "    <tr style=\"text-align: right;\">\n",
       "      <th></th>\n",
       "      <th>mobile_number</th>\n",
       "      <th>circle_id</th>\n",
       "      <th>loc_og_t2o_mou</th>\n",
       "      <th>std_og_t2o_mou</th>\n",
       "      <th>loc_ic_t2o_mou</th>\n",
       "      <th>last_date_of_month_6</th>\n",
       "      <th>last_date_of_month_7</th>\n",
       "      <th>last_date_of_month_8</th>\n",
       "      <th>last_date_of_month_9</th>\n",
       "      <th>arpu_6</th>\n",
       "      <th>...</th>\n",
       "      <th>sachet_3g_9</th>\n",
       "      <th>fb_user_6</th>\n",
       "      <th>fb_user_7</th>\n",
       "      <th>fb_user_8</th>\n",
       "      <th>fb_user_9</th>\n",
       "      <th>aon</th>\n",
       "      <th>aug_vbc_3g</th>\n",
       "      <th>jul_vbc_3g</th>\n",
       "      <th>jun_vbc_3g</th>\n",
       "      <th>sep_vbc_3g</th>\n",
       "    </tr>\n",
       "  </thead>\n",
       "  <tbody>\n",
       "    <tr>\n",
       "      <td>0</td>\n",
       "      <td>7000842753</td>\n",
       "      <td>109</td>\n",
       "      <td>0.0</td>\n",
       "      <td>0.0</td>\n",
       "      <td>0.0</td>\n",
       "      <td>6/30/2014</td>\n",
       "      <td>7/31/2014</td>\n",
       "      <td>8/31/2014</td>\n",
       "      <td>9/30/2014</td>\n",
       "      <td>197.385</td>\n",
       "      <td>...</td>\n",
       "      <td>0</td>\n",
       "      <td>1.0</td>\n",
       "      <td>1.0</td>\n",
       "      <td>1.0</td>\n",
       "      <td>NaN</td>\n",
       "      <td>968</td>\n",
       "      <td>30.4</td>\n",
       "      <td>0.0</td>\n",
       "      <td>101.20</td>\n",
       "      <td>3.58</td>\n",
       "    </tr>\n",
       "    <tr>\n",
       "      <td>1</td>\n",
       "      <td>7001865778</td>\n",
       "      <td>109</td>\n",
       "      <td>0.0</td>\n",
       "      <td>0.0</td>\n",
       "      <td>0.0</td>\n",
       "      <td>6/30/2014</td>\n",
       "      <td>7/31/2014</td>\n",
       "      <td>8/31/2014</td>\n",
       "      <td>9/30/2014</td>\n",
       "      <td>34.047</td>\n",
       "      <td>...</td>\n",
       "      <td>0</td>\n",
       "      <td>NaN</td>\n",
       "      <td>1.0</td>\n",
       "      <td>1.0</td>\n",
       "      <td>NaN</td>\n",
       "      <td>1006</td>\n",
       "      <td>0.0</td>\n",
       "      <td>0.0</td>\n",
       "      <td>0.00</td>\n",
       "      <td>0.00</td>\n",
       "    </tr>\n",
       "    <tr>\n",
       "      <td>2</td>\n",
       "      <td>7001625959</td>\n",
       "      <td>109</td>\n",
       "      <td>0.0</td>\n",
       "      <td>0.0</td>\n",
       "      <td>0.0</td>\n",
       "      <td>6/30/2014</td>\n",
       "      <td>7/31/2014</td>\n",
       "      <td>8/31/2014</td>\n",
       "      <td>9/30/2014</td>\n",
       "      <td>167.690</td>\n",
       "      <td>...</td>\n",
       "      <td>0</td>\n",
       "      <td>NaN</td>\n",
       "      <td>NaN</td>\n",
       "      <td>NaN</td>\n",
       "      <td>1.0</td>\n",
       "      <td>1103</td>\n",
       "      <td>0.0</td>\n",
       "      <td>0.0</td>\n",
       "      <td>4.17</td>\n",
       "      <td>0.00</td>\n",
       "    </tr>\n",
       "    <tr>\n",
       "      <td>3</td>\n",
       "      <td>7001204172</td>\n",
       "      <td>109</td>\n",
       "      <td>0.0</td>\n",
       "      <td>0.0</td>\n",
       "      <td>0.0</td>\n",
       "      <td>6/30/2014</td>\n",
       "      <td>7/31/2014</td>\n",
       "      <td>8/31/2014</td>\n",
       "      <td>9/30/2014</td>\n",
       "      <td>221.338</td>\n",
       "      <td>...</td>\n",
       "      <td>0</td>\n",
       "      <td>NaN</td>\n",
       "      <td>NaN</td>\n",
       "      <td>NaN</td>\n",
       "      <td>NaN</td>\n",
       "      <td>2491</td>\n",
       "      <td>0.0</td>\n",
       "      <td>0.0</td>\n",
       "      <td>0.00</td>\n",
       "      <td>0.00</td>\n",
       "    </tr>\n",
       "    <tr>\n",
       "      <td>4</td>\n",
       "      <td>7000142493</td>\n",
       "      <td>109</td>\n",
       "      <td>0.0</td>\n",
       "      <td>0.0</td>\n",
       "      <td>0.0</td>\n",
       "      <td>6/30/2014</td>\n",
       "      <td>7/31/2014</td>\n",
       "      <td>8/31/2014</td>\n",
       "      <td>9/30/2014</td>\n",
       "      <td>261.636</td>\n",
       "      <td>...</td>\n",
       "      <td>0</td>\n",
       "      <td>0.0</td>\n",
       "      <td>NaN</td>\n",
       "      <td>NaN</td>\n",
       "      <td>NaN</td>\n",
       "      <td>1526</td>\n",
       "      <td>0.0</td>\n",
       "      <td>0.0</td>\n",
       "      <td>0.00</td>\n",
       "      <td>0.00</td>\n",
       "    </tr>\n",
       "  </tbody>\n",
       "</table>\n",
       "<p>5 rows × 226 columns</p>\n",
       "</div>"
      ],
      "text/plain": [
       "   mobile_number  circle_id  loc_og_t2o_mou  std_og_t2o_mou  loc_ic_t2o_mou  \\\n",
       "0     7000842753        109             0.0             0.0             0.0   \n",
       "1     7001865778        109             0.0             0.0             0.0   \n",
       "2     7001625959        109             0.0             0.0             0.0   \n",
       "3     7001204172        109             0.0             0.0             0.0   \n",
       "4     7000142493        109             0.0             0.0             0.0   \n",
       "\n",
       "  last_date_of_month_6 last_date_of_month_7 last_date_of_month_8  \\\n",
       "0            6/30/2014            7/31/2014            8/31/2014   \n",
       "1            6/30/2014            7/31/2014            8/31/2014   \n",
       "2            6/30/2014            7/31/2014            8/31/2014   \n",
       "3            6/30/2014            7/31/2014            8/31/2014   \n",
       "4            6/30/2014            7/31/2014            8/31/2014   \n",
       "\n",
       "  last_date_of_month_9   arpu_6  ...  sachet_3g_9  fb_user_6  fb_user_7  \\\n",
       "0            9/30/2014  197.385  ...            0        1.0        1.0   \n",
       "1            9/30/2014   34.047  ...            0        NaN        1.0   \n",
       "2            9/30/2014  167.690  ...            0        NaN        NaN   \n",
       "3            9/30/2014  221.338  ...            0        NaN        NaN   \n",
       "4            9/30/2014  261.636  ...            0        0.0        NaN   \n",
       "\n",
       "   fb_user_8  fb_user_9   aon  aug_vbc_3g  jul_vbc_3g  jun_vbc_3g  sep_vbc_3g  \n",
       "0        1.0        NaN   968        30.4         0.0      101.20        3.58  \n",
       "1        1.0        NaN  1006         0.0         0.0        0.00        0.00  \n",
       "2        NaN        1.0  1103         0.0         0.0        4.17        0.00  \n",
       "3        NaN        NaN  2491         0.0         0.0        0.00        0.00  \n",
       "4        NaN        NaN  1526         0.0         0.0        0.00        0.00  \n",
       "\n",
       "[5 rows x 226 columns]"
      ]
     },
     "execution_count": 2,
     "metadata": {},
     "output_type": "execute_result"
    }
   ],
   "source": [
    "telco = pd.read_csv('telecom_churn_data.csv')\n",
    "telco.head()"
   ]
  },
  {
   "cell_type": "code",
   "execution_count": 3,
   "metadata": {},
   "outputs": [
    {
     "name": "stdout",
     "output_type": "stream",
     "text": [
      "(99999, 226)\n"
     ]
    }
   ],
   "source": [
    "orig_shape = telco.shape\n",
    "print(orig_shape)"
   ]
  },
  {
   "cell_type": "code",
   "execution_count": 4,
   "metadata": {},
   "outputs": [
    {
     "name": "stdout",
     "output_type": "stream",
     "text": [
      "Columns in the Original Dataset\n",
      "===============================\n"
     ]
    },
    {
     "data": {
      "text/plain": [
       "Index(['mobile_number', 'circle_id', 'loc_og_t2o_mou', 'std_og_t2o_mou',\n",
       "       'loc_ic_t2o_mou', 'last_date_of_month_6', 'last_date_of_month_7',\n",
       "       'last_date_of_month_8', 'last_date_of_month_9', 'arpu_6',\n",
       "       ...\n",
       "       'sachet_3g_9', 'fb_user_6', 'fb_user_7', 'fb_user_8', 'fb_user_9',\n",
       "       'aon', 'aug_vbc_3g', 'jul_vbc_3g', 'jun_vbc_3g', 'sep_vbc_3g'],\n",
       "      dtype='object', length=226)"
      ]
     },
     "execution_count": 4,
     "metadata": {},
     "output_type": "execute_result"
    }
   ],
   "source": [
    "print(\"Columns in the Original Dataset\")\n",
    "print(\"=\"*31)\n",
    "telco.columns"
   ]
  },
  {
   "cell_type": "code",
   "execution_count": 5,
   "metadata": {},
   "outputs": [
    {
     "name": "stdout",
     "output_type": "stream",
     "text": [
      "<class 'pandas.core.frame.DataFrame'>\n",
      "RangeIndex: 99999 entries, 0 to 99998\n",
      "Columns: 226 entries, mobile_number to sep_vbc_3g\n",
      "dtypes: float64(179), int64(35), object(12)\n",
      "memory usage: 172.4+ MB\n"
     ]
    }
   ],
   "source": [
    "telco.info()"
   ]
  },
  {
   "cell_type": "code",
   "execution_count": 6,
   "metadata": {},
   "outputs": [
    {
     "data": {
      "text/html": [
       "<div>\n",
       "<style scoped>\n",
       "    .dataframe tbody tr th:only-of-type {\n",
       "        vertical-align: middle;\n",
       "    }\n",
       "\n",
       "    .dataframe tbody tr th {\n",
       "        vertical-align: top;\n",
       "    }\n",
       "\n",
       "    .dataframe thead th {\n",
       "        text-align: right;\n",
       "    }\n",
       "</style>\n",
       "<table border=\"1\" class=\"dataframe\">\n",
       "  <thead>\n",
       "    <tr style=\"text-align: right;\">\n",
       "      <th></th>\n",
       "      <th>mobile_number</th>\n",
       "      <th>circle_id</th>\n",
       "      <th>loc_og_t2o_mou</th>\n",
       "      <th>std_og_t2o_mou</th>\n",
       "      <th>loc_ic_t2o_mou</th>\n",
       "      <th>arpu_6</th>\n",
       "      <th>arpu_7</th>\n",
       "      <th>arpu_8</th>\n",
       "      <th>arpu_9</th>\n",
       "      <th>onnet_mou_6</th>\n",
       "      <th>...</th>\n",
       "      <th>sachet_3g_9</th>\n",
       "      <th>fb_user_6</th>\n",
       "      <th>fb_user_7</th>\n",
       "      <th>fb_user_8</th>\n",
       "      <th>fb_user_9</th>\n",
       "      <th>aon</th>\n",
       "      <th>aug_vbc_3g</th>\n",
       "      <th>jul_vbc_3g</th>\n",
       "      <th>jun_vbc_3g</th>\n",
       "      <th>sep_vbc_3g</th>\n",
       "    </tr>\n",
       "  </thead>\n",
       "  <tbody>\n",
       "    <tr>\n",
       "      <td>count</td>\n",
       "      <td>9.999900e+04</td>\n",
       "      <td>99999.0</td>\n",
       "      <td>98981.0</td>\n",
       "      <td>98981.0</td>\n",
       "      <td>98981.0</td>\n",
       "      <td>99999.000000</td>\n",
       "      <td>99999.000000</td>\n",
       "      <td>99999.000000</td>\n",
       "      <td>99999.000000</td>\n",
       "      <td>96062.000000</td>\n",
       "      <td>...</td>\n",
       "      <td>99999.000000</td>\n",
       "      <td>25153.000000</td>\n",
       "      <td>25571.000000</td>\n",
       "      <td>26339.000000</td>\n",
       "      <td>25922.000000</td>\n",
       "      <td>99999.000000</td>\n",
       "      <td>99999.000000</td>\n",
       "      <td>99999.000000</td>\n",
       "      <td>99999.000000</td>\n",
       "      <td>99999.000000</td>\n",
       "    </tr>\n",
       "    <tr>\n",
       "      <td>mean</td>\n",
       "      <td>7.001207e+09</td>\n",
       "      <td>109.0</td>\n",
       "      <td>0.0</td>\n",
       "      <td>0.0</td>\n",
       "      <td>0.0</td>\n",
       "      <td>282.987358</td>\n",
       "      <td>278.536648</td>\n",
       "      <td>279.154731</td>\n",
       "      <td>261.645069</td>\n",
       "      <td>132.395875</td>\n",
       "      <td>...</td>\n",
       "      <td>0.084581</td>\n",
       "      <td>0.914404</td>\n",
       "      <td>0.908764</td>\n",
       "      <td>0.890808</td>\n",
       "      <td>0.860968</td>\n",
       "      <td>1219.854749</td>\n",
       "      <td>68.170248</td>\n",
       "      <td>66.839062</td>\n",
       "      <td>60.021204</td>\n",
       "      <td>3.299373</td>\n",
       "    </tr>\n",
       "    <tr>\n",
       "      <td>std</td>\n",
       "      <td>6.956694e+05</td>\n",
       "      <td>0.0</td>\n",
       "      <td>0.0</td>\n",
       "      <td>0.0</td>\n",
       "      <td>0.0</td>\n",
       "      <td>328.439770</td>\n",
       "      <td>338.156291</td>\n",
       "      <td>344.474791</td>\n",
       "      <td>341.998630</td>\n",
       "      <td>297.207406</td>\n",
       "      <td>...</td>\n",
       "      <td>0.650457</td>\n",
       "      <td>0.279772</td>\n",
       "      <td>0.287950</td>\n",
       "      <td>0.311885</td>\n",
       "      <td>0.345987</td>\n",
       "      <td>954.733842</td>\n",
       "      <td>267.580450</td>\n",
       "      <td>271.201856</td>\n",
       "      <td>253.938223</td>\n",
       "      <td>32.408353</td>\n",
       "    </tr>\n",
       "    <tr>\n",
       "      <td>min</td>\n",
       "      <td>7.000000e+09</td>\n",
       "      <td>109.0</td>\n",
       "      <td>0.0</td>\n",
       "      <td>0.0</td>\n",
       "      <td>0.0</td>\n",
       "      <td>-2258.709000</td>\n",
       "      <td>-2014.045000</td>\n",
       "      <td>-945.808000</td>\n",
       "      <td>-1899.505000</td>\n",
       "      <td>0.000000</td>\n",
       "      <td>...</td>\n",
       "      <td>0.000000</td>\n",
       "      <td>0.000000</td>\n",
       "      <td>0.000000</td>\n",
       "      <td>0.000000</td>\n",
       "      <td>0.000000</td>\n",
       "      <td>180.000000</td>\n",
       "      <td>0.000000</td>\n",
       "      <td>0.000000</td>\n",
       "      <td>0.000000</td>\n",
       "      <td>0.000000</td>\n",
       "    </tr>\n",
       "    <tr>\n",
       "      <td>25%</td>\n",
       "      <td>7.000606e+09</td>\n",
       "      <td>109.0</td>\n",
       "      <td>0.0</td>\n",
       "      <td>0.0</td>\n",
       "      <td>0.0</td>\n",
       "      <td>93.411500</td>\n",
       "      <td>86.980500</td>\n",
       "      <td>84.126000</td>\n",
       "      <td>62.685000</td>\n",
       "      <td>7.380000</td>\n",
       "      <td>...</td>\n",
       "      <td>0.000000</td>\n",
       "      <td>1.000000</td>\n",
       "      <td>1.000000</td>\n",
       "      <td>1.000000</td>\n",
       "      <td>1.000000</td>\n",
       "      <td>467.000000</td>\n",
       "      <td>0.000000</td>\n",
       "      <td>0.000000</td>\n",
       "      <td>0.000000</td>\n",
       "      <td>0.000000</td>\n",
       "    </tr>\n",
       "    <tr>\n",
       "      <td>50%</td>\n",
       "      <td>7.001205e+09</td>\n",
       "      <td>109.0</td>\n",
       "      <td>0.0</td>\n",
       "      <td>0.0</td>\n",
       "      <td>0.0</td>\n",
       "      <td>197.704000</td>\n",
       "      <td>191.640000</td>\n",
       "      <td>192.080000</td>\n",
       "      <td>176.849000</td>\n",
       "      <td>34.310000</td>\n",
       "      <td>...</td>\n",
       "      <td>0.000000</td>\n",
       "      <td>1.000000</td>\n",
       "      <td>1.000000</td>\n",
       "      <td>1.000000</td>\n",
       "      <td>1.000000</td>\n",
       "      <td>863.000000</td>\n",
       "      <td>0.000000</td>\n",
       "      <td>0.000000</td>\n",
       "      <td>0.000000</td>\n",
       "      <td>0.000000</td>\n",
       "    </tr>\n",
       "    <tr>\n",
       "      <td>75%</td>\n",
       "      <td>7.001812e+09</td>\n",
       "      <td>109.0</td>\n",
       "      <td>0.0</td>\n",
       "      <td>0.0</td>\n",
       "      <td>0.0</td>\n",
       "      <td>371.060000</td>\n",
       "      <td>365.344500</td>\n",
       "      <td>369.370500</td>\n",
       "      <td>353.466500</td>\n",
       "      <td>118.740000</td>\n",
       "      <td>...</td>\n",
       "      <td>0.000000</td>\n",
       "      <td>1.000000</td>\n",
       "      <td>1.000000</td>\n",
       "      <td>1.000000</td>\n",
       "      <td>1.000000</td>\n",
       "      <td>1807.500000</td>\n",
       "      <td>0.000000</td>\n",
       "      <td>0.000000</td>\n",
       "      <td>0.000000</td>\n",
       "      <td>0.000000</td>\n",
       "    </tr>\n",
       "    <tr>\n",
       "      <td>max</td>\n",
       "      <td>7.002411e+09</td>\n",
       "      <td>109.0</td>\n",
       "      <td>0.0</td>\n",
       "      <td>0.0</td>\n",
       "      <td>0.0</td>\n",
       "      <td>27731.088000</td>\n",
       "      <td>35145.834000</td>\n",
       "      <td>33543.624000</td>\n",
       "      <td>38805.617000</td>\n",
       "      <td>7376.710000</td>\n",
       "      <td>...</td>\n",
       "      <td>49.000000</td>\n",
       "      <td>1.000000</td>\n",
       "      <td>1.000000</td>\n",
       "      <td>1.000000</td>\n",
       "      <td>1.000000</td>\n",
       "      <td>4337.000000</td>\n",
       "      <td>12916.220000</td>\n",
       "      <td>9165.600000</td>\n",
       "      <td>11166.210000</td>\n",
       "      <td>2618.570000</td>\n",
       "    </tr>\n",
       "  </tbody>\n",
       "</table>\n",
       "<p>8 rows × 214 columns</p>\n",
       "</div>"
      ],
      "text/plain": [
       "       mobile_number  circle_id  loc_og_t2o_mou  std_og_t2o_mou  \\\n",
       "count   9.999900e+04    99999.0         98981.0         98981.0   \n",
       "mean    7.001207e+09      109.0             0.0             0.0   \n",
       "std     6.956694e+05        0.0             0.0             0.0   \n",
       "min     7.000000e+09      109.0             0.0             0.0   \n",
       "25%     7.000606e+09      109.0             0.0             0.0   \n",
       "50%     7.001205e+09      109.0             0.0             0.0   \n",
       "75%     7.001812e+09      109.0             0.0             0.0   \n",
       "max     7.002411e+09      109.0             0.0             0.0   \n",
       "\n",
       "       loc_ic_t2o_mou        arpu_6        arpu_7        arpu_8        arpu_9  \\\n",
       "count         98981.0  99999.000000  99999.000000  99999.000000  99999.000000   \n",
       "mean              0.0    282.987358    278.536648    279.154731    261.645069   \n",
       "std               0.0    328.439770    338.156291    344.474791    341.998630   \n",
       "min               0.0  -2258.709000  -2014.045000   -945.808000  -1899.505000   \n",
       "25%               0.0     93.411500     86.980500     84.126000     62.685000   \n",
       "50%               0.0    197.704000    191.640000    192.080000    176.849000   \n",
       "75%               0.0    371.060000    365.344500    369.370500    353.466500   \n",
       "max               0.0  27731.088000  35145.834000  33543.624000  38805.617000   \n",
       "\n",
       "        onnet_mou_6  ...   sachet_3g_9     fb_user_6     fb_user_7  \\\n",
       "count  96062.000000  ...  99999.000000  25153.000000  25571.000000   \n",
       "mean     132.395875  ...      0.084581      0.914404      0.908764   \n",
       "std      297.207406  ...      0.650457      0.279772      0.287950   \n",
       "min        0.000000  ...      0.000000      0.000000      0.000000   \n",
       "25%        7.380000  ...      0.000000      1.000000      1.000000   \n",
       "50%       34.310000  ...      0.000000      1.000000      1.000000   \n",
       "75%      118.740000  ...      0.000000      1.000000      1.000000   \n",
       "max     7376.710000  ...     49.000000      1.000000      1.000000   \n",
       "\n",
       "          fb_user_8     fb_user_9           aon    aug_vbc_3g    jul_vbc_3g  \\\n",
       "count  26339.000000  25922.000000  99999.000000  99999.000000  99999.000000   \n",
       "mean       0.890808      0.860968   1219.854749     68.170248     66.839062   \n",
       "std        0.311885      0.345987    954.733842    267.580450    271.201856   \n",
       "min        0.000000      0.000000    180.000000      0.000000      0.000000   \n",
       "25%        1.000000      1.000000    467.000000      0.000000      0.000000   \n",
       "50%        1.000000      1.000000    863.000000      0.000000      0.000000   \n",
       "75%        1.000000      1.000000   1807.500000      0.000000      0.000000   \n",
       "max        1.000000      1.000000   4337.000000  12916.220000   9165.600000   \n",
       "\n",
       "         jun_vbc_3g    sep_vbc_3g  \n",
       "count  99999.000000  99999.000000  \n",
       "mean      60.021204      3.299373  \n",
       "std      253.938223     32.408353  \n",
       "min        0.000000      0.000000  \n",
       "25%        0.000000      0.000000  \n",
       "50%        0.000000      0.000000  \n",
       "75%        0.000000      0.000000  \n",
       "max    11166.210000   2618.570000  \n",
       "\n",
       "[8 rows x 214 columns]"
      ]
     },
     "execution_count": 6,
     "metadata": {},
     "output_type": "execute_result"
    }
   ],
   "source": [
    "telco.describe()"
   ]
  },
  {
   "cell_type": "code",
   "execution_count": 7,
   "metadata": {
    "scrolled": true
   },
   "outputs": [
    {
     "data": {
      "text/plain": [
       "mobile_number        0\n",
       "circle_id            0\n",
       "loc_og_t2o_mou    1018\n",
       "std_og_t2o_mou    1018\n",
       "loc_ic_t2o_mou    1018\n",
       "                  ... \n",
       "aon                  0\n",
       "aug_vbc_3g           0\n",
       "jul_vbc_3g           0\n",
       "jun_vbc_3g           0\n",
       "sep_vbc_3g           0\n",
       "Length: 226, dtype: int64"
      ]
     },
     "execution_count": 7,
     "metadata": {},
     "output_type": "execute_result"
    }
   ],
   "source": [
    "telco.isnull().sum()"
   ]
  },
  {
   "cell_type": "markdown",
   "metadata": {},
   "source": [
    "### 1.1 Observations\n",
    "- The dataset is huge, with 100,000 rows and 214 columns\n",
    "- Most of the columns are numeric columns, with columns for the good months, the action month and churn month\n",
    "- Quite a few columns have nulls"
   ]
  },
  {
   "cell_type": "markdown",
   "metadata": {},
   "source": [
    "## 2.0 Data Cleaning"
   ]
  },
  {
   "cell_type": "markdown",
   "metadata": {},
   "source": [
    "### 2.1 Handling Nulls"
   ]
  },
  {
   "cell_type": "code",
   "execution_count": 8,
   "metadata": {},
   "outputs": [
    {
     "name": "stdout",
     "output_type": "stream",
     "text": [
      "date_of_last_rech_data_6    74.85\n",
      "date_of_last_rech_data_7    74.43\n",
      "date_of_last_rech_data_8    73.66\n",
      "date_of_last_rech_data_9    74.08\n",
      "total_rech_data_6           74.85\n",
      "total_rech_data_7           74.43\n",
      "total_rech_data_8           73.66\n",
      "total_rech_data_9           74.08\n",
      "max_rech_data_6             74.85\n",
      "max_rech_data_7             74.43\n",
      "max_rech_data_8             73.66\n",
      "max_rech_data_9             74.08\n",
      "count_rech_2g_6             74.85\n",
      "count_rech_2g_7             74.43\n",
      "count_rech_2g_8             73.66\n",
      "count_rech_2g_9             74.08\n",
      "count_rech_3g_6             74.85\n",
      "count_rech_3g_7             74.43\n",
      "count_rech_3g_8             73.66\n",
      "count_rech_3g_9             74.08\n",
      "av_rech_amt_data_6          74.85\n",
      "av_rech_amt_data_7          74.43\n",
      "av_rech_amt_data_8          73.66\n",
      "av_rech_amt_data_9          74.08\n",
      "arpu_3g_6                   74.85\n",
      "arpu_3g_7                   74.43\n",
      "arpu_3g_8                   73.66\n",
      "arpu_3g_9                   74.08\n",
      "arpu_2g_6                   74.85\n",
      "arpu_2g_7                   74.43\n",
      "arpu_2g_8                   73.66\n",
      "arpu_2g_9                   74.08\n",
      "night_pck_user_6            74.85\n",
      "night_pck_user_7            74.43\n",
      "night_pck_user_8            73.66\n",
      "night_pck_user_9            74.08\n",
      "fb_user_6                   74.85\n",
      "fb_user_7                   74.43\n",
      "fb_user_8                   73.66\n",
      "fb_user_9                   74.08\n",
      "dtype: float64\n",
      "Index(['date_of_last_rech_data_6', 'date_of_last_rech_data_7',\n",
      "       'date_of_last_rech_data_8', 'date_of_last_rech_data_9',\n",
      "       'total_rech_data_6', 'total_rech_data_7', 'total_rech_data_8',\n",
      "       'total_rech_data_9', 'max_rech_data_6', 'max_rech_data_7',\n",
      "       'max_rech_data_8', 'max_rech_data_9', 'count_rech_2g_6',\n",
      "       'count_rech_2g_7', 'count_rech_2g_8', 'count_rech_2g_9',\n",
      "       'count_rech_3g_6', 'count_rech_3g_7', 'count_rech_3g_8',\n",
      "       'count_rech_3g_9', 'av_rech_amt_data_6', 'av_rech_amt_data_7',\n",
      "       'av_rech_amt_data_8', 'av_rech_amt_data_9', 'arpu_3g_6', 'arpu_3g_7',\n",
      "       'arpu_3g_8', 'arpu_3g_9', 'arpu_2g_6', 'arpu_2g_7', 'arpu_2g_8',\n",
      "       'arpu_2g_9', 'night_pck_user_6', 'night_pck_user_7', 'night_pck_user_8',\n",
      "       'night_pck_user_9', 'fb_user_6', 'fb_user_7', 'fb_user_8', 'fb_user_9'],\n",
      "      dtype='object')\n",
      "166\n"
     ]
    }
   ],
   "source": [
    "null_cols_pct = round((telco.isnull().sum()*100/orig_shape[0]), 2)\n",
    "print(null_cols_pct[null_cols_pct > 20])\n",
    "print(null_cols_pct[null_cols_pct > 20].index)\n",
    "print(len(null_cols_pct[null_cols_pct > 0]))"
   ]
  },
  {
   "cell_type": "markdown",
   "metadata": {},
   "source": [
    "#### 2.1.1 Observations\n",
    "- Many columns have null values > 70%\n",
    "- We will not get much useful data from any of these columns\n",
    "- So we will drop them\n",
    "- **Except these, all other columns have null values < 10%, which will be imputed**"
   ]
  },
  {
   "cell_type": "code",
   "execution_count": 9,
   "metadata": {},
   "outputs": [
    {
     "name": "stdout",
     "output_type": "stream",
     "text": [
      "(99999, 226)\n",
      "Current Shape of Dataset = (99999, 186)\n",
      "Index(['date_of_last_rech_data_6', 'date_of_last_rech_data_7',\n",
      "       'date_of_last_rech_data_8', 'date_of_last_rech_data_9',\n",
      "       'total_rech_data_6', 'total_rech_data_7', 'total_rech_data_8',\n",
      "       'total_rech_data_9', 'max_rech_data_6', 'max_rech_data_7',\n",
      "       'max_rech_data_8', 'max_rech_data_9', 'count_rech_2g_6',\n",
      "       'count_rech_2g_7', 'count_rech_2g_8', 'count_rech_2g_9',\n",
      "       'count_rech_3g_6', 'count_rech_3g_7', 'count_rech_3g_8',\n",
      "       'count_rech_3g_9', 'av_rech_amt_data_6', 'av_rech_amt_data_7',\n",
      "       'av_rech_amt_data_8', 'av_rech_amt_data_9', 'arpu_3g_6', 'arpu_3g_7',\n",
      "       'arpu_3g_8', 'arpu_3g_9', 'arpu_2g_6', 'arpu_2g_7', 'arpu_2g_8',\n",
      "       'arpu_2g_9', 'night_pck_user_6', 'night_pck_user_7', 'night_pck_user_8',\n",
      "       'night_pck_user_9', 'fb_user_6', 'fb_user_7', 'fb_user_8', 'fb_user_9'],\n",
      "      dtype='object') 40\n",
      "(99999, 186)\n"
     ]
    }
   ],
   "source": [
    "print(telco.shape)\n",
    "high_null_cols = null_cols_pct[null_cols_pct > 20].index\n",
    "telco = telco.drop(null_cols_pct[null_cols_pct > 20].index, axis = 1)\n",
    "shape_curr = telco.shape\n",
    "print(f'Current Shape of Dataset = {shape_curr}')\n",
    "print(high_null_cols, len(high_null_cols))\n",
    "print(telco.shape)"
   ]
  },
  {
   "cell_type": "code",
   "execution_count": 10,
   "metadata": {},
   "outputs": [
    {
     "name": "stdout",
     "output_type": "stream",
     "text": [
      "Index(['loc_og_t2o_mou', 'std_og_t2o_mou', 'loc_ic_t2o_mou',\n",
      "       'last_date_of_month_7', 'last_date_of_month_8', 'last_date_of_month_9',\n",
      "       'onnet_mou_6', 'onnet_mou_7', 'onnet_mou_8', 'onnet_mou_9',\n",
      "       ...\n",
      "       'isd_ic_mou_8', 'isd_ic_mou_9', 'ic_others_6', 'ic_others_7',\n",
      "       'ic_others_8', 'ic_others_9', 'date_of_last_rech_6',\n",
      "       'date_of_last_rech_7', 'date_of_last_rech_8', 'date_of_last_rech_9'],\n",
      "      dtype='object', length=126) 126\n"
     ]
    }
   ],
   "source": [
    "null_cols_pct = round((telco.isnull().sum()*100/orig_shape[0]), 2)\n",
    "print(null_cols_pct[null_cols_pct > 0].index, len(null_cols_pct[null_cols_pct > 0].index))"
   ]
  },
  {
   "cell_type": "markdown",
   "metadata": {},
   "source": [
    "#### 2.1.2 Zero-sum columns"
   ]
  },
  {
   "cell_type": "code",
   "execution_count": 11,
   "metadata": {},
   "outputs": [
    {
     "name": "stdout",
     "output_type": "stream",
     "text": [
      "['loc_og_t2o_mou', 'std_og_t2o_mou', 'loc_ic_t2o_mou', 'std_og_t2c_mou_6', 'std_og_t2c_mou_7', 'std_og_t2c_mou_8', 'std_og_t2c_mou_9', 'std_ic_t2o_mou_6', 'std_ic_t2o_mou_7', 'std_ic_t2o_mou_8', 'std_ic_t2o_mou_9']\n"
     ]
    }
   ],
   "source": [
    "zero_sum_cols = []\n",
    "for col in null_cols_pct[null_cols_pct > 0].index:\n",
    "    if(telco[col].dtype == object):\n",
    "        continue\n",
    "    if(telco[col].sum(axis = 0) == 0):\n",
    "        zero_sum_cols.append(col)\n",
    "print(zero_sum_cols)"
   ]
  },
  {
   "cell_type": "markdown",
   "metadata": {},
   "source": [
    "- The above columns all have zero-sum, i.e., all entries in these columns are 0\n",
    "- We simply impute nulls in these with 0, since that maintains the characteristic of these columns\n",
    "- Later, these columns are deleted since they show no variance and so, don't add new informatio in predicting churn"
   ]
  },
  {
   "cell_type": "code",
   "execution_count": 12,
   "metadata": {},
   "outputs": [],
   "source": [
    "for col in zero_sum_cols:\n",
    "    telco[col] = telco[col].fillna(0.0)"
   ]
  },
  {
   "cell_type": "code",
   "execution_count": 13,
   "metadata": {},
   "outputs": [
    {
     "name": "stdout",
     "output_type": "stream",
     "text": [
      "115\n"
     ]
    }
   ],
   "source": [
    "null_cols_pct = round((telco.isnull().sum()*100/orig_shape[0]), 2)\n",
    "print(len(null_cols_pct[null_cols_pct > 0]))"
   ]
  },
  {
   "cell_type": "markdown",
   "metadata": {},
   "source": [
    "- Only 1 date column was converted to datetime format\n",
    "- However, then it was decided to drop all date columns, since they don't add usable information\n",
    "- We anyway have data for different months (_6, _7, _8 and _9). These are really useful columns"
   ]
  },
  {
   "cell_type": "code",
   "execution_count": 14,
   "metadata": {},
   "outputs": [],
   "source": [
    "telco['last_date_of_month_7'] = pd.to_datetime(telco['last_date_of_month_7'], format = '%m/%d/%Y')"
   ]
  },
  {
   "cell_type": "code",
   "execution_count": 15,
   "metadata": {
    "scrolled": true
   },
   "outputs": [],
   "source": [
    "from fancyimpute import IterativeImputer"
   ]
  },
  {
   "cell_type": "code",
   "execution_count": 16,
   "metadata": {},
   "outputs": [],
   "source": [
    "fancy = IterativeImputer()"
   ]
  },
  {
   "cell_type": "markdown",
   "metadata": {},
   "source": [
    "- One of the columns with NAs was plotted, just to get an idea of its statistics\n",
    "- A large number of outliers are seen"
   ]
  },
  {
   "cell_type": "code",
   "execution_count": 17,
   "metadata": {},
   "outputs": [
    {
     "data": {
      "image/png": "[encoded data removed]",
      "text/plain": [
       "<Figure size 864x288 with 1 Axes>"
      ]
     },
     "metadata": {
      "needs_background": "light"
     },
     "output_type": "display_data"
    }
   ],
   "source": [
    "plt.figure(figsize = (12, 4))\n",
    "sns.boxplot(telco['onnet_mou_6'], orient = 'h')\n",
    "plt.show()"
   ]
  },
  {
   "cell_type": "markdown",
   "metadata": {},
   "source": [
    "#### 2.1.3:\n",
    "- Identify all `object` columns\n",
    "- It can be seen that only date columns are object columns \n",
    "- These columns are just converted to date-time and then and these will be dropped"
   ]
  },
  {
   "cell_type": "code",
   "execution_count": 18,
   "metadata": {},
   "outputs": [
    {
     "name": "stdout",
     "output_type": "stream",
     "text": [
      "Index(['last_date_of_month_6', 'last_date_of_month_8', 'last_date_of_month_9',\n",
      "       'date_of_last_rech_6', 'date_of_last_rech_7', 'date_of_last_rech_8',\n",
      "       'date_of_last_rech_9'],\n",
      "      dtype='object')\n",
      "\n",
      "len_obj_cols = 7, len_float_cols = 143\n",
      "len_null_cols = 115, len_null_float_cols = 108\n"
     ]
    }
   ],
   "source": [
    "obj_cols = telco.loc[:, telco.dtypes == object].columns\n",
    "print(obj_cols)\n",
    "print()\n",
    "float_cols = telco.loc[:, telco.dtypes == 'float64'].columns\n",
    "null_cols = null_cols_pct[null_cols_pct > 0].index\n",
    "\n",
    "nfcs = telco.dtypes[null_cols] == 'float64'\n",
    "null_float_cols = nfcs[nfcs].index\n",
    "\n",
    "print(f'len_obj_cols = {len(obj_cols)}, len_float_cols = {len(float_cols)}')\n",
    "print(f'len_null_cols = {len(null_cols)}, len_null_float_cols = {len(null_float_cols)}')"
   ]
  },
  {
   "cell_type": "code",
   "execution_count": 19,
   "metadata": {},
   "outputs": [],
   "source": [
    "nocs = telco.dtypes[null_cols] != 'float64'\n",
    "null_obj_cols = nocs[nocs].index\n",
    "for obj_col in obj_cols:\n",
    "    telco[obj_col] = pd.to_datetime(telco[obj_col], format = '%m/%d/%Y')\n",
    "    \n",
    "drop_date_cols = ['last_date_of_month_7', 'last_date_of_month_8', 'last_date_of_month_9', \\\n",
    "       'date_of_last_rech_6', 'date_of_last_rech_7', 'date_of_last_rech_8', \\\n",
    "       'date_of_last_rech_9']\n",
    "telco = telco.drop(drop_date_cols, axis = 1)"
   ]
  },
  {
   "cell_type": "markdown",
   "metadata": {},
   "source": [
    "- Just check the number of columns with nulls"
   ]
  },
  {
   "cell_type": "code",
   "execution_count": 20,
   "metadata": {},
   "outputs": [
    {
     "name": "stdout",
     "output_type": "stream",
     "text": [
      "108\n"
     ]
    }
   ],
   "source": [
    "null_cols_pct = round((telco.isnull().sum()*100/orig_shape[0]), 2)\n",
    "print(len(null_cols_pct[null_cols_pct > 0]))"
   ]
  },
  {
   "cell_type": "markdown",
   "metadata": {},
   "source": [
    "#### 2.1.4 Iterative Imputation\n",
    "We now do iterative imputation of the nulls in the dataset.\n",
    "Since the imputer takes a lot of time, the following is the process followed:\n",
    "\n",
    "1. The dataset is divided into 2 sets of columns, one with nulls < 4%, another with nulls >= 4%\n",
    "2. Imputations are done in 2 steps, once with the set < 4% and once with the set >= 4%\n",
    "3. Since the Iterative Imputer can impute nulls with absurd values (> largest or < smallest values), the following is done to handle anamolies:\n",
    "   - Before imputation, the nulls are filled with 0.\n",
    "   - The largest and smallest values of every column are stored in a different dataset and this dataset is written into an XL file\n",
    "   - Imputation is done\n",
    "   - After imputation, the above dataset is read again and, if the imputed values are < the minimum values, they are clamped to the min value\n",
    "   - If the imputed values are > the maximum values, they are clamped to the max value\n",
    "4. This is done for both the imputations"
   ]
  },
  {
   "cell_type": "code",
   "execution_count": 21,
   "metadata": {
    "scrolled": true
   },
   "outputs": [
    {
     "name": "stdout",
     "output_type": "stream",
     "text": [
      "54\n",
      "108\n",
      "54\n"
     ]
    }
   ],
   "source": [
    "print(len(null_cols_pct[null_cols_pct >= 4]))\n",
    "null_cols = null_cols_pct[null_cols_pct > 0]\n",
    "null_cols1 = null_cols[null_cols < 4].index\n",
    "print(len(null_cols))\n",
    "print(len(null_cols1))"
   ]
  },
  {
   "cell_type": "code",
   "execution_count": 22,
   "metadata": {},
   "outputs": [
    {
     "name": "stdout",
     "output_type": "stream",
     "text": [
      "54 54\n"
     ]
    },
    {
     "data": {
      "text/html": [
       "<div>\n",
       "<style scoped>\n",
       "    .dataframe tbody tr th:only-of-type {\n",
       "        vertical-align: middle;\n",
       "    }\n",
       "\n",
       "    .dataframe tbody tr th {\n",
       "        vertical-align: top;\n",
       "    }\n",
       "\n",
       "    .dataframe thead th {\n",
       "        text-align: right;\n",
       "    }\n",
       "</style>\n",
       "<table border=\"1\" class=\"dataframe\">\n",
       "  <thead>\n",
       "    <tr style=\"text-align: right;\">\n",
       "      <th></th>\n",
       "      <th>Unnamed: 0</th>\n",
       "      <th>minmum</th>\n",
       "      <th>maxmum</th>\n",
       "    </tr>\n",
       "  </thead>\n",
       "  <tbody>\n",
       "    <tr>\n",
       "      <td>0</td>\n",
       "      <td>0</td>\n",
       "      <td>0.0</td>\n",
       "      <td>7376.71</td>\n",
       "    </tr>\n",
       "    <tr>\n",
       "      <td>1</td>\n",
       "      <td>1</td>\n",
       "      <td>0.0</td>\n",
       "      <td>8157.78</td>\n",
       "    </tr>\n",
       "    <tr>\n",
       "      <td>2</td>\n",
       "      <td>2</td>\n",
       "      <td>0.0</td>\n",
       "      <td>8362.36</td>\n",
       "    </tr>\n",
       "    <tr>\n",
       "      <td>3</td>\n",
       "      <td>3</td>\n",
       "      <td>0.0</td>\n",
       "      <td>9667.13</td>\n",
       "    </tr>\n",
       "    <tr>\n",
       "      <td>4</td>\n",
       "      <td>4</td>\n",
       "      <td>0.0</td>\n",
       "      <td>13724.38</td>\n",
       "    </tr>\n",
       "  </tbody>\n",
       "</table>\n",
       "</div>"
      ],
      "text/plain": [
       "   Unnamed: 0  minmum    maxmum\n",
       "0           0     0.0   7376.71\n",
       "1           1     0.0   8157.78\n",
       "2           2     0.0   8362.36\n",
       "3           3     0.0   9667.13\n",
       "4           4     0.0  13724.38"
      ]
     },
     "execution_count": 22,
     "metadata": {},
     "output_type": "execute_result"
    }
   ],
   "source": [
    "min_val = []\n",
    "max_val = []\n",
    "for col in null_cols1:\n",
    "    if(telco[col].dtype != 'float64'):\n",
    "        continue\n",
    "    telco[col] = telco[col].fillna(0.0)\n",
    "    min_val.append(min(telco[col]))\n",
    "    max_val.append(max(telco[col]))\n",
    "    \n",
    "max_min = pd.DataFrame({'minmum': min_val, 'maxmum': max_val})\n",
    "max_min.to_csv('min_max_vals.csv', index = True)\n",
    "print(len(min_val), len(max_val))\n",
    "mm = pd.read_csv('min_max_vals.csv')\n",
    "mm.head()"
   ]
  },
  {
   "cell_type": "markdown",
   "metadata": {},
   "source": [
    "**2.1.4.1 Imputation 1:**"
   ]
  },
  {
   "cell_type": "code",
   "execution_count": 23,
   "metadata": {},
   "outputs": [
    {
     "name": "stdout",
     "output_type": "stream",
     "text": [
      "CPU times: user 42.2 s, sys: 2.78 s, total: 45 s\n",
      "Wall time: 23.9 s\n"
     ]
    },
    {
     "data": {
      "text/html": [
       "<div>\n",
       "<style scoped>\n",
       "    .dataframe tbody tr th:only-of-type {\n",
       "        vertical-align: middle;\n",
       "    }\n",
       "\n",
       "    .dataframe tbody tr th {\n",
       "        vertical-align: top;\n",
       "    }\n",
       "\n",
       "    .dataframe thead th {\n",
       "        text-align: right;\n",
       "    }\n",
       "</style>\n",
       "<table border=\"1\" class=\"dataframe\">\n",
       "  <thead>\n",
       "    <tr style=\"text-align: right;\">\n",
       "      <th></th>\n",
       "      <th>onnet_mou_6</th>\n",
       "      <th>onnet_mou_7</th>\n",
       "      <th>offnet_mou_6</th>\n",
       "      <th>offnet_mou_7</th>\n",
       "      <th>roam_ic_mou_6</th>\n",
       "      <th>roam_ic_mou_7</th>\n",
       "      <th>roam_og_mou_6</th>\n",
       "      <th>roam_og_mou_7</th>\n",
       "      <th>loc_og_t2t_mou_6</th>\n",
       "      <th>loc_og_t2t_mou_7</th>\n",
       "      <th>...</th>\n",
       "      <th>std_ic_t2f_mou_6</th>\n",
       "      <th>std_ic_t2f_mou_7</th>\n",
       "      <th>std_ic_mou_6</th>\n",
       "      <th>std_ic_mou_7</th>\n",
       "      <th>spl_ic_mou_6</th>\n",
       "      <th>spl_ic_mou_7</th>\n",
       "      <th>isd_ic_mou_6</th>\n",
       "      <th>isd_ic_mou_7</th>\n",
       "      <th>ic_others_6</th>\n",
       "      <th>ic_others_7</th>\n",
       "    </tr>\n",
       "  </thead>\n",
       "  <tbody>\n",
       "    <tr>\n",
       "      <td>0</td>\n",
       "      <td>0.00</td>\n",
       "      <td>0.00</td>\n",
       "      <td>0.00</td>\n",
       "      <td>0.00</td>\n",
       "      <td>0.0</td>\n",
       "      <td>0.00</td>\n",
       "      <td>0.0</td>\n",
       "      <td>0.00</td>\n",
       "      <td>0.00</td>\n",
       "      <td>0.00</td>\n",
       "      <td>...</td>\n",
       "      <td>0.00</td>\n",
       "      <td>0.00</td>\n",
       "      <td>0.00</td>\n",
       "      <td>0.00</td>\n",
       "      <td>0.00</td>\n",
       "      <td>0.0</td>\n",
       "      <td>0.00</td>\n",
       "      <td>0.00</td>\n",
       "      <td>0.00</td>\n",
       "      <td>0.00</td>\n",
       "    </tr>\n",
       "    <tr>\n",
       "      <td>1</td>\n",
       "      <td>24.11</td>\n",
       "      <td>78.68</td>\n",
       "      <td>15.74</td>\n",
       "      <td>99.84</td>\n",
       "      <td>0.0</td>\n",
       "      <td>0.00</td>\n",
       "      <td>0.0</td>\n",
       "      <td>0.00</td>\n",
       "      <td>23.88</td>\n",
       "      <td>74.56</td>\n",
       "      <td>...</td>\n",
       "      <td>0.00</td>\n",
       "      <td>0.00</td>\n",
       "      <td>5.90</td>\n",
       "      <td>0.00</td>\n",
       "      <td>0.00</td>\n",
       "      <td>0.0</td>\n",
       "      <td>1.83</td>\n",
       "      <td>0.00</td>\n",
       "      <td>0.00</td>\n",
       "      <td>0.00</td>\n",
       "    </tr>\n",
       "    <tr>\n",
       "      <td>2</td>\n",
       "      <td>11.54</td>\n",
       "      <td>55.24</td>\n",
       "      <td>143.33</td>\n",
       "      <td>220.59</td>\n",
       "      <td>0.0</td>\n",
       "      <td>0.00</td>\n",
       "      <td>0.0</td>\n",
       "      <td>0.00</td>\n",
       "      <td>7.19</td>\n",
       "      <td>28.74</td>\n",
       "      <td>...</td>\n",
       "      <td>21.73</td>\n",
       "      <td>58.34</td>\n",
       "      <td>139.33</td>\n",
       "      <td>306.66</td>\n",
       "      <td>0.21</td>\n",
       "      <td>0.0</td>\n",
       "      <td>0.00</td>\n",
       "      <td>0.85</td>\n",
       "      <td>0.93</td>\n",
       "      <td>3.14</td>\n",
       "    </tr>\n",
       "    <tr>\n",
       "      <td>3</td>\n",
       "      <td>99.91</td>\n",
       "      <td>54.39</td>\n",
       "      <td>123.31</td>\n",
       "      <td>109.01</td>\n",
       "      <td>0.0</td>\n",
       "      <td>54.86</td>\n",
       "      <td>0.0</td>\n",
       "      <td>28.09</td>\n",
       "      <td>73.68</td>\n",
       "      <td>34.81</td>\n",
       "      <td>...</td>\n",
       "      <td>1.18</td>\n",
       "      <td>0.00</td>\n",
       "      <td>45.99</td>\n",
       "      <td>105.01</td>\n",
       "      <td>0.59</td>\n",
       "      <td>0.0</td>\n",
       "      <td>0.00</td>\n",
       "      <td>0.00</td>\n",
       "      <td>0.00</td>\n",
       "      <td>0.00</td>\n",
       "    </tr>\n",
       "    <tr>\n",
       "      <td>4</td>\n",
       "      <td>50.31</td>\n",
       "      <td>149.44</td>\n",
       "      <td>76.96</td>\n",
       "      <td>91.88</td>\n",
       "      <td>0.0</td>\n",
       "      <td>0.00</td>\n",
       "      <td>0.0</td>\n",
       "      <td>0.00</td>\n",
       "      <td>50.31</td>\n",
       "      <td>149.44</td>\n",
       "      <td>...</td>\n",
       "      <td>0.00</td>\n",
       "      <td>0.00</td>\n",
       "      <td>1.93</td>\n",
       "      <td>0.25</td>\n",
       "      <td>0.00</td>\n",
       "      <td>0.0</td>\n",
       "      <td>0.00</td>\n",
       "      <td>0.00</td>\n",
       "      <td>0.48</td>\n",
       "      <td>0.00</td>\n",
       "    </tr>\n",
       "  </tbody>\n",
       "</table>\n",
       "<p>5 rows × 54 columns</p>\n",
       "</div>"
      ],
      "text/plain": [
       "   onnet_mou_6  onnet_mou_7  offnet_mou_6  offnet_mou_7  roam_ic_mou_6  \\\n",
       "0         0.00         0.00          0.00          0.00            0.0   \n",
       "1        24.11        78.68         15.74         99.84            0.0   \n",
       "2        11.54        55.24        143.33        220.59            0.0   \n",
       "3        99.91        54.39        123.31        109.01            0.0   \n",
       "4        50.31       149.44         76.96         91.88            0.0   \n",
       "\n",
       "   roam_ic_mou_7  roam_og_mou_6  roam_og_mou_7  loc_og_t2t_mou_6  \\\n",
       "0           0.00            0.0           0.00              0.00   \n",
       "1           0.00            0.0           0.00             23.88   \n",
       "2           0.00            0.0           0.00              7.19   \n",
       "3          54.86            0.0          28.09             73.68   \n",
       "4           0.00            0.0           0.00             50.31   \n",
       "\n",
       "   loc_og_t2t_mou_7  ...  std_ic_t2f_mou_6  std_ic_t2f_mou_7  std_ic_mou_6  \\\n",
       "0              0.00  ...              0.00              0.00          0.00   \n",
       "1             74.56  ...              0.00              0.00          5.90   \n",
       "2             28.74  ...             21.73             58.34        139.33   \n",
       "3             34.81  ...              1.18              0.00         45.99   \n",
       "4            149.44  ...              0.00              0.00          1.93   \n",
       "\n",
       "   std_ic_mou_7  spl_ic_mou_6  spl_ic_mou_7  isd_ic_mou_6  isd_ic_mou_7  \\\n",
       "0          0.00          0.00           0.0          0.00          0.00   \n",
       "1          0.00          0.00           0.0          1.83          0.00   \n",
       "2        306.66          0.21           0.0          0.00          0.85   \n",
       "3        105.01          0.59           0.0          0.00          0.00   \n",
       "4          0.25          0.00           0.0          0.00          0.00   \n",
       "\n",
       "   ic_others_6  ic_others_7  \n",
       "0         0.00         0.00  \n",
       "1         0.00         0.00  \n",
       "2         0.93         3.14  \n",
       "3         0.00         0.00  \n",
       "4         0.48         0.00  \n",
       "\n",
       "[5 rows x 54 columns]"
      ]
     },
     "execution_count": 23,
     "metadata": {},
     "output_type": "execute_result"
    }
   ],
   "source": [
    "%%time\n",
    "telco[null_cols1] = fancy.fit_transform(telco[null_cols1])\n",
    "telco[null_cols1].head()"
   ]
  },
  {
   "cell_type": "code",
   "execution_count": 24,
   "metadata": {},
   "outputs": [
    {
     "name": "stdout",
     "output_type": "stream",
     "text": [
      "Capping Done\n"
     ]
    }
   ],
   "source": [
    "mm = pd.read_csv('min_max_vals.csv')\n",
    "mm.head()\n",
    "\n",
    "for col in range(len(null_cols1)):\n",
    "   if(telco.iloc[col][null_cols1[col]] < mm.iloc[col]['minmum']):\n",
    "       print(mm[col]['minmum'], telco[col][null_cols1[col]])\n",
    "       telco.iloc[col][null_cols1[col]] = 0.0 # mm.iloc[col]['minmum']\n",
    "#    if(telco.iloc[col][null_cols1[col]] > mm.iloc[col]['maxmum']):\n",
    "#        print(mm[col]['minmum'], telco[col][null_cols1[col]])\n",
    "#        telco.iloc[col][null_cols1[col]] = mm.iloc[col]['maxmum']\n",
    "print(\"Capping Done\")"
   ]
  },
  {
   "cell_type": "code",
   "execution_count": 25,
   "metadata": {},
   "outputs": [
    {
     "name": "stdout",
     "output_type": "stream",
     "text": [
      "54\n",
      "0\n"
     ]
    }
   ],
   "source": [
    "null_cols_pct = round((telco.isnull().sum()*100/orig_shape[0]), 2)\n",
    "null_cols2 = null_cols_pct[null_cols_pct > 0]\n",
    "null_cols3 = null_cols2[null_cols2 < 4].index\n",
    "print(len(null_cols2))\n",
    "print(len(null_cols3))"
   ]
  },
  {
   "cell_type": "code",
   "execution_count": 26,
   "metadata": {},
   "outputs": [
    {
     "name": "stdout",
     "output_type": "stream",
     "text": [
      "[]\n"
     ]
    }
   ],
   "source": [
    "mscols4 = [col for col in null_cols3 if 'monthly' in col or 'sachet' in col]\n",
    "print(mscols4)"
   ]
  },
  {
   "cell_type": "code",
   "execution_count": 27,
   "metadata": {},
   "outputs": [],
   "source": [
    "null_cols4 = null_cols[null_cols_pct > 4]\n",
    "null_cols4_idx = null_cols4.index"
   ]
  },
  {
   "cell_type": "code",
   "execution_count": 28,
   "metadata": {},
   "outputs": [
    {
     "name": "stdout",
     "output_type": "stream",
     "text": [
      "54 54\n"
     ]
    },
    {
     "data": {
      "text/html": [
       "<div>\n",
       "<style scoped>\n",
       "    .dataframe tbody tr th:only-of-type {\n",
       "        vertical-align: middle;\n",
       "    }\n",
       "\n",
       "    .dataframe tbody tr th {\n",
       "        vertical-align: top;\n",
       "    }\n",
       "\n",
       "    .dataframe thead th {\n",
       "        text-align: right;\n",
       "    }\n",
       "</style>\n",
       "<table border=\"1\" class=\"dataframe\">\n",
       "  <thead>\n",
       "    <tr style=\"text-align: right;\">\n",
       "      <th></th>\n",
       "      <th>Unnamed: 0</th>\n",
       "      <th>minmum</th>\n",
       "      <th>maxmum</th>\n",
       "    </tr>\n",
       "  </thead>\n",
       "  <tbody>\n",
       "    <tr>\n",
       "      <td>0</td>\n",
       "      <td>0</td>\n",
       "      <td>0.0</td>\n",
       "      <td>10752.56</td>\n",
       "    </tr>\n",
       "    <tr>\n",
       "      <td>1</td>\n",
       "      <td>1</td>\n",
       "      <td>0.0</td>\n",
       "      <td>10427.46</td>\n",
       "    </tr>\n",
       "    <tr>\n",
       "      <td>2</td>\n",
       "      <td>2</td>\n",
       "      <td>0.0</td>\n",
       "      <td>14007.34</td>\n",
       "    </tr>\n",
       "    <tr>\n",
       "      <td>3</td>\n",
       "      <td>3</td>\n",
       "      <td>0.0</td>\n",
       "      <td>10310.76</td>\n",
       "    </tr>\n",
       "    <tr>\n",
       "      <td>4</td>\n",
       "      <td>4</td>\n",
       "      <td>0.0</td>\n",
       "      <td>13095.36</td>\n",
       "    </tr>\n",
       "  </tbody>\n",
       "</table>\n",
       "</div>"
      ],
      "text/plain": [
       "   Unnamed: 0  minmum    maxmum\n",
       "0           0     0.0  10752.56\n",
       "1           1     0.0  10427.46\n",
       "2           2     0.0  14007.34\n",
       "3           3     0.0  10310.76\n",
       "4           4     0.0  13095.36"
      ]
     },
     "execution_count": 28,
     "metadata": {},
     "output_type": "execute_result"
    }
   ],
   "source": [
    "min_val = []\n",
    "max_val = []\n",
    "for col in null_cols4_idx:\n",
    "    if(telco[col].dtype != 'float64'):\n",
    "        continue\n",
    "    telco[col] = telco[col].fillna(0.0)\n",
    "    min_val.append(min(telco[col]))\n",
    "    max_val.append(max(telco[col]))\n",
    "    \n",
    "max_min = pd.DataFrame({'minmum': min_val, 'maxmum': max_val})\n",
    "max_min.to_csv('min_max_vals4.csv', index = True)\n",
    "print(len(min_val), len(max_val))\n",
    "mm4 = pd.read_csv('min_max_vals4.csv')\n",
    "mm4.head()"
   ]
  },
  {
   "cell_type": "markdown",
   "metadata": {},
   "source": [
    "**2.1.4.2 Imputation 2:**"
   ]
  },
  {
   "cell_type": "code",
   "execution_count": 29,
   "metadata": {},
   "outputs": [
    {
     "name": "stdout",
     "output_type": "stream",
     "text": [
      "CPU times: user 42.1 s, sys: 2.81 s, total: 44.9 s\n",
      "Wall time: 23.5 s\n"
     ]
    },
    {
     "data": {
      "text/html": [
       "<div>\n",
       "<style scoped>\n",
       "    .dataframe tbody tr th:only-of-type {\n",
       "        vertical-align: middle;\n",
       "    }\n",
       "\n",
       "    .dataframe tbody tr th {\n",
       "        vertical-align: top;\n",
       "    }\n",
       "\n",
       "    .dataframe thead th {\n",
       "        text-align: right;\n",
       "    }\n",
       "</style>\n",
       "<table border=\"1\" class=\"dataframe\">\n",
       "  <thead>\n",
       "    <tr style=\"text-align: right;\">\n",
       "      <th></th>\n",
       "      <th>onnet_mou_8</th>\n",
       "      <th>onnet_mou_9</th>\n",
       "      <th>offnet_mou_8</th>\n",
       "      <th>offnet_mou_9</th>\n",
       "      <th>roam_ic_mou_8</th>\n",
       "      <th>roam_ic_mou_9</th>\n",
       "      <th>roam_og_mou_8</th>\n",
       "      <th>roam_og_mou_9</th>\n",
       "      <th>loc_og_t2t_mou_8</th>\n",
       "      <th>loc_og_t2t_mou_9</th>\n",
       "      <th>...</th>\n",
       "      <th>std_ic_t2f_mou_8</th>\n",
       "      <th>std_ic_t2f_mou_9</th>\n",
       "      <th>std_ic_mou_8</th>\n",
       "      <th>std_ic_mou_9</th>\n",
       "      <th>spl_ic_mou_8</th>\n",
       "      <th>spl_ic_mou_9</th>\n",
       "      <th>isd_ic_mou_8</th>\n",
       "      <th>isd_ic_mou_9</th>\n",
       "      <th>ic_others_8</th>\n",
       "      <th>ic_others_9</th>\n",
       "    </tr>\n",
       "  </thead>\n",
       "  <tbody>\n",
       "    <tr>\n",
       "      <td>0</td>\n",
       "      <td>0.00</td>\n",
       "      <td>0.00</td>\n",
       "      <td>0.00</td>\n",
       "      <td>0.00</td>\n",
       "      <td>0.00</td>\n",
       "      <td>0.00</td>\n",
       "      <td>0.00</td>\n",
       "      <td>0.00</td>\n",
       "      <td>0.00</td>\n",
       "      <td>0.00</td>\n",
       "      <td>...</td>\n",
       "      <td>0.00</td>\n",
       "      <td>0.00</td>\n",
       "      <td>0.00</td>\n",
       "      <td>0.00</td>\n",
       "      <td>0.0</td>\n",
       "      <td>0.00</td>\n",
       "      <td>0.0</td>\n",
       "      <td>0.00</td>\n",
       "      <td>0.0</td>\n",
       "      <td>0.00</td>\n",
       "    </tr>\n",
       "    <tr>\n",
       "      <td>1</td>\n",
       "      <td>7.68</td>\n",
       "      <td>18.34</td>\n",
       "      <td>304.76</td>\n",
       "      <td>53.76</td>\n",
       "      <td>0.00</td>\n",
       "      <td>0.00</td>\n",
       "      <td>0.00</td>\n",
       "      <td>0.00</td>\n",
       "      <td>7.68</td>\n",
       "      <td>18.34</td>\n",
       "      <td>...</td>\n",
       "      <td>0.00</td>\n",
       "      <td>0.00</td>\n",
       "      <td>14.84</td>\n",
       "      <td>15.01</td>\n",
       "      <td>0.0</td>\n",
       "      <td>0.00</td>\n",
       "      <td>0.0</td>\n",
       "      <td>0.00</td>\n",
       "      <td>0.0</td>\n",
       "      <td>0.00</td>\n",
       "    </tr>\n",
       "    <tr>\n",
       "      <td>2</td>\n",
       "      <td>37.26</td>\n",
       "      <td>74.81</td>\n",
       "      <td>208.36</td>\n",
       "      <td>118.91</td>\n",
       "      <td>0.00</td>\n",
       "      <td>38.49</td>\n",
       "      <td>0.00</td>\n",
       "      <td>70.94</td>\n",
       "      <td>13.58</td>\n",
       "      <td>14.39</td>\n",
       "      <td>...</td>\n",
       "      <td>43.23</td>\n",
       "      <td>3.86</td>\n",
       "      <td>239.03</td>\n",
       "      <td>171.49</td>\n",
       "      <td>0.0</td>\n",
       "      <td>0.45</td>\n",
       "      <td>0.0</td>\n",
       "      <td>0.01</td>\n",
       "      <td>0.0</td>\n",
       "      <td>0.36</td>\n",
       "    </tr>\n",
       "    <tr>\n",
       "      <td>3</td>\n",
       "      <td>310.98</td>\n",
       "      <td>241.71</td>\n",
       "      <td>71.68</td>\n",
       "      <td>113.54</td>\n",
       "      <td>44.38</td>\n",
       "      <td>0.00</td>\n",
       "      <td>39.04</td>\n",
       "      <td>0.00</td>\n",
       "      <td>10.61</td>\n",
       "      <td>15.49</td>\n",
       "      <td>...</td>\n",
       "      <td>0.00</td>\n",
       "      <td>0.00</td>\n",
       "      <td>4.94</td>\n",
       "      <td>143.83</td>\n",
       "      <td>0.0</td>\n",
       "      <td>0.55</td>\n",
       "      <td>0.0</td>\n",
       "      <td>0.00</td>\n",
       "      <td>0.0</td>\n",
       "      <td>0.80</td>\n",
       "    </tr>\n",
       "    <tr>\n",
       "      <td>4</td>\n",
       "      <td>83.89</td>\n",
       "      <td>58.78</td>\n",
       "      <td>124.26</td>\n",
       "      <td>45.81</td>\n",
       "      <td>0.00</td>\n",
       "      <td>0.00</td>\n",
       "      <td>0.00</td>\n",
       "      <td>0.00</td>\n",
       "      <td>83.89</td>\n",
       "      <td>58.78</td>\n",
       "      <td>...</td>\n",
       "      <td>0.00</td>\n",
       "      <td>0.00</td>\n",
       "      <td>0.86</td>\n",
       "      <td>2.31</td>\n",
       "      <td>0.0</td>\n",
       "      <td>0.18</td>\n",
       "      <td>0.0</td>\n",
       "      <td>0.00</td>\n",
       "      <td>0.0</td>\n",
       "      <td>0.00</td>\n",
       "    </tr>\n",
       "  </tbody>\n",
       "</table>\n",
       "<p>5 rows × 54 columns</p>\n",
       "</div>"
      ],
      "text/plain": [
       "   onnet_mou_8  onnet_mou_9  offnet_mou_8  offnet_mou_9  roam_ic_mou_8  \\\n",
       "0         0.00         0.00          0.00          0.00           0.00   \n",
       "1         7.68        18.34        304.76         53.76           0.00   \n",
       "2        37.26        74.81        208.36        118.91           0.00   \n",
       "3       310.98       241.71         71.68        113.54          44.38   \n",
       "4        83.89        58.78        124.26         45.81           0.00   \n",
       "\n",
       "   roam_ic_mou_9  roam_og_mou_8  roam_og_mou_9  loc_og_t2t_mou_8  \\\n",
       "0           0.00           0.00           0.00              0.00   \n",
       "1           0.00           0.00           0.00              7.68   \n",
       "2          38.49           0.00          70.94             13.58   \n",
       "3           0.00          39.04           0.00             10.61   \n",
       "4           0.00           0.00           0.00             83.89   \n",
       "\n",
       "   loc_og_t2t_mou_9  ...  std_ic_t2f_mou_8  std_ic_t2f_mou_9  std_ic_mou_8  \\\n",
       "0              0.00  ...              0.00              0.00          0.00   \n",
       "1             18.34  ...              0.00              0.00         14.84   \n",
       "2             14.39  ...             43.23              3.86        239.03   \n",
       "3             15.49  ...              0.00              0.00          4.94   \n",
       "4             58.78  ...              0.00              0.00          0.86   \n",
       "\n",
       "   std_ic_mou_9  spl_ic_mou_8  spl_ic_mou_9  isd_ic_mou_8  isd_ic_mou_9  \\\n",
       "0          0.00           0.0          0.00           0.0          0.00   \n",
       "1         15.01           0.0          0.00           0.0          0.00   \n",
       "2        171.49           0.0          0.45           0.0          0.01   \n",
       "3        143.83           0.0          0.55           0.0          0.00   \n",
       "4          2.31           0.0          0.18           0.0          0.00   \n",
       "\n",
       "   ic_others_8  ic_others_9  \n",
       "0          0.0         0.00  \n",
       "1          0.0         0.00  \n",
       "2          0.0         0.36  \n",
       "3          0.0         0.80  \n",
       "4          0.0         0.00  \n",
       "\n",
       "[5 rows x 54 columns]"
      ]
     },
     "execution_count": 29,
     "metadata": {},
     "output_type": "execute_result"
    }
   ],
   "source": [
    "%%time\n",
    "telco[null_cols4_idx] = fancy.fit_transform(telco[null_cols4_idx])\n",
    "telco[null_cols4_idx].head()"
   ]
  },
  {
   "cell_type": "code",
   "execution_count": 30,
   "metadata": {},
   "outputs": [
    {
     "name": "stdout",
     "output_type": "stream",
     "text": [
      "Capping Done 2\n"
     ]
    }
   ],
   "source": [
    "mm = pd.read_csv('min_max_vals4.csv')\n",
    "mm.head()\n",
    "\n",
    "for col in range(len(null_cols4_idx)):\n",
    "   if(telco.iloc[col][null_cols4_idx[col]] < mm.iloc[col]['minmum']):\n",
    "       print(mm[col]['minmum'], telco[col][null_cols4_idx[col]])\n",
    "       telco.iloc[col][null_cols4_idx[col]] = 0.0  # mm.iloc[col]['minmum']\n",
    "#    if(telco.iloc[col][null_cols4_idx[col]] > mm.iloc[col]['maxmum']):\n",
    "#        print(mm[col]['minmum'], telco[col][null_cols4_idx[col]])\n",
    "#        telco.iloc[col][null_cols4_idx[col]] = mm.iloc[col]['maxmum']\n",
    "print(\"Capping Done 2\")"
   ]
  },
  {
   "cell_type": "code",
   "execution_count": 31,
   "metadata": {},
   "outputs": [
    {
     "name": "stdout",
     "output_type": "stream",
     "text": [
      "mobile_number     0.0\n",
      "circle_id         0.0\n",
      "loc_og_t2o_mou    0.0\n",
      "std_og_t2o_mou    0.0\n",
      "loc_ic_t2o_mou    0.0\n",
      "                 ... \n",
      "aon               0.0\n",
      "aug_vbc_3g        0.0\n",
      "jul_vbc_3g        0.0\n",
      "jun_vbc_3g        0.0\n",
      "sep_vbc_3g        0.0\n",
      "Length: 179, dtype: float64\n",
      "Series([], dtype: float64)\n"
     ]
    }
   ],
   "source": [
    "null_cols_pct = round((telco.isnull().sum()*100/orig_shape[0]), 2)\n",
    "print(null_cols_pct)\n",
    "print(null_cols_pct[null_cols_pct > 0])"
   ]
  },
  {
   "cell_type": "markdown",
   "metadata": {},
   "source": [
    "* We can see from the above, that the % of nulls in the dataset is 0"
   ]
  },
  {
   "cell_type": "code",
   "execution_count": 32,
   "metadata": {},
   "outputs": [],
   "source": [
    "telco_imp = telco"
   ]
  },
  {
   "cell_type": "code",
   "execution_count": 33,
   "metadata": {},
   "outputs": [],
   "source": [
    "# telco.to_csv('telco_imputed1.csv', index = False, header = True)\n",
    "# telco_imp = pd.read_csv('telco_imputed.csv')\n",
    "# #print(telco.shape)\n",
    "# print(telco_imp.shape)\n",
    "# telco_imp.head()"
   ]
  },
  {
   "cell_type": "code",
   "execution_count": 34,
   "metadata": {},
   "outputs": [
    {
     "name": "stdout",
     "output_type": "stream",
     "text": [
      "0\n"
     ]
    }
   ],
   "source": [
    "sum_nulls = telco_imp.isnull().sum()\n",
    "print(sum_nulls.sum())"
   ]
  },
  {
   "cell_type": "markdown",
   "metadata": {},
   "source": [
    "#### 2.1.5 Identifying and selecting only High Value Customers\n",
    "* A telecom company would always want to ensure that its high value customers do not churn.\n",
    "* So, we identify those 30% customers who contribute to 70% of the company's revenue\n",
    "* We take the total recharge amount of the 6th and 7th month, which are the good months, take the 70th percentile, and consider only those customers who recharge more than this"
   ]
  },
  {
   "cell_type": "code",
   "execution_count": 35,
   "metadata": {},
   "outputs": [
    {
     "data": {
      "text/plain": [
       "0    614\n",
       "1    458\n",
       "2    483\n",
       "3    540\n",
       "4    546\n",
       "Name: tot_rech_amt_6_7, dtype: int64"
      ]
     },
     "execution_count": 35,
     "metadata": {},
     "output_type": "execute_result"
    }
   ],
   "source": [
    "telco_imp['tot_rech_amt_6_7'] = telco_imp.total_rech_amt_6 + telco_imp.total_rech_amt_7\n",
    "telco_imp.tot_rech_amt_6_7.head()"
   ]
  },
  {
   "cell_type": "code",
   "execution_count": 36,
   "metadata": {
    "scrolled": true
   },
   "outputs": [
    {
     "name": "stdout",
     "output_type": "stream",
     "text": [
      "1875.0 737.0 60.0\n"
     ]
    }
   ],
   "source": [
    "q95 = telco_imp.tot_rech_amt_6_7.quantile(0.95)\n",
    "q70 = telco_imp.tot_rech_amt_6_7.quantile(0.70)\n",
    "q05 = telco_imp.tot_rech_amt_6_7.quantile(0.05)\n",
    "print(q95, q70, q05)"
   ]
  },
  {
   "cell_type": "code",
   "execution_count": 37,
   "metadata": {},
   "outputs": [
    {
     "data": {
      "text/plain": [
       "7     2370\n",
       "8     1038\n",
       "13     760\n",
       "16     918\n",
       "17     816\n",
       "Name: tot_rech_amt_6_7, dtype: int64"
      ]
     },
     "execution_count": 37,
     "metadata": {},
     "output_type": "execute_result"
    }
   ],
   "source": [
    "telco_imp = telco_imp[telco_imp['tot_rech_amt_6_7'] > q70]\n",
    "telco_imp.tot_rech_amt_6_7.head()"
   ]
  },
  {
   "cell_type": "code",
   "execution_count": 38,
   "metadata": {},
   "outputs": [
    {
     "data": {
      "text/plain": [
       "(29979, 180)"
      ]
     },
     "execution_count": 38,
     "metadata": {},
     "output_type": "execute_result"
    }
   ],
   "source": [
    "telco_imp.shape"
   ]
  },
  {
   "cell_type": "markdown",
   "metadata": {},
   "source": [
    "#### 2.1.6 Identifying `churn`ed  HVC customers\n",
    "* Further, in the 9th month all the cumstomers who curn, would already have churned\n",
    "* So, we find out those customers whose usage in the 9th month is 0 (outgoing calls, incoming calls and data usage) and these are considered to have churned"
   ]
  },
  {
   "cell_type": "code",
   "execution_count": 39,
   "metadata": {},
   "outputs": [
    {
     "name": "stdout",
     "output_type": "stream",
     "text": [
      "29979\n",
      "Sum of churned Series: 2589\n",
      "SUM OF churn 2: 2589\n"
     ]
    },
    {
     "data": {
      "text/plain": [
       "7     1\n",
       "8     0\n",
       "13    0\n",
       "16    0\n",
       "17    0\n",
       "Name: churn, dtype: int64"
      ]
     },
     "execution_count": 39,
     "metadata": {},
     "output_type": "execute_result"
    }
   ],
   "source": [
    "print(telco_imp.shape[0])\n",
    "churned = pd.Series(np.zeros(telco_imp.shape[0], dtype = int), dtype = int)\n",
    "\n",
    "for i in range(telco_imp.shape[0]):\n",
    "    if ( (telco_imp.iloc[i]['total_og_mou_9'] == 0.0) and \\\n",
    "        (telco_imp.iloc[i]['total_ic_mou_9'] == 0.0) and \\\n",
    "        (telco_imp.iloc[i]['vol_3g_mb_9'] == 0.0) and \\\n",
    "        (telco_imp.iloc[i]['vol_2g_mb_9'] == 0.0) ):\n",
    "        churned[i] = 1\n",
    "\n",
    "\n",
    "telco_imp['churn'] = churned.values\n",
    "\n",
    "print(f'Sum of churned Series: {churned.sum()}')\n",
    "print(f\"SUM OF churn 2: {telco_imp.churn.sum()}\")\n",
    "\n",
    "telco_imp.churn.head()"
   ]
  },
  {
   "cell_type": "code",
   "execution_count": 40,
   "metadata": {},
   "outputs": [
    {
     "name": "stdout",
     "output_type": "stream",
     "text": [
      "8.64\n"
     ]
    }
   ],
   "source": [
    "imbalance_pct = round(telco_imp['churn'].sum()*100/telco_imp['churn'].shape[0], 2)\n",
    "print(imbalance_pct)"
   ]
  },
  {
   "cell_type": "markdown",
   "metadata": {},
   "source": [
    "#### 2.1.7 Imbalance\n",
    "- As can be seen from the above, only `8.64%` of the 29.9K high-value customers have churned\n",
    "- This is a highly imbalanced target variable\n",
    "- We later use the **Weight of Class balancing technique** to balance this DF, while running the classification algorithms"
   ]
  },
  {
   "cell_type": "markdown",
   "metadata": {},
   "source": [
    "#### 2.1.8 Drop all 9th month values\n",
    "* Having found out `churn`ed customers, we drop all the 9th month columns"
   ]
  },
  {
   "cell_type": "code",
   "execution_count": 41,
   "metadata": {},
   "outputs": [
    {
     "name": "stdout",
     "output_type": "stream",
     "text": [
      "(29979, 139)\n"
     ]
    }
   ],
   "source": [
    "cols_9 = [col for col in telco_imp.columns if '_9' in col]\n",
    "telco_imp = telco_imp.drop(cols_9, axis = 1)\n",
    "telco_shape = telco_imp.shape\n",
    "print(telco_shape)"
   ]
  },
  {
   "cell_type": "markdown",
   "metadata": {},
   "source": [
    "* We drop all columns whose sum is 0 since they don't give any variability wrt the target variable, churn"
   ]
  },
  {
   "cell_type": "code",
   "execution_count": 42,
   "metadata": {},
   "outputs": [],
   "source": [
    "telco_imp = telco_imp.drop('last_date_of_month_6', axis = 1)"
   ]
  },
  {
   "cell_type": "markdown",
   "metadata": {},
   "source": [
    "## 3.0 EDA to find some relationships"
   ]
  },
  {
   "cell_type": "markdown",
   "metadata": {},
   "source": [
    "* Since there are too many variables, we can't plot all of them together\n",
    "* So, we plot some sets of variables and find relationships between them\n",
    "* We start by plotting onnet_mou_6, loc_og_t2t_mou_6, loc_og_t2f_mou_6, onnet_mou_7, loc_og_t2t_mou_7, loc_og_t2f_mou_7"
   ]
  },
  {
   "cell_type": "code",
   "execution_count": 43,
   "metadata": {},
   "outputs": [],
   "source": [
    "# pp_cols = ['onnet_mou_6', 'loc_og_t2t_mou_6', 'loc_og_t2f_mou_6', 'onnet_mou_7', \\\n",
    "#            'loc_og_t2t_mou_7', 'loc_og_t2f_mou_7', 'std_og_t2t_mou_6', 'std_og_t2t_mou_7', \\\n",
    "#           'std_og_t2f_mou_6', 'std_og_t2f_mou_7']\n",
    "\n",
    "# telco_imp[pp_cols].head()\n",
    "# sns.pairplot(telco_imp[pp_cols])\n",
    "# plt.show()"
   ]
  },
  {
   "cell_type": "code",
   "execution_count": 44,
   "metadata": {},
   "outputs": [],
   "source": [
    "# pp_cols = ['offnet_mou_6', 'loc_og_t2m_mou_6', 'offnet_mou_7', 'loc_og_t2m_mou_7']\n",
    "\n",
    "# telco_imp[pp_cols].head()\n",
    "# sns.pairplot(telco_imp[pp_cols])\n",
    "# plt.show()"
   ]
  },
  {
   "cell_type": "code",
   "execution_count": 45,
   "metadata": {},
   "outputs": [],
   "source": [
    "# pp_cols = ['std_ic_mou_6', 'std_ic_mou_7', 'isd_ic_mou_6', 'isd_ic_mou_7', 'std_og_mou_6', 'std_og_mou_7', 'isd_og_mou_6', 'isd_og_mou_7']\n",
    "# sns.pairplot(telco_imp[pp_cols])\n",
    "# plt.show()"
   ]
  },
  {
   "cell_type": "markdown",
   "metadata": {},
   "source": [
    "* From the above plots, we can observe the following:\n",
    "    - `offnet_mout_6` (and `offnet_mou_7`) and `loc_og_t2m_mou6` (and `loc_og_t2m_mou_6`) are very closely related to each other\n",
    "    - `std_og_mou_6` and `std_og_mou_7` are also linearly related. \n",
    "    - Similarls `isd_og_mou_7` and `isd_og_mou_6` are also linearly related\n",
    "    - The above 2 are just examples of observations\n",
    "    - However, we add all the 6 and 7 columns since they form the good period"
   ]
  },
  {
   "cell_type": "code",
   "execution_count": 46,
   "metadata": {},
   "outputs": [
    {
     "data": {
      "image/png": "[encoded data removed]",
      "text/plain": [
       "<Figure size 432x288 with 1 Axes>"
      ]
     },
     "metadata": {
      "needs_background": "light"
     },
     "output_type": "display_data"
    }
   ],
   "source": [
    "sns.scatterplot(telco['total_rech_amt_6'], telco['max_rech_amt_6'])\n",
    "plt.show()"
   ]
  },
  {
   "cell_type": "markdown",
   "metadata": {},
   "source": [
    "* From the above plot, we see that there is some linear relationship between `total_rech_amt_6` and `max_rech_amt_6`\n",
    "* It is fairly logcal that the maximum recharge should have a bearing on the total recharge for a particular month"
   ]
  },
  {
   "cell_type": "code",
   "execution_count": 47,
   "metadata": {},
   "outputs": [
    {
     "name": "stdout",
     "output_type": "stream",
     "text": [
      "['monthly_2g_6', 'monthly_2g_7', 'monthly_2g_8', 'sachet_2g_6', 'sachet_2g_7', 'sachet_2g_8', 'monthly_3g_6', 'monthly_3g_7', 'monthly_3g_8', 'sachet_3g_6', 'sachet_3g_7', 'sachet_3g_8']\n"
     ]
    }
   ],
   "source": [
    "monthly_sachet_cols = [col for col in telco_imp.columns if 'monthly' in col or 'sachet' in col]\n",
    "print(monthly_sachet_cols)"
   ]
  },
  {
   "cell_type": "code",
   "execution_count": 48,
   "metadata": {},
   "outputs": [],
   "source": [
    "telco_imp = telco_imp.drop(monthly_sachet_cols, axis = 1)"
   ]
  },
  {
   "cell_type": "code",
   "execution_count": 49,
   "metadata": {},
   "outputs": [
    {
     "name": "stdout",
     "output_type": "stream",
     "text": [
      "9\n",
      "(29979, 117)\n"
     ]
    }
   ],
   "source": [
    "zero_sum_cols = [col for col in zero_sum_cols if '_9' not in col]\n",
    "print(len(zero_sum_cols))\n",
    "telco_imp = telco_imp.drop(zero_sum_cols, axis = 1)\n",
    "telco_shape = telco_imp.shape\n",
    "print(telco_shape)"
   ]
  },
  {
   "cell_type": "markdown",
   "metadata": {},
   "source": [
    "## 4.0 Derived Variables\n",
    "- 6 and 7 are part of good phase. So, for each variable, we can add 6th and 7th month columns to make 1 column and then drop all the separate 6 and 7 columns. This way\n",
    "   - We will be reducing the number of columns\n",
    "   - We will be reducing multicollinearity\n",
    "   - Combining columns of the good phase and using them together"
   ]
  },
  {
   "cell_type": "code",
   "execution_count": 50,
   "metadata": {},
   "outputs": [
    {
     "name": "stdout",
     "output_type": "stream",
     "text": [
      "onnet_og_good_cols: ['loc_og_t2t_mou_6', 'loc_og_t2t_mou_7']\n",
      "\n",
      "onnet_og_good_cols_t2f: ['loc_og_t2f_mou_6', 'loc_og_t2f_mou_7']\n",
      "\n",
      "onnet_og_good_cols_std: ['std_og_t2t_mou_6', 'std_og_t2t_mou_7']\n",
      "\n",
      "onnet_og_good_cols_t2f_std: ['std_og_t2f_mou_6', 'std_og_t2f_mou_7']\n",
      "\n",
      "onnet_ic_good_cols: ['loc_ic_t2t_mou_6', 'loc_ic_t2t_mou_7']\n",
      "\n",
      "onnet_ic_good_cols_t2f: ['loc_ic_t2f_mou_6', 'loc_ic_t2f_mou_7']\n",
      "\n",
      "onnet_ic_good_cols_std: ['std_ic_t2t_mou_6', 'std_ic_t2t_mou_7']\n",
      "\n",
      "onnet_ic_good_cols_t2f_std: ['std_ic_t2f_mou_6', 'std_ic_t2f_mou_7']\n",
      "\n",
      "offnet_og_good_cols: ['loc_og_t2m_mou_6', 'loc_og_t2m_mou_7']\n",
      "\n",
      "offnet_og_good_cols_std: ['std_og_t2m_mou_6', 'std_og_t2m_mou_7']\n",
      "\n",
      "offnet_ic_good_cols: ['loc_ic_t2m_mou_6', 'loc_ic_t2m_mou_7']\n",
      "offnet_ic_good_cols_std: ['std_ic_t2m_mou_6', 'std_ic_t2m_mou_7']\n"
     ]
    },
    {
     "data": {
      "text/plain": [
       "(29979, 105)"
      ]
     },
     "execution_count": 50,
     "metadata": {},
     "output_type": "execute_result"
    }
   ],
   "source": [
    "onnet_og_good_cols = [col for col in telco_imp.columns if ('loc_og_t2t' in col) and ('_6' in col or '_7' in col) ]\n",
    "print(f'onnet_og_good_cols: {onnet_og_good_cols}')\n",
    "telco_imp['og_onnet_good'] = telco_imp[onnet_og_good_cols].sum(axis = 1)\n",
    "telco_imp['og_onnet_good'].head()\n",
    "telco_imp = telco_imp.drop(onnet_og_good_cols, axis = 1)\n",
    "print()\n",
    "\n",
    "onnet_og_good_cols_t2f = [col for col in telco_imp.columns if ('loc_og_t2f' in col) and ('_6' in col or '_7' in col) ]\n",
    "print(f'onnet_og_good_cols_t2f: {onnet_og_good_cols_t2f}')\n",
    "telco_imp['og_onnet_good_t2f'] = telco_imp[onnet_og_good_cols_t2f].sum(axis = 1)\n",
    "telco_imp['og_onnet_good_t2f'].head()\n",
    "telco_imp = telco_imp.drop(onnet_og_good_cols_t2f, axis = 1)\n",
    "print()\n",
    "\n",
    "onnet_og_good_cols_std = [col for col in telco_imp.columns if ('std_og_t2t' in col) and ('_6' in col or '_7' in col) ]\n",
    "print(f'onnet_og_good_cols_std: {onnet_og_good_cols_std}')\n",
    "telco_imp['og_onnet_good_std'] = telco_imp[onnet_og_good_cols_std].sum(axis = 1)\n",
    "telco_imp['og_onnet_good_std'].head()\n",
    "telco_imp = telco_imp.drop(onnet_og_good_cols_std, axis = 1)\n",
    "print()\n",
    "\n",
    "onnet_og_good_cols_t2f_std = [col for col in telco_imp.columns if ('std_og_t2f' in col) and ('_6' in col or '_7' in col) ]\n",
    "print(f'onnet_og_good_cols_t2f_std: {onnet_og_good_cols_t2f_std}')\n",
    "telco_imp['og_onnet_good_t2f_std'] = telco_imp[onnet_og_good_cols_t2f_std].sum(axis = 1)\n",
    "telco_imp['og_onnet_good_t2f_std'].head()\n",
    "telco_imp = telco_imp.drop(onnet_og_good_cols_t2f_std, axis = 1)\n",
    "print()\n",
    "\n",
    "onnet_ic_good_cols = [col for col in telco_imp.columns if ('loc_ic_t2t' in col) and ('_6' in col or '_7' in col) ]\n",
    "print(f'onnet_ic_good_cols: {onnet_ic_good_cols}')\n",
    "telco_imp['ic_onnet_good'] = telco_imp[onnet_ic_good_cols].sum(axis = 1)\n",
    "telco_imp['ic_onnet_good'].head()\n",
    "telco_imp = telco_imp.drop(onnet_ic_good_cols, axis = 1)\n",
    "print()\n",
    "\n",
    "onnet_ic_good_cols_t2f = [col for col in telco_imp.columns if ('loc_ic_t2f' in col) and ('_6' in col or '_7' in col) ]\n",
    "print(f'onnet_ic_good_cols_t2f: {onnet_ic_good_cols_t2f}')\n",
    "telco_imp['ic_onnet_good_t2f'] = telco_imp[onnet_ic_good_cols_t2f].sum(axis = 1)\n",
    "telco_imp['ic_onnet_good_t2f'].head()\n",
    "telco_imp = telco_imp.drop(onnet_ic_good_cols_t2f, axis = 1)\n",
    "print()\n",
    "\n",
    "onnet_ic_good_cols_std = [col for col in telco_imp.columns if ('std_ic_t2t' in col) and ('_6' in col or '_7' in col) ]\n",
    "print(f'onnet_ic_good_cols_std: {onnet_ic_good_cols_std}')\n",
    "telco_imp['ic_onnet_good_std'] = telco_imp[onnet_ic_good_cols_std].sum(axis = 1)\n",
    "telco_imp['ic_onnet_good_std'].head()\n",
    "telco_imp = telco_imp.drop(onnet_ic_good_cols_std, axis = 1)\n",
    "print()\n",
    "\n",
    "onnet_ic_good_cols_t2f_std = [col for col in telco_imp.columns if ('std_ic_t2f' in col) and ('_6' in col or '_7' in col) ]\n",
    "print(f'onnet_ic_good_cols_t2f_std: {onnet_ic_good_cols_t2f_std}')\n",
    "telco_imp['ic_onnet_good_t2f_std'] = telco_imp[onnet_ic_good_cols_t2f_std].sum(axis = 1)\n",
    "telco_imp['ic_onnet_good_t2f_std'].head()\n",
    "telco_imp = telco_imp.drop(onnet_ic_good_cols_t2f_std, axis = 1)\n",
    "print()\n",
    "\n",
    "offnet_og_good_cols = [col for col in telco_imp.columns if ('loc_og_t2m' in col) and ('_6' in col or '_7' in col) ]\n",
    "print(f'offnet_og_good_cols: {offnet_og_good_cols}')\n",
    "telco_imp['og_offnet_good'] = telco_imp[offnet_og_good_cols].sum(axis = 1)\n",
    "telco_imp['og_offnet_good'].head()\n",
    "telco_imp = telco_imp.drop(offnet_og_good_cols, axis = 1)\n",
    "print()\n",
    "\n",
    "offnet_og_good_cols_std = [col for col in telco_imp.columns if ('std_og_t2m' in col) and ('_6' in col or '_7' in col) ]\n",
    "print(f'offnet_og_good_cols_std: {offnet_og_good_cols_std}')\n",
    "telco_imp['og_offnet_good_std'] = telco_imp[offnet_og_good_cols_std].sum(axis = 1)\n",
    "telco_imp['og_offnet_good_std'].head()\n",
    "telco_imp = telco_imp.drop(offnet_og_good_cols_std, axis = 1)\n",
    "print()\n",
    "\n",
    "offnet_ic_good_cols = [col for col in telco_imp.columns if ('loc_ic_t2m' in col) and ('_6' in col or '_7' in col) ]\n",
    "print(f'offnet_ic_good_cols: {offnet_ic_good_cols}')\n",
    "telco_imp['ic_offnet_good'] = telco_imp[offnet_ic_good_cols].sum(axis = 1)\n",
    "telco_imp['ic_offnet_good'].head()\n",
    "telco_imp = telco_imp.drop(offnet_ic_good_cols, axis = 1)\n",
    "\n",
    "offnet_ic_good_cols_std = [col for col in telco_imp.columns if ('std_ic_t2m' in col) and ('_6' in col or '_7' in col) ]\n",
    "print(f'offnet_ic_good_cols_std: {offnet_ic_good_cols_std}')\n",
    "telco_imp['ic_offnet_good_std'] = telco_imp[offnet_ic_good_cols_std].sum(axis = 1)\n",
    "telco_imp['ic_offnet_good_std'].head()\n",
    "telco_imp = telco_imp.drop(offnet_ic_good_cols_std, axis = 1)\n",
    "\n",
    "telco_imp.shape"
   ]
  },
  {
   "cell_type": "code",
   "execution_count": 51,
   "metadata": {},
   "outputs": [
    {
     "name": "stdout",
     "output_type": "stream",
     "text": [
      "vol_2g_mb_good: ['vol_2g_mb_6', 'vol_2g_mb_7']\n",
      "\n",
      "vol_3g_mb_good: ['vol_3g_mb_6', 'vol_3g_mb_7']\n",
      "\n",
      "rech_good_num: ['total_rech_num_6', 'total_rech_num_7']\n",
      "\n",
      "rech_good_amt: ['total_rech_amt_6', 'total_rech_amt_7']\n",
      "\n",
      "max_rech_good: ['max_rech_amt_6', 'max_rech_amt_7']\n",
      "\n",
      "last_day_rech_amt_good: ['last_day_rch_amt_6', 'last_day_rch_amt_7']\n",
      "\n"
     ]
    },
    {
     "data": {
      "text/plain": [
       "(29979, 99)"
      ]
     },
     "execution_count": 51,
     "metadata": {},
     "output_type": "execute_result"
    }
   ],
   "source": [
    "vol_2g_mb_good = [col for col in telco_imp.columns if ('vol_2g_mb' in col) and ('_6' in col or '_7' in col) ]\n",
    "print(f'vol_2g_mb_good: {vol_2g_mb_good}')\n",
    "telco_imp['vol_2g_good'] = telco_imp[vol_2g_mb_good].sum(axis = 1)\n",
    "telco_imp['vol_2g_good'].head()\n",
    "telco_imp = telco_imp.drop(vol_2g_mb_good, axis = 1)\n",
    "print()\n",
    "\n",
    "vol_3g_mb_good = [col for col in telco_imp.columns if ('vol_3g_mb' in col) and ('_6' in col or '_7' in col) ]\n",
    "print(f'vol_3g_mb_good: {vol_3g_mb_good}')\n",
    "telco_imp['vol_3g_good'] = telco_imp[vol_3g_mb_good].sum(axis = 1)\n",
    "telco_imp['vol_3g_good'].head()\n",
    "telco_imp = telco_imp.drop(vol_3g_mb_good, axis = 1)\n",
    "print()\n",
    "\n",
    "rech_good_num = [col for col in telco_imp.columns if ('total_rech_num' in col) and ('_6' in col or '_7' in col) ]\n",
    "print(f'rech_good_num: {rech_good_num}')\n",
    "telco_imp['total_rech_num_good'] = telco_imp[rech_good_num].sum(axis = 1)\n",
    "telco_imp['total_rech_num_good'].head()\n",
    "telco_imp = telco_imp.drop(rech_good_num, axis = 1)\n",
    "print()\n",
    "\n",
    "rech_good_amt = [col for col in telco_imp.columns if ('total_rech_amt' in col) and ('_6' in col or '_7' in col) ]\n",
    "print(f'rech_good_amt: {rech_good_amt}')\n",
    "telco_imp['total_rech_amt_good'] = telco_imp[rech_good_amt].sum(axis = 1)\n",
    "telco_imp['total_rech_amt_good'].head()\n",
    "telco_imp = telco_imp.drop(rech_good_amt, axis = 1)\n",
    "print()\n",
    "\n",
    "max_rech_good = [col for col in telco_imp.columns if ('max_rech_amt' in col) and ('_6' in col or '_7' in col) ]\n",
    "print(f'max_rech_good: {max_rech_good}')\n",
    "telco_imp['max_rech_amt_good'] = telco_imp[max_rech_good].sum(axis = 1)\n",
    "telco_imp['max_rech_amt_good'].head()\n",
    "telco_imp = telco_imp.drop(max_rech_good, axis = 1)\n",
    "print()\n",
    "\n",
    "last_day_rech_amt_good = [col for col in telco_imp.columns if ('last_day_rch_amt' in col) and ('_6' in col or '_7' in col) ]\n",
    "print(f'last_day_rech_amt_good: {last_day_rech_amt_good}')\n",
    "telco_imp['last_day_rch_good'] = telco_imp[last_day_rech_amt_good].sum(axis = 1)\n",
    "telco_imp['last_day_rch_good'].head()\n",
    "telco_imp = telco_imp.drop(last_day_rech_amt_good, axis = 1)\n",
    "print()\n",
    "\n",
    "telco_imp.shape"
   ]
  },
  {
   "cell_type": "code",
   "execution_count": 52,
   "metadata": {},
   "outputs": [
    {
     "data": {
      "text/plain": [
       "(29979, 96)"
      ]
     },
     "execution_count": 52,
     "metadata": {},
     "output_type": "execute_result"
    }
   ],
   "source": [
    "telco_imp['arpu_good'] = telco_imp[['arpu_6', 'arpu_7']].sum(axis = 1)\n",
    "telco_imp = telco_imp.drop(['arpu_6', 'arpu_7'], axis = 1)\n",
    "\n",
    "telco_imp['onnet_good'] = telco_imp[['onnet_mou_6', 'onnet_mou_7']].sum(axis = 1)\n",
    "telco_imp = telco_imp.drop(['onnet_mou_6', 'onnet_mou_7'], axis = 1)\n",
    "\n",
    "telco_imp['offnet_good'] = telco_imp[['offnet_mou_6', 'offnet_mou_7']].sum(axis = 1)\n",
    "telco_imp = telco_imp.drop(['offnet_mou_6', 'offnet_mou_7'], axis = 1)\n",
    "telco_imp.shape"
   ]
  },
  {
   "cell_type": "code",
   "execution_count": 53,
   "metadata": {},
   "outputs": [
    {
     "data": {
      "text/plain": [
       "(29979, 94)"
      ]
     },
     "execution_count": 53,
     "metadata": {},
     "output_type": "execute_result"
    }
   ],
   "source": [
    "telco_imp['roam_ic_good'] = telco_imp[['roam_ic_mou_6', 'roam_ic_mou_7']].sum(axis = 1)\n",
    "telco_imp = telco_imp.drop(['roam_ic_mou_6', 'roam_ic_mou_7'], axis = 1)\n",
    "\n",
    "telco_imp['roam_og_good'] = telco_imp[['roam_og_mou_6', 'roam_og_mou_7']].sum(axis = 1)\n",
    "telco_imp = telco_imp.drop(['roam_og_mou_6', 'roam_og_mou_7'], axis = 1)\n",
    "telco_imp.shape"
   ]
  },
  {
   "cell_type": "code",
   "execution_count": 54,
   "metadata": {},
   "outputs": [
    {
     "data": {
      "text/plain": [
       "(29979, 90)"
      ]
     },
     "execution_count": 54,
     "metadata": {},
     "output_type": "execute_result"
    }
   ],
   "source": [
    "telco_imp['std_ic_good'] = telco_imp[['std_ic_mou_6', 'std_ic_mou_7']].sum(axis = 1)\n",
    "telco_imp = telco_imp.drop(['std_ic_mou_6', 'std_ic_mou_7'], axis = 1)\n",
    "\n",
    "telco_imp['std_og_good'] = telco_imp[['std_og_mou_6', 'std_og_mou_7']].sum(axis = 1)\n",
    "telco_imp = telco_imp.drop(['std_og_mou_6', 'std_og_mou_7'], axis = 1)\n",
    "\n",
    "telco_imp['isd_ic_good'] = telco_imp[['isd_ic_mou_6', 'isd_ic_mou_7']].sum(axis = 1)\n",
    "telco_imp = telco_imp.drop(['isd_ic_mou_6', 'isd_ic_mou_7'], axis = 1)\n",
    "\n",
    "telco_imp['isd_og_good'] = telco_imp[['isd_og_mou_6', 'isd_og_mou_7']].sum(axis = 1)\n",
    "telco_imp = telco_imp.drop(['isd_og_mou_6', 'isd_og_mou_7'], axis = 1)\n",
    "telco_imp.shape"
   ]
  },
  {
   "cell_type": "code",
   "execution_count": 55,
   "metadata": {},
   "outputs": [
    {
     "data": {
      "text/plain": [
       "(29979, 88)"
      ]
     },
     "execution_count": 55,
     "metadata": {},
     "output_type": "execute_result"
    }
   ],
   "source": [
    "telco_imp['loc_og_t2c_good'] = telco_imp[['loc_og_t2c_mou_6', 'loc_og_t2c_mou_7']].sum(axis = 1)\n",
    "telco_imp = telco_imp.drop(['loc_og_t2c_mou_6', 'loc_og_t2c_mou_7'], axis = 1)\n",
    "\n",
    "telco_imp['total_og_good'] = telco_imp[['total_og_mou_6', 'total_og_mou_7']].sum(axis = 1)\n",
    "telco_imp = telco_imp.drop(['total_og_mou_6', 'total_og_mou_7'], axis = 1)\n",
    "telco_imp.shape"
   ]
  },
  {
   "cell_type": "code",
   "execution_count": 56,
   "metadata": {},
   "outputs": [],
   "source": [
    "telco_imp['loc_og_mou_good'] = telco_imp[['loc_og_mou_6', 'loc_og_mou_7']].sum(axis = 1)\n",
    "telco_imp = telco_imp.drop(['loc_og_mou_6', 'loc_og_mou_7'], axis = 1)\n",
    "\n",
    "telco_imp['spl_og_mou_good'] = telco_imp[['spl_og_mou_6', 'spl_og_mou_7']].sum(axis = 1)\n",
    "telco_imp = telco_imp.drop(['spl_og_mou_6', 'spl_og_mou_7'], axis = 1)\n",
    "\n",
    "telco_imp['og_others_good'] = telco_imp[['og_others_6', 'og_others_7']].sum(axis = 1)\n",
    "telco_imp = telco_imp.drop(['og_others_6', 'og_others_7'], axis = 1)\n",
    "\n",
    "telco_imp['loc_ic_mou_good'] = telco_imp[['loc_ic_mou_6', 'loc_ic_mou_7']].sum(axis = 1)\n",
    "telco_imp = telco_imp.drop(['loc_ic_mou_6', 'loc_ic_mou_7'], axis = 1)\n",
    "\n",
    "telco_imp['spl_ic_mou_good'] = telco_imp[['spl_ic_mou_6', 'spl_ic_mou_7']].sum(axis = 1)\n",
    "telco_imp = telco_imp.drop(['spl_ic_mou_6', 'spl_ic_mou_7'], axis = 1)\n",
    "\n",
    "telco_imp['ic_others_good'] = telco_imp[['ic_others_6', 'ic_others_7']].sum(axis = 1)\n",
    "telco_imp = telco_imp.drop(['ic_others_6', 'ic_others_7'], axis = 1)"
   ]
  },
  {
   "cell_type": "code",
   "execution_count": 57,
   "metadata": {},
   "outputs": [
    {
     "data": {
      "text/plain": [
       "(29979, 81)"
      ]
     },
     "execution_count": 57,
     "metadata": {},
     "output_type": "execute_result"
    }
   ],
   "source": [
    "telco_imp['total_ic_mou_good'] = telco_imp[['total_ic_mou_6', 'total_ic_mou_7']].sum(axis = 1)\n",
    "telco_imp = telco_imp.drop(['total_ic_mou_6', 'total_ic_mou_7'], axis = 1)\n",
    "telco_imp.shape"
   ]
  },
  {
   "cell_type": "code",
   "execution_count": 58,
   "metadata": {},
   "outputs": [],
   "source": [
    "telco_imp = telco_imp.drop('tot_rech_amt_6_7', axis = 1)"
   ]
  },
  {
   "cell_type": "code",
   "execution_count": 59,
   "metadata": {},
   "outputs": [],
   "source": [
    "telco_imp = telco_imp.drop(['arpu_good', 'arpu_8'], axis = 1)"
   ]
  },
  {
   "cell_type": "code",
   "execution_count": 60,
   "metadata": {},
   "outputs": [
    {
     "data": {
      "image/png": "[encoded data removed]",
      "text/plain": [
       "<Figure size 432x288 with 1 Axes>"
      ]
     },
     "metadata": {
      "needs_background": "light"
     },
     "output_type": "display_data"
    }
   ],
   "source": [
    "sns.boxplot(telco_imp['og_onnet_good'], orient = 'v')\n",
    "plt.show()"
   ]
  },
  {
   "cell_type": "code",
   "execution_count": 61,
   "metadata": {},
   "outputs": [
    {
     "data": {
      "image/png": "[encoded data removed]",
      "text/plain": [
       "<Figure size 432x288 with 1 Axes>"
      ]
     },
     "metadata": {
      "needs_background": "light"
     },
     "output_type": "display_data"
    }
   ],
   "source": [
    "sns.boxplot(telco_imp['og_onnet_good_t2f'], orient = 'v')\n",
    "plt.show()"
   ]
  },
  {
   "cell_type": "markdown",
   "metadata": {},
   "source": [
    "* We can see from the above, that the og_onnet_good and og_onneg_good_t2f there are quite a few outliers in these 2 columns\n",
    "* Similarly, the other numeric columns can also be expected to have outliers\n",
    "* It would be required to Scale the numeric columns\n",
    "\n",
    "**IMPORTANT OBSERVATION:**<br>\n",
    "  One of the importatnt observation was:\n",
    "\n",
    "- When we ran PCA **without scaling**, we found that the number of variables required for a particular variance_explained value, is **far lesser** than after scaling\n",
    "    - Eg. With scaling, the no. of PCA components/variables required is 59\n",
    "    - If we run this ame thing without scaling, the no. of variabls is about 30-35\n",
    "- It is an observation that this might be due to the large number of outliers in the columns as seen above"
   ]
  },
  {
   "cell_type": "code",
   "execution_count": 62,
   "metadata": {},
   "outputs": [],
   "source": [
    "X = telco_imp.drop('churn', axis = 1)\n",
    "y = telco_imp['churn']"
   ]
  },
  {
   "cell_type": "code",
   "execution_count": 63,
   "metadata": {},
   "outputs": [],
   "source": [
    "X = X.drop(['mobile_number', 'circle_id'], axis = 1)"
   ]
  },
  {
   "cell_type": "code",
   "execution_count": 64,
   "metadata": {},
   "outputs": [
    {
     "data": {
      "text/plain": [
       "75"
      ]
     },
     "execution_count": 64,
     "metadata": {},
     "output_type": "execute_result"
    }
   ],
   "source": [
    "num_cols = [col for col in X.columns if 'monthly' not in col and 'sachet' not in col]\n",
    "len(num_cols)"
   ]
  },
  {
   "cell_type": "code",
   "execution_count": 65,
   "metadata": {},
   "outputs": [
    {
     "data": {
      "text/html": [
       "<div>\n",
       "<style scoped>\n",
       "    .dataframe tbody tr th:only-of-type {\n",
       "        vertical-align: middle;\n",
       "    }\n",
       "\n",
       "    .dataframe tbody tr th {\n",
       "        vertical-align: top;\n",
       "    }\n",
       "\n",
       "    .dataframe thead th {\n",
       "        text-align: right;\n",
       "    }\n",
       "</style>\n",
       "<table border=\"1\" class=\"dataframe\">\n",
       "  <thead>\n",
       "    <tr style=\"text-align: right;\">\n",
       "      <th></th>\n",
       "      <th>onnet_mou_8</th>\n",
       "      <th>offnet_mou_8</th>\n",
       "      <th>roam_ic_mou_8</th>\n",
       "      <th>roam_og_mou_8</th>\n",
       "      <th>loc_og_t2t_mou_8</th>\n",
       "      <th>loc_og_t2m_mou_8</th>\n",
       "      <th>loc_og_t2f_mou_8</th>\n",
       "      <th>loc_og_t2c_mou_8</th>\n",
       "      <th>loc_og_mou_8</th>\n",
       "      <th>std_og_t2t_mou_8</th>\n",
       "      <th>...</th>\n",
       "      <th>isd_og_good</th>\n",
       "      <th>loc_og_t2c_good</th>\n",
       "      <th>total_og_good</th>\n",
       "      <th>loc_og_mou_good</th>\n",
       "      <th>spl_og_mou_good</th>\n",
       "      <th>og_others_good</th>\n",
       "      <th>loc_ic_mou_good</th>\n",
       "      <th>spl_ic_mou_good</th>\n",
       "      <th>ic_others_good</th>\n",
       "      <th>total_ic_mou_good</th>\n",
       "    </tr>\n",
       "  </thead>\n",
       "  <tbody>\n",
       "    <tr>\n",
       "      <td>7</td>\n",
       "      <td>52.29</td>\n",
       "      <td>325.91</td>\n",
       "      <td>31.64</td>\n",
       "      <td>38.06</td>\n",
       "      <td>40.28</td>\n",
       "      <td>162.28</td>\n",
       "      <td>53.23</td>\n",
       "      <td>0.00</td>\n",
       "      <td>255.79</td>\n",
       "      <td>12.01</td>\n",
       "      <td>...</td>\n",
       "      <td>0.18</td>\n",
       "      <td>0.0</td>\n",
       "      <td>1096.77</td>\n",
       "      <td>956.07</td>\n",
       "      <td>4.50</td>\n",
       "      <td>0.00</td>\n",
       "      <td>783.11</td>\n",
       "      <td>0.21</td>\n",
       "      <td>30.93</td>\n",
       "      <td>1184.50</td>\n",
       "    </tr>\n",
       "    <tr>\n",
       "      <td>8</td>\n",
       "      <td>35.08</td>\n",
       "      <td>136.48</td>\n",
       "      <td>0.00</td>\n",
       "      <td>0.00</td>\n",
       "      <td>12.49</td>\n",
       "      <td>50.54</td>\n",
       "      <td>0.00</td>\n",
       "      <td>7.15</td>\n",
       "      <td>63.04</td>\n",
       "      <td>22.58</td>\n",
       "      <td>...</td>\n",
       "      <td>0.00</td>\n",
       "      <td>0.0</td>\n",
       "      <td>940.02</td>\n",
       "      <td>666.27</td>\n",
       "      <td>0.00</td>\n",
       "      <td>0.00</td>\n",
       "      <td>105.26</td>\n",
       "      <td>0.00</td>\n",
       "      <td>0.00</td>\n",
       "      <td>132.35</td>\n",
       "    </tr>\n",
       "    <tr>\n",
       "      <td>13</td>\n",
       "      <td>534.24</td>\n",
       "      <td>482.46</td>\n",
       "      <td>72.11</td>\n",
       "      <td>1.44</td>\n",
       "      <td>36.01</td>\n",
       "      <td>294.46</td>\n",
       "      <td>23.51</td>\n",
       "      <td>0.49</td>\n",
       "      <td>353.99</td>\n",
       "      <td>498.23</td>\n",
       "      <td>...</td>\n",
       "      <td>0.00</td>\n",
       "      <td>0.0</td>\n",
       "      <td>1099.50</td>\n",
       "      <td>258.79</td>\n",
       "      <td>0.00</td>\n",
       "      <td>0.00</td>\n",
       "      <td>241.69</td>\n",
       "      <td>0.45</td>\n",
       "      <td>99.72</td>\n",
       "      <td>1141.19</td>\n",
       "    </tr>\n",
       "    <tr>\n",
       "      <td>16</td>\n",
       "      <td>70.61</td>\n",
       "      <td>162.76</td>\n",
       "      <td>0.00</td>\n",
       "      <td>0.00</td>\n",
       "      <td>67.38</td>\n",
       "      <td>128.28</td>\n",
       "      <td>10.26</td>\n",
       "      <td>0.00</td>\n",
       "      <td>205.93</td>\n",
       "      <td>3.23</td>\n",
       "      <td>...</td>\n",
       "      <td>0.00</td>\n",
       "      <td>0.0</td>\n",
       "      <td>632.82</td>\n",
       "      <td>531.55</td>\n",
       "      <td>3.26</td>\n",
       "      <td>0.00</td>\n",
       "      <td>506.69</td>\n",
       "      <td>0.00</td>\n",
       "      <td>0.00</td>\n",
       "      <td>746.42</td>\n",
       "    </tr>\n",
       "    <tr>\n",
       "      <td>17</td>\n",
       "      <td>7.79</td>\n",
       "      <td>5.54</td>\n",
       "      <td>4.81</td>\n",
       "      <td>13.34</td>\n",
       "      <td>0.00</td>\n",
       "      <td>0.00</td>\n",
       "      <td>0.00</td>\n",
       "      <td>0.00</td>\n",
       "      <td>0.00</td>\n",
       "      <td>0.00</td>\n",
       "      <td>...</td>\n",
       "      <td>0.00</td>\n",
       "      <td>0.0</td>\n",
       "      <td>1250.34</td>\n",
       "      <td>97.54</td>\n",
       "      <td>2.58</td>\n",
       "      <td>0.93</td>\n",
       "      <td>84.27</td>\n",
       "      <td>0.00</td>\n",
       "      <td>0.00</td>\n",
       "      <td>94.19</td>\n",
       "    </tr>\n",
       "  </tbody>\n",
       "</table>\n",
       "<p>5 rows × 75 columns</p>\n",
       "</div>"
      ],
      "text/plain": [
       "    onnet_mou_8  offnet_mou_8  roam_ic_mou_8  roam_og_mou_8  loc_og_t2t_mou_8  \\\n",
       "7         52.29        325.91          31.64          38.06             40.28   \n",
       "8         35.08        136.48           0.00           0.00             12.49   \n",
       "13       534.24        482.46          72.11           1.44             36.01   \n",
       "16        70.61        162.76           0.00           0.00             67.38   \n",
       "17         7.79          5.54           4.81          13.34              0.00   \n",
       "\n",
       "    loc_og_t2m_mou_8  loc_og_t2f_mou_8  loc_og_t2c_mou_8  loc_og_mou_8  \\\n",
       "7             162.28             53.23              0.00        255.79   \n",
       "8              50.54              0.00              7.15         63.04   \n",
       "13            294.46             23.51              0.49        353.99   \n",
       "16            128.28             10.26              0.00        205.93   \n",
       "17              0.00              0.00              0.00          0.00   \n",
       "\n",
       "    std_og_t2t_mou_8  ...  isd_og_good  loc_og_t2c_good  total_og_good  \\\n",
       "7              12.01  ...         0.18              0.0        1096.77   \n",
       "8              22.58  ...         0.00              0.0         940.02   \n",
       "13            498.23  ...         0.00              0.0        1099.50   \n",
       "16              3.23  ...         0.00              0.0         632.82   \n",
       "17              0.00  ...         0.00              0.0        1250.34   \n",
       "\n",
       "    loc_og_mou_good  spl_og_mou_good  og_others_good  loc_ic_mou_good  \\\n",
       "7            956.07             4.50            0.00           783.11   \n",
       "8            666.27             0.00            0.00           105.26   \n",
       "13           258.79             0.00            0.00           241.69   \n",
       "16           531.55             3.26            0.00           506.69   \n",
       "17            97.54             2.58            0.93            84.27   \n",
       "\n",
       "    spl_ic_mou_good  ic_others_good  total_ic_mou_good  \n",
       "7              0.21           30.93            1184.50  \n",
       "8              0.00            0.00             132.35  \n",
       "13             0.45           99.72            1141.19  \n",
       "16             0.00            0.00             746.42  \n",
       "17             0.00            0.00              94.19  \n",
       "\n",
       "[5 rows x 75 columns]"
      ]
     },
     "execution_count": 65,
     "metadata": {},
     "output_type": "execute_result"
    }
   ],
   "source": [
    "telco_imp[num_cols].head()"
   ]
  },
  {
   "cell_type": "markdown",
   "metadata": {},
   "source": [
    "## 5.0 High Performance models\n",
    "\n",
    "### 5.1. PCA\n",
    "* This database is a very big database with a huge number of columns\n",
    "* Using all these columns and handling them will be a big problem.\n",
    "* So, we do PCA to reduce the dimensionality of the dataset\n",
    "* We then run the following models on the reduced dimension dataset:\n",
    "   1. **Logistic Regression**\n",
    "   2. **Random Forests**\n",
    "   3. **Decision Tree**"
   ]
  },
  {
   "cell_type": "code",
   "execution_count": 66,
   "metadata": {},
   "outputs": [],
   "source": [
    "pca = PCA(random_state = 42)"
   ]
  },
  {
   "cell_type": "code",
   "execution_count": 67,
   "metadata": {},
   "outputs": [
    {
     "data": {
      "text/plain": [
       "Index(['mobile_number', 'circle_id', 'onnet_mou_8', 'offnet_mou_8',\n",
       "       'roam_ic_mou_8', 'roam_og_mou_8', 'loc_og_t2t_mou_8',\n",
       "       'loc_og_t2m_mou_8', 'loc_og_t2f_mou_8', 'loc_og_t2c_mou_8',\n",
       "       'loc_og_mou_8', 'std_og_t2t_mou_8', 'std_og_t2m_mou_8',\n",
       "       'std_og_t2f_mou_8', 'std_og_mou_8', 'isd_og_mou_8', 'spl_og_mou_8',\n",
       "       'og_others_8', 'total_og_mou_8', 'loc_ic_t2t_mou_8', 'loc_ic_t2m_mou_8',\n",
       "       'loc_ic_t2f_mou_8', 'loc_ic_mou_8', 'std_ic_t2t_mou_8',\n",
       "       'std_ic_t2m_mou_8', 'std_ic_t2f_mou_8', 'std_ic_mou_8',\n",
       "       'total_ic_mou_8', 'spl_ic_mou_8', 'isd_ic_mou_8', 'ic_others_8',\n",
       "       'total_rech_num_8', 'total_rech_amt_8', 'max_rech_amt_8',\n",
       "       'last_day_rch_amt_8', 'vol_2g_mb_8', 'vol_3g_mb_8', 'aon', 'aug_vbc_3g',\n",
       "       'jul_vbc_3g', 'jun_vbc_3g', 'sep_vbc_3g', 'churn', 'og_onnet_good',\n",
       "       'og_onnet_good_t2f', 'og_onnet_good_std', 'og_onnet_good_t2f_std',\n",
       "       'ic_onnet_good', 'ic_onnet_good_t2f', 'ic_onnet_good_std',\n",
       "       'ic_onnet_good_t2f_std', 'og_offnet_good', 'og_offnet_good_std',\n",
       "       'ic_offnet_good', 'ic_offnet_good_std', 'vol_2g_good', 'vol_3g_good',\n",
       "       'total_rech_num_good', 'total_rech_amt_good', 'max_rech_amt_good',\n",
       "       'last_day_rch_good', 'onnet_good', 'offnet_good', 'roam_ic_good',\n",
       "       'roam_og_good', 'std_ic_good', 'std_og_good', 'isd_ic_good',\n",
       "       'isd_og_good', 'loc_og_t2c_good', 'total_og_good', 'loc_og_mou_good',\n",
       "       'spl_og_mou_good', 'og_others_good', 'loc_ic_mou_good',\n",
       "       'spl_ic_mou_good', 'ic_others_good', 'total_ic_mou_good'],\n",
       "      dtype='object')"
      ]
     },
     "execution_count": 67,
     "metadata": {},
     "output_type": "execute_result"
    }
   ],
   "source": [
    "telco_imp.columns"
   ]
  },
  {
   "cell_type": "markdown",
   "metadata": {},
   "source": [
    "#### 5.1.1  Train Test Split and Scaling\n",
    "* We divide the data into train and test using a 70-30 ratio\n",
    "* We then scale the train and test sets using the Standard scaler"
   ]
  },
  {
   "cell_type": "code",
   "execution_count": 69,
   "metadata": {},
   "outputs": [
    {
     "data": {
      "text/html": [
       "<div>\n",
       "<style scoped>\n",
       "    .dataframe tbody tr th:only-of-type {\n",
       "        vertical-align: middle;\n",
       "    }\n",
       "\n",
       "    .dataframe tbody tr th {\n",
       "        vertical-align: top;\n",
       "    }\n",
       "\n",
       "    .dataframe thead th {\n",
       "        text-align: right;\n",
       "    }\n",
       "</style>\n",
       "<table border=\"1\" class=\"dataframe\">\n",
       "  <thead>\n",
       "    <tr style=\"text-align: right;\">\n",
       "      <th></th>\n",
       "      <th>onnet_mou_8</th>\n",
       "      <th>offnet_mou_8</th>\n",
       "      <th>roam_ic_mou_8</th>\n",
       "      <th>roam_og_mou_8</th>\n",
       "      <th>loc_og_t2t_mou_8</th>\n",
       "      <th>loc_og_t2m_mou_8</th>\n",
       "      <th>loc_og_t2f_mou_8</th>\n",
       "      <th>loc_og_t2c_mou_8</th>\n",
       "      <th>loc_og_mou_8</th>\n",
       "      <th>std_og_t2t_mou_8</th>\n",
       "      <th>...</th>\n",
       "      <th>isd_og_good</th>\n",
       "      <th>loc_og_t2c_good</th>\n",
       "      <th>total_og_good</th>\n",
       "      <th>loc_og_mou_good</th>\n",
       "      <th>spl_og_mou_good</th>\n",
       "      <th>og_others_good</th>\n",
       "      <th>loc_ic_mou_good</th>\n",
       "      <th>spl_ic_mou_good</th>\n",
       "      <th>ic_others_good</th>\n",
       "      <th>total_ic_mou_good</th>\n",
       "    </tr>\n",
       "  </thead>\n",
       "  <tbody>\n",
       "    <tr>\n",
       "      <td>39311</td>\n",
       "      <td>328.64</td>\n",
       "      <td>214.84</td>\n",
       "      <td>135.66</td>\n",
       "      <td>279.34</td>\n",
       "      <td>4.91</td>\n",
       "      <td>60.66</td>\n",
       "      <td>0.00</td>\n",
       "      <td>0.00</td>\n",
       "      <td>65.58</td>\n",
       "      <td>186.71</td>\n",
       "      <td>...</td>\n",
       "      <td>0.00</td>\n",
       "      <td>6.88</td>\n",
       "      <td>3696.43</td>\n",
       "      <td>213.80</td>\n",
       "      <td>40.39</td>\n",
       "      <td>0.00</td>\n",
       "      <td>154.01</td>\n",
       "      <td>0.0</td>\n",
       "      <td>0.00</td>\n",
       "      <td>244.55</td>\n",
       "    </tr>\n",
       "    <tr>\n",
       "      <td>51422</td>\n",
       "      <td>44.98</td>\n",
       "      <td>454.71</td>\n",
       "      <td>55.41</td>\n",
       "      <td>204.13</td>\n",
       "      <td>10.53</td>\n",
       "      <td>43.14</td>\n",
       "      <td>3.36</td>\n",
       "      <td>0.00</td>\n",
       "      <td>57.04</td>\n",
       "      <td>5.41</td>\n",
       "      <td>...</td>\n",
       "      <td>0.00</td>\n",
       "      <td>4.03</td>\n",
       "      <td>602.32</td>\n",
       "      <td>111.34</td>\n",
       "      <td>17.10</td>\n",
       "      <td>0.00</td>\n",
       "      <td>95.76</td>\n",
       "      <td>0.0</td>\n",
       "      <td>0.00</td>\n",
       "      <td>231.94</td>\n",
       "    </tr>\n",
       "    <tr>\n",
       "      <td>43065</td>\n",
       "      <td>10.11</td>\n",
       "      <td>77.88</td>\n",
       "      <td>0.00</td>\n",
       "      <td>0.00</td>\n",
       "      <td>9.58</td>\n",
       "      <td>71.06</td>\n",
       "      <td>6.81</td>\n",
       "      <td>0.00</td>\n",
       "      <td>87.46</td>\n",
       "      <td>0.53</td>\n",
       "      <td>...</td>\n",
       "      <td>0.00</td>\n",
       "      <td>0.00</td>\n",
       "      <td>181.86</td>\n",
       "      <td>160.46</td>\n",
       "      <td>12.15</td>\n",
       "      <td>0.91</td>\n",
       "      <td>271.71</td>\n",
       "      <td>0.0</td>\n",
       "      <td>1.62</td>\n",
       "      <td>306.61</td>\n",
       "    </tr>\n",
       "    <tr>\n",
       "      <td>34894</td>\n",
       "      <td>195.64</td>\n",
       "      <td>300.14</td>\n",
       "      <td>0.00</td>\n",
       "      <td>0.00</td>\n",
       "      <td>100.89</td>\n",
       "      <td>150.49</td>\n",
       "      <td>110.73</td>\n",
       "      <td>0.00</td>\n",
       "      <td>362.13</td>\n",
       "      <td>94.74</td>\n",
       "      <td>...</td>\n",
       "      <td>0.13</td>\n",
       "      <td>0.00</td>\n",
       "      <td>868.42</td>\n",
       "      <td>644.94</td>\n",
       "      <td>9.52</td>\n",
       "      <td>0.00</td>\n",
       "      <td>260.00</td>\n",
       "      <td>0.0</td>\n",
       "      <td>0.05</td>\n",
       "      <td>322.44</td>\n",
       "    </tr>\n",
       "    <tr>\n",
       "      <td>89518</td>\n",
       "      <td>45.61</td>\n",
       "      <td>939.99</td>\n",
       "      <td>1.94</td>\n",
       "      <td>23.24</td>\n",
       "      <td>4.15</td>\n",
       "      <td>17.44</td>\n",
       "      <td>0.00</td>\n",
       "      <td>0.81</td>\n",
       "      <td>21.59</td>\n",
       "      <td>41.46</td>\n",
       "      <td>...</td>\n",
       "      <td>0.00</td>\n",
       "      <td>0.25</td>\n",
       "      <td>1455.44</td>\n",
       "      <td>65.02</td>\n",
       "      <td>0.91</td>\n",
       "      <td>0.00</td>\n",
       "      <td>53.76</td>\n",
       "      <td>0.0</td>\n",
       "      <td>0.99</td>\n",
       "      <td>57.67</td>\n",
       "    </tr>\n",
       "  </tbody>\n",
       "</table>\n",
       "<p>5 rows × 75 columns</p>\n",
       "</div>"
      ],
      "text/plain": [
       "       onnet_mou_8  offnet_mou_8  roam_ic_mou_8  roam_og_mou_8  \\\n",
       "39311       328.64        214.84         135.66         279.34   \n",
       "51422        44.98        454.71          55.41         204.13   \n",
       "43065        10.11         77.88           0.00           0.00   \n",
       "34894       195.64        300.14           0.00           0.00   \n",
       "89518        45.61        939.99           1.94          23.24   \n",
       "\n",
       "       loc_og_t2t_mou_8  loc_og_t2m_mou_8  loc_og_t2f_mou_8  loc_og_t2c_mou_8  \\\n",
       "39311              4.91             60.66              0.00              0.00   \n",
       "51422             10.53             43.14              3.36              0.00   \n",
       "43065              9.58             71.06              6.81              0.00   \n",
       "34894            100.89            150.49            110.73              0.00   \n",
       "89518              4.15             17.44              0.00              0.81   \n",
       "\n",
       "       loc_og_mou_8  std_og_t2t_mou_8  ...  isd_og_good  loc_og_t2c_good  \\\n",
       "39311         65.58            186.71  ...         0.00             6.88   \n",
       "51422         57.04              5.41  ...         0.00             4.03   \n",
       "43065         87.46              0.53  ...         0.00             0.00   \n",
       "34894        362.13             94.74  ...         0.13             0.00   \n",
       "89518         21.59             41.46  ...         0.00             0.25   \n",
       "\n",
       "       total_og_good  loc_og_mou_good  spl_og_mou_good  og_others_good  \\\n",
       "39311        3696.43           213.80            40.39            0.00   \n",
       "51422         602.32           111.34            17.10            0.00   \n",
       "43065         181.86           160.46            12.15            0.91   \n",
       "34894         868.42           644.94             9.52            0.00   \n",
       "89518        1455.44            65.02             0.91            0.00   \n",
       "\n",
       "       loc_ic_mou_good  spl_ic_mou_good  ic_others_good  total_ic_mou_good  \n",
       "39311           154.01              0.0            0.00             244.55  \n",
       "51422            95.76              0.0            0.00             231.94  \n",
       "43065           271.71              0.0            1.62             306.61  \n",
       "34894           260.00              0.0            0.05             322.44  \n",
       "89518            53.76              0.0            0.99              57.67  \n",
       "\n",
       "[5 rows x 75 columns]"
      ]
     },
     "execution_count": 69,
     "metadata": {},
     "output_type": "execute_result"
    }
   ],
   "source": [
    "X_train, X_test, y_train, y_test = train_test_split(X, y, train_size = 0.7, test_size = 0.3, random_state = 42, stratify = y)\n",
    "X_train.head()"
   ]
  },
  {
   "cell_type": "code",
   "execution_count": 70,
   "metadata": {},
   "outputs": [
    {
     "data": {
      "text/html": [
       "<div>\n",
       "<style scoped>\n",
       "    .dataframe tbody tr th:only-of-type {\n",
       "        vertical-align: middle;\n",
       "    }\n",
       "\n",
       "    .dataframe tbody tr th {\n",
       "        vertical-align: top;\n",
       "    }\n",
       "\n",
       "    .dataframe thead th {\n",
       "        text-align: right;\n",
       "    }\n",
       "</style>\n",
       "<table border=\"1\" class=\"dataframe\">\n",
       "  <thead>\n",
       "    <tr style=\"text-align: right;\">\n",
       "      <th></th>\n",
       "      <th>onnet_mou_8</th>\n",
       "      <th>offnet_mou_8</th>\n",
       "      <th>roam_ic_mou_8</th>\n",
       "      <th>roam_og_mou_8</th>\n",
       "      <th>loc_og_t2t_mou_8</th>\n",
       "      <th>loc_og_t2m_mou_8</th>\n",
       "      <th>loc_og_t2f_mou_8</th>\n",
       "      <th>loc_og_t2c_mou_8</th>\n",
       "      <th>loc_og_mou_8</th>\n",
       "      <th>std_og_t2t_mou_8</th>\n",
       "      <th>...</th>\n",
       "      <th>isd_og_good</th>\n",
       "      <th>loc_og_t2c_good</th>\n",
       "      <th>total_og_good</th>\n",
       "      <th>loc_og_mou_good</th>\n",
       "      <th>spl_og_mou_good</th>\n",
       "      <th>og_others_good</th>\n",
       "      <th>loc_ic_mou_good</th>\n",
       "      <th>spl_ic_mou_good</th>\n",
       "      <th>ic_others_good</th>\n",
       "      <th>total_ic_mou_good</th>\n",
       "    </tr>\n",
       "  </thead>\n",
       "  <tbody>\n",
       "    <tr>\n",
       "      <td>37388</td>\n",
       "      <td>-0.571333</td>\n",
       "      <td>-0.796897</td>\n",
       "      <td>-0.171771</td>\n",
       "      <td>-0.197082</td>\n",
       "      <td>-0.368597</td>\n",
       "      <td>-0.711829</td>\n",
       "      <td>-0.321154</td>\n",
       "      <td>-0.223293</td>\n",
       "      <td>-0.709769</td>\n",
       "      <td>-0.419155</td>\n",
       "      <td>...</td>\n",
       "      <td>-0.084023</td>\n",
       "      <td>-0.259828</td>\n",
       "      <td>0.045505</td>\n",
       "      <td>0.066687</td>\n",
       "      <td>-0.387608</td>\n",
       "      <td>-0.224350</td>\n",
       "      <td>-0.547878</td>\n",
       "      <td>-0.279220</td>\n",
       "      <td>-0.091889</td>\n",
       "      <td>-0.429792</td>\n",
       "    </tr>\n",
       "    <tr>\n",
       "      <td>95493</td>\n",
       "      <td>-0.571333</td>\n",
       "      <td>-0.796897</td>\n",
       "      <td>-0.171771</td>\n",
       "      <td>-0.197082</td>\n",
       "      <td>-0.368597</td>\n",
       "      <td>-0.711829</td>\n",
       "      <td>-0.321154</td>\n",
       "      <td>-0.223293</td>\n",
       "      <td>-0.709769</td>\n",
       "      <td>-0.419155</td>\n",
       "      <td>...</td>\n",
       "      <td>-0.084023</td>\n",
       "      <td>-0.259828</td>\n",
       "      <td>-0.505100</td>\n",
       "      <td>0.129168</td>\n",
       "      <td>-0.387608</td>\n",
       "      <td>-0.224350</td>\n",
       "      <td>0.159410</td>\n",
       "      <td>1.224658</td>\n",
       "      <td>-0.081332</td>\n",
       "      <td>-0.039183</td>\n",
       "    </tr>\n",
       "    <tr>\n",
       "      <td>43922</td>\n",
       "      <td>0.390504</td>\n",
       "      <td>1.195545</td>\n",
       "      <td>-0.171771</td>\n",
       "      <td>-0.197082</td>\n",
       "      <td>0.115880</td>\n",
       "      <td>-0.300452</td>\n",
       "      <td>-0.119515</td>\n",
       "      <td>0.743798</td>\n",
       "      <td>-0.124108</td>\n",
       "      <td>0.398937</td>\n",
       "      <td>...</td>\n",
       "      <td>-0.084023</td>\n",
       "      <td>0.262070</td>\n",
       "      <td>0.786213</td>\n",
       "      <td>-0.278747</td>\n",
       "      <td>0.188589</td>\n",
       "      <td>0.215136</td>\n",
       "      <td>0.282521</td>\n",
       "      <td>0.636184</td>\n",
       "      <td>-0.042511</td>\n",
       "      <td>0.157589</td>\n",
       "    </tr>\n",
       "    <tr>\n",
       "      <td>16967</td>\n",
       "      <td>-0.520120</td>\n",
       "      <td>0.398922</td>\n",
       "      <td>-0.171771</td>\n",
       "      <td>-0.197082</td>\n",
       "      <td>-0.266739</td>\n",
       "      <td>1.689963</td>\n",
       "      <td>-0.292995</td>\n",
       "      <td>-0.223293</td>\n",
       "      <td>0.893108</td>\n",
       "      <td>-0.419155</td>\n",
       "      <td>...</td>\n",
       "      <td>-0.084023</td>\n",
       "      <td>-0.259828</td>\n",
       "      <td>-0.488285</td>\n",
       "      <td>0.329390</td>\n",
       "      <td>-0.387608</td>\n",
       "      <td>-0.224350</td>\n",
       "      <td>2.770232</td>\n",
       "      <td>-0.279220</td>\n",
       "      <td>-0.091889</td>\n",
       "      <td>2.234043</td>\n",
       "    </tr>\n",
       "    <tr>\n",
       "      <td>14374</td>\n",
       "      <td>-0.295889</td>\n",
       "      <td>0.599627</td>\n",
       "      <td>-0.171771</td>\n",
       "      <td>-0.197082</td>\n",
       "      <td>0.179238</td>\n",
       "      <td>1.714020</td>\n",
       "      <td>2.818072</td>\n",
       "      <td>-0.223293</td>\n",
       "      <td>1.364998</td>\n",
       "      <td>-0.419155</td>\n",
       "      <td>...</td>\n",
       "      <td>0.147688</td>\n",
       "      <td>-0.259828</td>\n",
       "      <td>0.269782</td>\n",
       "      <td>1.311034</td>\n",
       "      <td>-0.387608</td>\n",
       "      <td>-0.224350</td>\n",
       "      <td>0.939905</td>\n",
       "      <td>-0.279220</td>\n",
       "      <td>-0.048981</td>\n",
       "      <td>1.209494</td>\n",
       "    </tr>\n",
       "  </tbody>\n",
       "</table>\n",
       "<p>5 rows × 75 columns</p>\n",
       "</div>"
      ],
      "text/plain": [
       "       onnet_mou_8  offnet_mou_8  roam_ic_mou_8  roam_og_mou_8  \\\n",
       "37388    -0.571333     -0.796897      -0.171771      -0.197082   \n",
       "95493    -0.571333     -0.796897      -0.171771      -0.197082   \n",
       "43922     0.390504      1.195545      -0.171771      -0.197082   \n",
       "16967    -0.520120      0.398922      -0.171771      -0.197082   \n",
       "14374    -0.295889      0.599627      -0.171771      -0.197082   \n",
       "\n",
       "       loc_og_t2t_mou_8  loc_og_t2m_mou_8  loc_og_t2f_mou_8  loc_og_t2c_mou_8  \\\n",
       "37388         -0.368597         -0.711829         -0.321154         -0.223293   \n",
       "95493         -0.368597         -0.711829         -0.321154         -0.223293   \n",
       "43922          0.115880         -0.300452         -0.119515          0.743798   \n",
       "16967         -0.266739          1.689963         -0.292995         -0.223293   \n",
       "14374          0.179238          1.714020          2.818072         -0.223293   \n",
       "\n",
       "       loc_og_mou_8  std_og_t2t_mou_8  ...  isd_og_good  loc_og_t2c_good  \\\n",
       "37388     -0.709769         -0.419155  ...    -0.084023        -0.259828   \n",
       "95493     -0.709769         -0.419155  ...    -0.084023        -0.259828   \n",
       "43922     -0.124108          0.398937  ...    -0.084023         0.262070   \n",
       "16967      0.893108         -0.419155  ...    -0.084023        -0.259828   \n",
       "14374      1.364998         -0.419155  ...     0.147688        -0.259828   \n",
       "\n",
       "       total_og_good  loc_og_mou_good  spl_og_mou_good  og_others_good  \\\n",
       "37388       0.045505         0.066687        -0.387608       -0.224350   \n",
       "95493      -0.505100         0.129168        -0.387608       -0.224350   \n",
       "43922       0.786213        -0.278747         0.188589        0.215136   \n",
       "16967      -0.488285         0.329390        -0.387608       -0.224350   \n",
       "14374       0.269782         1.311034        -0.387608       -0.224350   \n",
       "\n",
       "       loc_ic_mou_good  spl_ic_mou_good  ic_others_good  total_ic_mou_good  \n",
       "37388        -0.547878        -0.279220       -0.091889          -0.429792  \n",
       "95493         0.159410         1.224658       -0.081332          -0.039183  \n",
       "43922         0.282521         0.636184       -0.042511           0.157589  \n",
       "16967         2.770232        -0.279220       -0.091889           2.234043  \n",
       "14374         0.939905        -0.279220       -0.048981           1.209494  \n",
       "\n",
       "[5 rows x 75 columns]"
      ]
     },
     "execution_count": 70,
     "metadata": {},
     "output_type": "execute_result"
    }
   ],
   "source": [
    "scaler = StandardScaler()\n",
    "\n",
    "X_train[num_cols] = scaler.fit_transform(X_train[num_cols])\n",
    "X_train.head()\n",
    "\n",
    "X_test[num_cols] = scaler.transform(X_test[num_cols])\n",
    "X_test.head()"
   ]
  },
  {
   "cell_type": "code",
   "execution_count": 71,
   "metadata": {},
   "outputs": [
    {
     "data": {
      "text/html": [
       "<div>\n",
       "<style scoped>\n",
       "    .dataframe tbody tr th:only-of-type {\n",
       "        vertical-align: middle;\n",
       "    }\n",
       "\n",
       "    .dataframe tbody tr th {\n",
       "        vertical-align: top;\n",
       "    }\n",
       "\n",
       "    .dataframe thead th {\n",
       "        text-align: right;\n",
       "    }\n",
       "</style>\n",
       "<table border=\"1\" class=\"dataframe\">\n",
       "  <thead>\n",
       "    <tr style=\"text-align: right;\">\n",
       "      <th></th>\n",
       "      <th>onnet_mou_8</th>\n",
       "      <th>offnet_mou_8</th>\n",
       "      <th>roam_ic_mou_8</th>\n",
       "      <th>roam_og_mou_8</th>\n",
       "      <th>loc_og_t2t_mou_8</th>\n",
       "      <th>loc_og_t2m_mou_8</th>\n",
       "      <th>loc_og_t2f_mou_8</th>\n",
       "      <th>loc_og_t2c_mou_8</th>\n",
       "      <th>loc_og_mou_8</th>\n",
       "      <th>std_og_t2t_mou_8</th>\n",
       "      <th>...</th>\n",
       "      <th>isd_og_good</th>\n",
       "      <th>loc_og_t2c_good</th>\n",
       "      <th>total_og_good</th>\n",
       "      <th>loc_og_mou_good</th>\n",
       "      <th>spl_og_mou_good</th>\n",
       "      <th>og_others_good</th>\n",
       "      <th>loc_ic_mou_good</th>\n",
       "      <th>spl_ic_mou_good</th>\n",
       "      <th>ic_others_good</th>\n",
       "      <th>total_ic_mou_good</th>\n",
       "    </tr>\n",
       "  </thead>\n",
       "  <tbody>\n",
       "    <tr>\n",
       "      <td>37388</td>\n",
       "      <td>-0.571333</td>\n",
       "      <td>-0.796897</td>\n",
       "      <td>-0.171771</td>\n",
       "      <td>-0.197082</td>\n",
       "      <td>-0.368597</td>\n",
       "      <td>-0.711829</td>\n",
       "      <td>-0.321154</td>\n",
       "      <td>-0.223293</td>\n",
       "      <td>-0.709769</td>\n",
       "      <td>-0.419155</td>\n",
       "      <td>...</td>\n",
       "      <td>-0.084023</td>\n",
       "      <td>-0.259828</td>\n",
       "      <td>0.045505</td>\n",
       "      <td>0.066687</td>\n",
       "      <td>-0.387608</td>\n",
       "      <td>-0.224350</td>\n",
       "      <td>-0.547878</td>\n",
       "      <td>-0.279220</td>\n",
       "      <td>-0.091889</td>\n",
       "      <td>-0.429792</td>\n",
       "    </tr>\n",
       "    <tr>\n",
       "      <td>95493</td>\n",
       "      <td>-0.571333</td>\n",
       "      <td>-0.796897</td>\n",
       "      <td>-0.171771</td>\n",
       "      <td>-0.197082</td>\n",
       "      <td>-0.368597</td>\n",
       "      <td>-0.711829</td>\n",
       "      <td>-0.321154</td>\n",
       "      <td>-0.223293</td>\n",
       "      <td>-0.709769</td>\n",
       "      <td>-0.419155</td>\n",
       "      <td>...</td>\n",
       "      <td>-0.084023</td>\n",
       "      <td>-0.259828</td>\n",
       "      <td>-0.505100</td>\n",
       "      <td>0.129168</td>\n",
       "      <td>-0.387608</td>\n",
       "      <td>-0.224350</td>\n",
       "      <td>0.159410</td>\n",
       "      <td>1.224658</td>\n",
       "      <td>-0.081332</td>\n",
       "      <td>-0.039183</td>\n",
       "    </tr>\n",
       "    <tr>\n",
       "      <td>43922</td>\n",
       "      <td>0.390504</td>\n",
       "      <td>1.195545</td>\n",
       "      <td>-0.171771</td>\n",
       "      <td>-0.197082</td>\n",
       "      <td>0.115880</td>\n",
       "      <td>-0.300452</td>\n",
       "      <td>-0.119515</td>\n",
       "      <td>0.743798</td>\n",
       "      <td>-0.124108</td>\n",
       "      <td>0.398937</td>\n",
       "      <td>...</td>\n",
       "      <td>-0.084023</td>\n",
       "      <td>0.262070</td>\n",
       "      <td>0.786213</td>\n",
       "      <td>-0.278747</td>\n",
       "      <td>0.188589</td>\n",
       "      <td>0.215136</td>\n",
       "      <td>0.282521</td>\n",
       "      <td>0.636184</td>\n",
       "      <td>-0.042511</td>\n",
       "      <td>0.157589</td>\n",
       "    </tr>\n",
       "    <tr>\n",
       "      <td>16967</td>\n",
       "      <td>-0.520120</td>\n",
       "      <td>0.398922</td>\n",
       "      <td>-0.171771</td>\n",
       "      <td>-0.197082</td>\n",
       "      <td>-0.266739</td>\n",
       "      <td>1.689963</td>\n",
       "      <td>-0.292995</td>\n",
       "      <td>-0.223293</td>\n",
       "      <td>0.893108</td>\n",
       "      <td>-0.419155</td>\n",
       "      <td>...</td>\n",
       "      <td>-0.084023</td>\n",
       "      <td>-0.259828</td>\n",
       "      <td>-0.488285</td>\n",
       "      <td>0.329390</td>\n",
       "      <td>-0.387608</td>\n",
       "      <td>-0.224350</td>\n",
       "      <td>2.770232</td>\n",
       "      <td>-0.279220</td>\n",
       "      <td>-0.091889</td>\n",
       "      <td>2.234043</td>\n",
       "    </tr>\n",
       "    <tr>\n",
       "      <td>14374</td>\n",
       "      <td>-0.295889</td>\n",
       "      <td>0.599627</td>\n",
       "      <td>-0.171771</td>\n",
       "      <td>-0.197082</td>\n",
       "      <td>0.179238</td>\n",
       "      <td>1.714020</td>\n",
       "      <td>2.818072</td>\n",
       "      <td>-0.223293</td>\n",
       "      <td>1.364998</td>\n",
       "      <td>-0.419155</td>\n",
       "      <td>...</td>\n",
       "      <td>0.147688</td>\n",
       "      <td>-0.259828</td>\n",
       "      <td>0.269782</td>\n",
       "      <td>1.311034</td>\n",
       "      <td>-0.387608</td>\n",
       "      <td>-0.224350</td>\n",
       "      <td>0.939905</td>\n",
       "      <td>-0.279220</td>\n",
       "      <td>-0.048981</td>\n",
       "      <td>1.209494</td>\n",
       "    </tr>\n",
       "  </tbody>\n",
       "</table>\n",
       "<p>5 rows × 75 columns</p>\n",
       "</div>"
      ],
      "text/plain": [
       "       onnet_mou_8  offnet_mou_8  roam_ic_mou_8  roam_og_mou_8  \\\n",
       "37388    -0.571333     -0.796897      -0.171771      -0.197082   \n",
       "95493    -0.571333     -0.796897      -0.171771      -0.197082   \n",
       "43922     0.390504      1.195545      -0.171771      -0.197082   \n",
       "16967    -0.520120      0.398922      -0.171771      -0.197082   \n",
       "14374    -0.295889      0.599627      -0.171771      -0.197082   \n",
       "\n",
       "       loc_og_t2t_mou_8  loc_og_t2m_mou_8  loc_og_t2f_mou_8  loc_og_t2c_mou_8  \\\n",
       "37388         -0.368597         -0.711829         -0.321154         -0.223293   \n",
       "95493         -0.368597         -0.711829         -0.321154         -0.223293   \n",
       "43922          0.115880         -0.300452         -0.119515          0.743798   \n",
       "16967         -0.266739          1.689963         -0.292995         -0.223293   \n",
       "14374          0.179238          1.714020          2.818072         -0.223293   \n",
       "\n",
       "       loc_og_mou_8  std_og_t2t_mou_8  ...  isd_og_good  loc_og_t2c_good  \\\n",
       "37388     -0.709769         -0.419155  ...    -0.084023        -0.259828   \n",
       "95493     -0.709769         -0.419155  ...    -0.084023        -0.259828   \n",
       "43922     -0.124108          0.398937  ...    -0.084023         0.262070   \n",
       "16967      0.893108         -0.419155  ...    -0.084023        -0.259828   \n",
       "14374      1.364998         -0.419155  ...     0.147688        -0.259828   \n",
       "\n",
       "       total_og_good  loc_og_mou_good  spl_og_mou_good  og_others_good  \\\n",
       "37388       0.045505         0.066687        -0.387608       -0.224350   \n",
       "95493      -0.505100         0.129168        -0.387608       -0.224350   \n",
       "43922       0.786213        -0.278747         0.188589        0.215136   \n",
       "16967      -0.488285         0.329390        -0.387608       -0.224350   \n",
       "14374       0.269782         1.311034        -0.387608       -0.224350   \n",
       "\n",
       "       loc_ic_mou_good  spl_ic_mou_good  ic_others_good  total_ic_mou_good  \n",
       "37388        -0.547878        -0.279220       -0.091889          -0.429792  \n",
       "95493         0.159410         1.224658       -0.081332          -0.039183  \n",
       "43922         0.282521         0.636184       -0.042511           0.157589  \n",
       "16967         2.770232        -0.279220       -0.091889           2.234043  \n",
       "14374         0.939905        -0.279220       -0.048981           1.209494  \n",
       "\n",
       "[5 rows x 75 columns]"
      ]
     },
     "execution_count": 71,
     "metadata": {},
     "output_type": "execute_result"
    }
   ],
   "source": [
    "X_test.head()"
   ]
  },
  {
   "cell_type": "code",
   "execution_count": 72,
   "metadata": {},
   "outputs": [
    {
     "data": {
      "text/plain": [
       "PCA(random_state=42)"
      ]
     },
     "execution_count": 72,
     "metadata": {},
     "output_type": "execute_result"
    }
   ],
   "source": [
    "pca.fit(X_train)"
   ]
  },
  {
   "cell_type": "code",
   "execution_count": 73,
   "metadata": {},
   "outputs": [
    {
     "data": {
      "text/plain": [
       "75"
      ]
     },
     "execution_count": 73,
     "metadata": {},
     "output_type": "execute_result"
    }
   ],
   "source": [
    "len(pca.components_)"
   ]
  },
  {
   "cell_type": "code",
   "execution_count": 74,
   "metadata": {},
   "outputs": [
    {
     "name": "stdout",
     "output_type": "stream",
     "text": [
      "[1.13967927e-01 1.01051572e-01 6.05911624e-02 5.52414225e-02\n",
      " 4.48655072e-02 4.06323531e-02 3.38635536e-02 3.30793600e-02\n",
      " 3.08239647e-02 3.05698107e-02 2.70431860e-02 2.49231968e-02\n",
      " 2.41381070e-02 2.28769326e-02 2.25941250e-02 2.07179253e-02\n",
      " 1.92755073e-02 1.70881938e-02 1.63861609e-02 1.55728665e-02\n",
      " 1.51534616e-02 1.43844147e-02 1.29574046e-02 1.27097067e-02\n",
      " 1.15272692e-02 1.12211663e-02 1.08726542e-02 1.05321027e-02\n",
      " 1.00294774e-02 9.30440661e-03 9.12648801e-03 8.62894348e-03\n",
      " 8.05449809e-03 7.97583461e-03 7.84560814e-03 7.06157690e-03\n",
      " 6.27356440e-03 6.22751155e-03 4.93088677e-03 4.46633207e-03\n",
      " 4.23946960e-03 4.04652740e-03 3.84431234e-03 3.77874635e-03\n",
      " 3.62498131e-03 3.51153977e-03 3.42374299e-03 3.12317095e-03\n",
      " 3.06417411e-03 2.92782520e-03 2.83568857e-03 2.78664633e-03\n",
      " 2.61569402e-03 2.43147137e-03 2.40581695e-03 2.26707079e-03\n",
      " 1.90631232e-03 1.62792436e-03 8.28899224e-04 8.71731200e-05\n",
      " 3.13231541e-05 4.29322846e-06 1.05397247e-06 1.36633882e-11\n",
      " 6.09516472e-12 4.87719495e-12 2.47075017e-12 2.01746980e-12\n",
      " 1.79579942e-12 1.13732410e-12 1.04469251e-12 8.27925728e-13\n",
      " 4.88331121e-13 3.30715975e-13 2.09572413e-13]\n",
      "75\n"
     ]
    }
   ],
   "source": [
    "print(pca.explained_variance_ratio_)\n",
    "print(len(pca.explained_variance_ratio_))"
   ]
  },
  {
   "cell_type": "code",
   "execution_count": 75,
   "metadata": {},
   "outputs": [],
   "source": [
    "var_cumu = np.cumsum(pca.explained_variance_ratio_)"
   ]
  },
  {
   "cell_type": "code",
   "execution_count": 76,
   "metadata": {},
   "outputs": [
    {
     "data": {
      "image/png": "[encoded data removed]",
      "text/plain": [
       "<Figure size 864x576 with 1 Axes>"
      ]
     },
     "metadata": {
      "needs_background": "light"
     },
     "output_type": "display_data"
    }
   ],
   "source": [
    "fig = plt.figure(figsize=[12,8])\n",
    "plt.vlines(x=15, ymax=1, ymin=0, colors=\"r\", linestyles=\"--\")\n",
    "plt.hlines(y=0.95, xmax=30, xmin=0, colors=\"g\", linestyles=\"--\")\n",
    "plt.plot(var_cumu)\n",
    "plt.ylabel(\"Cumulative variance explained\")\n",
    "plt.show()"
   ]
  },
  {
   "cell_type": "code",
   "execution_count": 77,
   "metadata": {
    "scrolled": false
   },
   "outputs": [
    {
     "name": "stdout",
     "output_type": "stream",
     "text": [
      "(20985, 75)\n"
     ]
    }
   ],
   "source": [
    "print(X_train.shape)"
   ]
  },
  {
   "cell_type": "markdown",
   "metadata": {},
   "source": [
    "* We see that with PCA, 99.9% of the variance is explained at about 50+ values\n",
    "* We select the number of variables that explain 99.9% of the variance"
   ]
  },
  {
   "cell_type": "code",
   "execution_count": 78,
   "metadata": {},
   "outputs": [],
   "source": [
    "pca_final = PCA(0.95, random_state = 42)"
   ]
  },
  {
   "cell_type": "code",
   "execution_count": 82,
   "metadata": {},
   "outputs": [],
   "source": [
    "telco_train_pca = pca_final.fit_transform(X_train)"
   ]
  },
  {
   "cell_type": "code",
   "execution_count": 83,
   "metadata": {},
   "outputs": [
    {
     "data": {
      "text/plain": [
       "(20985, 41)"
      ]
     },
     "execution_count": 83,
     "metadata": {},
     "output_type": "execute_result"
    }
   ],
   "source": [
    "telco_train_pca.shape"
   ]
  },
  {
   "cell_type": "code",
   "execution_count": 84,
   "metadata": {},
   "outputs": [],
   "source": [
    "corrmat = np.corrcoef(telco_train_pca.transpose())"
   ]
  },
  {
   "cell_type": "code",
   "execution_count": 85,
   "metadata": {},
   "outputs": [
    {
     "data": {
      "text/plain": [
       "(41, 41)"
      ]
     },
     "execution_count": 85,
     "metadata": {},
     "output_type": "execute_result"
    }
   ],
   "source": [
    "corrmat.shape"
   ]
  },
  {
   "cell_type": "markdown",
   "metadata": {},
   "source": [
    "* We now plot the corrlation matrix heatmap"
   ]
  },
  {
   "cell_type": "code",
   "execution_count": 86,
   "metadata": {},
   "outputs": [],
   "source": [
    "#plt.figure(figsize=[20,20])\n",
    "#sns.heatmap(corrmat, annot=True)"
   ]
  },
  {
   "cell_type": "markdown",
   "metadata": {},
   "source": [
    "* We see that all the data points are completely uncorrelated"
   ]
  },
  {
   "cell_type": "code",
   "execution_count": 87,
   "metadata": {},
   "outputs": [],
   "source": [
    "telco_test_pca = pca_final.transform(X_test)"
   ]
  },
  {
   "cell_type": "markdown",
   "metadata": {},
   "source": [
    "## 6.0 Model1: Logistic Regression"
   ]
  },
  {
   "cell_type": "code",
   "execution_count": 88,
   "metadata": {},
   "outputs": [],
   "source": [
    "learner_pca = LogisticRegression(class_weight = 'balanced')"
   ]
  },
  {
   "cell_type": "code",
   "execution_count": 89,
   "metadata": {},
   "outputs": [
    {
     "data": {
      "text/plain": [
       "(20985,)"
      ]
     },
     "execution_count": 89,
     "metadata": {},
     "output_type": "execute_result"
    }
   ],
   "source": [
    "y_train.shape"
   ]
  },
  {
   "cell_type": "code",
   "execution_count": 90,
   "metadata": {},
   "outputs": [
    {
     "data": {
      "text/plain": [
       "(20985, 41)"
      ]
     },
     "execution_count": 90,
     "metadata": {},
     "output_type": "execute_result"
    }
   ],
   "source": [
    "telco_train_pca.shape"
   ]
  },
  {
   "cell_type": "code",
   "execution_count": 91,
   "metadata": {},
   "outputs": [],
   "source": [
    "model_pca = learner_pca.fit(telco_train_pca, y_train)"
   ]
  },
  {
   "cell_type": "code",
   "execution_count": 92,
   "metadata": {},
   "outputs": [],
   "source": [
    "pred_probs_train = model_pca.predict_proba(telco_train_pca)"
   ]
  },
  {
   "cell_type": "code",
   "execution_count": 93,
   "metadata": {},
   "outputs": [
    {
     "name": "stdout",
     "output_type": "stream",
     "text": [
      "(20985, 2)\n"
     ]
    }
   ],
   "source": [
    "print(pred_probs_train.shape)\n",
    "y_train_pred = pred_probs_train[:, 1]\n",
    "y_train_pred = pd.Series(y_train_pred)\n",
    "y_train_pred = y_train_pred.values.reshape(-1)"
   ]
  },
  {
   "cell_type": "code",
   "execution_count": 94,
   "metadata": {},
   "outputs": [
    {
     "data": {
      "text/html": [
       "<div>\n",
       "<style scoped>\n",
       "    .dataframe tbody tr th:only-of-type {\n",
       "        vertical-align: middle;\n",
       "    }\n",
       "\n",
       "    .dataframe tbody tr th {\n",
       "        vertical-align: top;\n",
       "    }\n",
       "\n",
       "    .dataframe thead th {\n",
       "        text-align: right;\n",
       "    }\n",
       "</style>\n",
       "<table border=\"1\" class=\"dataframe\">\n",
       "  <thead>\n",
       "    <tr style=\"text-align: right;\">\n",
       "      <th></th>\n",
       "      <th>Churned</th>\n",
       "      <th>Churn_prob</th>\n",
       "    </tr>\n",
       "  </thead>\n",
       "  <tbody>\n",
       "    <tr>\n",
       "      <td>0</td>\n",
       "      <td>0</td>\n",
       "      <td>0.099039</td>\n",
       "    </tr>\n",
       "    <tr>\n",
       "      <td>1</td>\n",
       "      <td>0</td>\n",
       "      <td>0.360173</td>\n",
       "    </tr>\n",
       "    <tr>\n",
       "      <td>2</td>\n",
       "      <td>0</td>\n",
       "      <td>0.289841</td>\n",
       "    </tr>\n",
       "    <tr>\n",
       "      <td>3</td>\n",
       "      <td>0</td>\n",
       "      <td>0.719065</td>\n",
       "    </tr>\n",
       "    <tr>\n",
       "      <td>4</td>\n",
       "      <td>0</td>\n",
       "      <td>0.309025</td>\n",
       "    </tr>\n",
       "  </tbody>\n",
       "</table>\n",
       "</div>"
      ],
      "text/plain": [
       "   Churned  Churn_prob\n",
       "0        0    0.099039\n",
       "1        0    0.360173\n",
       "2        0    0.289841\n",
       "3        0    0.719065\n",
       "4        0    0.309025"
      ]
     },
     "execution_count": 94,
     "metadata": {},
     "output_type": "execute_result"
    }
   ],
   "source": [
    "y_train_predfin = pd.DataFrame({'Churned': y_train.values, 'Churn_prob': y_train_pred})\n",
    "y_train_predfin.head()"
   ]
  },
  {
   "cell_type": "code",
   "execution_count": 95,
   "metadata": {},
   "outputs": [],
   "source": [
    "def draw_roc( actual, probs ):\n",
    "    fpr, tpr, thresholds = metrics.roc_curve( actual, probs,\n",
    "                                              drop_intermediate = False )\n",
    "    auc_score = metrics.roc_auc_score( actual, probs )\n",
    "    plt.figure(figsize=(5, 5))\n",
    "    plt.plot( fpr, tpr, label='ROC curve (area = %0.2f)' % auc_score )\n",
    "    plt.plot([0, 1], [0, 1], 'k--')\n",
    "    plt.xlim([0.0, 1.0])\n",
    "    plt.ylim([0.0, 1.05])\n",
    "    plt.xlabel('False Positive Rate (= 1 - Specificity)')\n",
    "    plt.ylabel('True Positive Rate (= Sensitivity)')\n",
    "    plt.title('Receiver Operating Characteristic')\n",
    "    plt.legend(loc=\"lower right\")\n",
    "    plt.show()\n",
    "\n",
    "    return None"
   ]
  },
  {
   "cell_type": "code",
   "execution_count": 96,
   "metadata": {},
   "outputs": [],
   "source": [
    "fpr, tpr, thresholds = metrics.roc_curve( y_train_predfin.Churned, \\\n",
    "                                         y_train_predfin.Churn_prob, drop_intermediate = False )"
   ]
  },
  {
   "cell_type": "code",
   "execution_count": 97,
   "metadata": {},
   "outputs": [
    {
     "data": {
      "image/png": "[encoded data removed]",
      "text/plain": [
       "<Figure size 360x360 with 1 Axes>"
      ]
     },
     "metadata": {
      "needs_background": "light"
     },
     "output_type": "display_data"
    }
   ],
   "source": [
    "draw_roc(y_train_predfin.Churned, y_train_predfin.Churn_prob)"
   ]
  },
  {
   "cell_type": "markdown",
   "metadata": {},
   "source": [
    "* **We see that the Area under the ROC curve is `0.9`, which is excellent**\n",
    "* We now try to find the threshold that maintains the Sensitivity and Specificity values\n",
    "* For that, we find the Sensitivity and Specificity for differnt threshold probabilities\n",
    "* We plot these and take the threshold at which the **Sensitivity**, **Specificity** and **Accuracy** curves intersect"
   ]
  },
  {
   "cell_type": "code",
   "execution_count": 98,
   "metadata": {},
   "outputs": [
    {
     "data": {
      "text/html": [
       "<div>\n",
       "<style scoped>\n",
       "    .dataframe tbody tr th:only-of-type {\n",
       "        vertical-align: middle;\n",
       "    }\n",
       "\n",
       "    .dataframe tbody tr th {\n",
       "        vertical-align: top;\n",
       "    }\n",
       "\n",
       "    .dataframe thead th {\n",
       "        text-align: right;\n",
       "    }\n",
       "</style>\n",
       "<table border=\"1\" class=\"dataframe\">\n",
       "  <thead>\n",
       "    <tr style=\"text-align: right;\">\n",
       "      <th></th>\n",
       "      <th>Churned</th>\n",
       "      <th>Churn_prob</th>\n",
       "      <th>0.0</th>\n",
       "      <th>0.1</th>\n",
       "      <th>0.2</th>\n",
       "      <th>0.3</th>\n",
       "      <th>0.4</th>\n",
       "      <th>0.5</th>\n",
       "      <th>0.6</th>\n",
       "      <th>0.7</th>\n",
       "      <th>0.8</th>\n",
       "      <th>0.9</th>\n",
       "    </tr>\n",
       "  </thead>\n",
       "  <tbody>\n",
       "    <tr>\n",
       "      <td>0</td>\n",
       "      <td>0</td>\n",
       "      <td>0.099039</td>\n",
       "      <td>1</td>\n",
       "      <td>0</td>\n",
       "      <td>0</td>\n",
       "      <td>0</td>\n",
       "      <td>0</td>\n",
       "      <td>0</td>\n",
       "      <td>0</td>\n",
       "      <td>0</td>\n",
       "      <td>0</td>\n",
       "      <td>0</td>\n",
       "    </tr>\n",
       "    <tr>\n",
       "      <td>1</td>\n",
       "      <td>0</td>\n",
       "      <td>0.360173</td>\n",
       "      <td>1</td>\n",
       "      <td>1</td>\n",
       "      <td>1</td>\n",
       "      <td>1</td>\n",
       "      <td>0</td>\n",
       "      <td>0</td>\n",
       "      <td>0</td>\n",
       "      <td>0</td>\n",
       "      <td>0</td>\n",
       "      <td>0</td>\n",
       "    </tr>\n",
       "    <tr>\n",
       "      <td>2</td>\n",
       "      <td>0</td>\n",
       "      <td>0.289841</td>\n",
       "      <td>1</td>\n",
       "      <td>1</td>\n",
       "      <td>1</td>\n",
       "      <td>0</td>\n",
       "      <td>0</td>\n",
       "      <td>0</td>\n",
       "      <td>0</td>\n",
       "      <td>0</td>\n",
       "      <td>0</td>\n",
       "      <td>0</td>\n",
       "    </tr>\n",
       "    <tr>\n",
       "      <td>3</td>\n",
       "      <td>0</td>\n",
       "      <td>0.719065</td>\n",
       "      <td>1</td>\n",
       "      <td>1</td>\n",
       "      <td>1</td>\n",
       "      <td>1</td>\n",
       "      <td>1</td>\n",
       "      <td>1</td>\n",
       "      <td>1</td>\n",
       "      <td>1</td>\n",
       "      <td>0</td>\n",
       "      <td>0</td>\n",
       "    </tr>\n",
       "    <tr>\n",
       "      <td>4</td>\n",
       "      <td>0</td>\n",
       "      <td>0.309025</td>\n",
       "      <td>1</td>\n",
       "      <td>1</td>\n",
       "      <td>1</td>\n",
       "      <td>1</td>\n",
       "      <td>0</td>\n",
       "      <td>0</td>\n",
       "      <td>0</td>\n",
       "      <td>0</td>\n",
       "      <td>0</td>\n",
       "      <td>0</td>\n",
       "    </tr>\n",
       "  </tbody>\n",
       "</table>\n",
       "</div>"
      ],
      "text/plain": [
       "   Churned  Churn_prob  0.0  0.1  0.2  0.3  0.4  0.5  0.6  0.7  0.8  0.9\n",
       "0        0    0.099039    1    0    0    0    0    0    0    0    0    0\n",
       "1        0    0.360173    1    1    1    1    0    0    0    0    0    0\n",
       "2        0    0.289841    1    1    1    0    0    0    0    0    0    0\n",
       "3        0    0.719065    1    1    1    1    1    1    1    1    0    0\n",
       "4        0    0.309025    1    1    1    1    0    0    0    0    0    0"
      ]
     },
     "execution_count": 98,
     "metadata": {},
     "output_type": "execute_result"
    }
   ],
   "source": [
    "probs = [float(x)/10 for x in range(10)]\n",
    "for prob in probs:\n",
    "    y_train_predfin[prob] = y_train_predfin.Churn_prob.map(lambda x: 1 if x > prob else 0)\n",
    "y_train_predfin.head()"
   ]
  },
  {
   "cell_type": "code",
   "execution_count": 99,
   "metadata": {},
   "outputs": [],
   "source": [
    "cutoff_df = pd.DataFrame(columns = ['probs', 'accuracy', 'sensitivity', 'specificity'])\n",
    "\n",
    "probabilities = [0.0,0.1,0.2,0.3,0.4,0.5,0.6,0.7,0.8,0.9]\n",
    "\n",
    "for prob in probabilities:\n",
    "    cm = metrics.confusion_matrix(y_train_predfin.Churned, y_train_predfin[prob])\n",
    "    total = sum(sum(cm))\n",
    "    tn = cm[0][0]\n",
    "    fp = cm[0][1]\n",
    "    fn = cm[1][0]\n",
    "    tp = cm[1][1]\n",
    "    accuracy = (tn + tp)/total\n",
    "    sensitivity = tp/(tp + fn)\n",
    "    specificity = tn/(tn + fp)\n",
    "    cutoff_df.loc[prob] = [prob, accuracy, sensitivity, specificity]"
   ]
  },
  {
   "cell_type": "code",
   "execution_count": 100,
   "metadata": {},
   "outputs": [
    {
     "data": {
      "image/png": "[encoded data removed]",
      "text/plain": [
       "<Figure size 432x288 with 1 Axes>"
      ]
     },
     "metadata": {
      "needs_background": "light"
     },
     "output_type": "display_data"
    }
   ],
   "source": [
    "cutoff_df.plot.line(x = 'probs', y = ['accuracy', 'sensitivity', 'specificity'])\n",
    "plt.xlabel('Cutoff Probabilities')\n",
    "plt.ylabel('Metric Values')\n",
    "plt.show()"
   ]
  },
  {
   "cell_type": "markdown",
   "metadata": {},
   "source": [
    "**The ideal cutoff-value appears to be `0.5`, from the above curve**"
   ]
  },
  {
   "cell_type": "code",
   "execution_count": 101,
   "metadata": {},
   "outputs": [],
   "source": [
    "cutoff_prob = 0.5\n",
    "y_train_predfin['Final Predicted'] = y_train_predfin.Churn_prob.map(lambda x: 1 if x > cutoff_prob else 0)"
   ]
  },
  {
   "cell_type": "code",
   "execution_count": 102,
   "metadata": {},
   "outputs": [
    {
     "data": {
      "text/plain": [
       "0.8202525613533477"
      ]
     },
     "execution_count": 102,
     "metadata": {},
     "output_type": "execute_result"
    }
   ],
   "source": [
    "accuracy = metrics.accuracy_score(y_train_predfin.Churned, y_train_predfin['Final Predicted'])\n",
    "accuracy"
   ]
  },
  {
   "cell_type": "code",
   "execution_count": 103,
   "metadata": {},
   "outputs": [
    {
     "data": {
      "text/plain": [
       "array([[15695,  3488],\n",
       "       [  284,  1518]])"
      ]
     },
     "execution_count": 103,
     "metadata": {},
     "output_type": "execute_result"
    }
   ],
   "source": [
    "confusion = metrics.confusion_matrix(y_train_predfin.Churned, y_train_predfin['Final Predicted'])\n",
    "confusion"
   ]
  },
  {
   "cell_type": "code",
   "execution_count": 104,
   "metadata": {},
   "outputs": [],
   "source": [
    "TN = confusion[0][0]\n",
    "FP = confusion[0][1]\n",
    "FN = confusion[1][0]\n",
    "TP = confusion[1][1]"
   ]
  },
  {
   "cell_type": "code",
   "execution_count": 105,
   "metadata": {},
   "outputs": [
    {
     "name": "stdout",
     "output_type": "stream",
     "text": [
      "Train Set Metrics:\n",
      "=================\n",
      "Accuracy                   = 82.03 \n",
      "Sensitivity (= Recall)     = 84.24\n",
      "Specificity (= TNR)        = 81.82\n",
      "Precision (= PPR)          = 30.32\n",
      "NPR                        = 98.22\n",
      "FPR ( = 1 - Specificity)   = 18.18\n"
     ]
    }
   ],
   "source": [
    "print('Train Set Metrics:')\n",
    "print('='*17)\n",
    "print(f'Accuracy                   = {round(accuracy*100, 2)} ')\n",
    "sensitivity = TP/(TP + FN)\n",
    "print(f'Sensitivity (= Recall)     = {round(sensitivity*100, 2)}')\n",
    "\n",
    "specificity = TN/(TN + FP)\n",
    "print(f'Specificity (= TNR)        = {round(specificity*100, 2)}')\n",
    "\n",
    "precision = TP/(TP + FP)\n",
    "ppr = precision\n",
    "print(f'Precision (= PPR)          = {round(ppr*100, 2)}')\n",
    "\n",
    "npr = TN/(TN + FN)\n",
    "print(f'NPR                        = {round(npr*100, 2)}')\n",
    "\n",
    "fpr = FP/(FP + TN)\n",
    "print(f'FPR ( = 1 - Specificity)   = {round(fpr*100, 2)}')"
   ]
  },
  {
   "cell_type": "code",
   "execution_count": 106,
   "metadata": {},
   "outputs": [],
   "source": [
    "pred_probs_test = model_pca.predict_proba(telco_test_pca)"
   ]
  },
  {
   "cell_type": "code",
   "execution_count": 107,
   "metadata": {},
   "outputs": [],
   "source": [
    "y_pred = pred_probs_test[:, 1]\n",
    "type(y_pred)\n",
    "y_pred = pd.Series(y_pred)\n",
    "y_pred = y_pred.values.reshape(-1)"
   ]
  },
  {
   "cell_type": "code",
   "execution_count": 108,
   "metadata": {},
   "outputs": [
    {
     "data": {
      "text/plain": [
       "'0.9'"
      ]
     },
     "execution_count": 108,
     "metadata": {},
     "output_type": "execute_result"
    }
   ],
   "source": [
    "\"{:2.2}\".format(metrics.roc_auc_score(y_train, y_train_pred))"
   ]
  },
  {
   "cell_type": "code",
   "execution_count": 109,
   "metadata": {},
   "outputs": [
    {
     "data": {
      "text/plain": [
       "'0.88'"
      ]
     },
     "execution_count": 109,
     "metadata": {},
     "output_type": "execute_result"
    }
   ],
   "source": [
    "\"{:2.2}\".format(metrics.roc_auc_score(y_test, pred_probs_test[:, 1]))"
   ]
  },
  {
   "cell_type": "code",
   "execution_count": 110,
   "metadata": {},
   "outputs": [
    {
     "data": {
      "text/html": [
       "<div>\n",
       "<style scoped>\n",
       "    .dataframe tbody tr th:only-of-type {\n",
       "        vertical-align: middle;\n",
       "    }\n",
       "\n",
       "    .dataframe tbody tr th {\n",
       "        vertical-align: top;\n",
       "    }\n",
       "\n",
       "    .dataframe thead th {\n",
       "        text-align: right;\n",
       "    }\n",
       "</style>\n",
       "<table border=\"1\" class=\"dataframe\">\n",
       "  <thead>\n",
       "    <tr style=\"text-align: right;\">\n",
       "      <th></th>\n",
       "      <th>churn</th>\n",
       "    </tr>\n",
       "  </thead>\n",
       "  <tbody>\n",
       "    <tr>\n",
       "      <td>18533</td>\n",
       "      <td>0</td>\n",
       "    </tr>\n",
       "    <tr>\n",
       "      <td>81452</td>\n",
       "      <td>0</td>\n",
       "    </tr>\n",
       "    <tr>\n",
       "      <td>46364</td>\n",
       "      <td>0</td>\n",
       "    </tr>\n",
       "    <tr>\n",
       "      <td>45125</td>\n",
       "      <td>0</td>\n",
       "    </tr>\n",
       "    <tr>\n",
       "      <td>51838</td>\n",
       "      <td>0</td>\n",
       "    </tr>\n",
       "  </tbody>\n",
       "</table>\n",
       "</div>"
      ],
      "text/plain": [
       "       churn\n",
       "18533      0\n",
       "81452      0\n",
       "46364      0\n",
       "45125      0\n",
       "51838      0"
      ]
     },
     "execution_count": 110,
     "metadata": {},
     "output_type": "execute_result"
    }
   ],
   "source": [
    "y_testdf = pd.DataFrame(y_test)\n",
    "y_testdf.head()"
   ]
  },
  {
   "cell_type": "code",
   "execution_count": 111,
   "metadata": {},
   "outputs": [
    {
     "data": {
      "text/html": [
       "<div>\n",
       "<style scoped>\n",
       "    .dataframe tbody tr th:only-of-type {\n",
       "        vertical-align: middle;\n",
       "    }\n",
       "\n",
       "    .dataframe tbody tr th {\n",
       "        vertical-align: top;\n",
       "    }\n",
       "\n",
       "    .dataframe thead th {\n",
       "        text-align: right;\n",
       "    }\n",
       "</style>\n",
       "<table border=\"1\" class=\"dataframe\">\n",
       "  <thead>\n",
       "    <tr style=\"text-align: right;\">\n",
       "      <th></th>\n",
       "      <th>0</th>\n",
       "    </tr>\n",
       "  </thead>\n",
       "  <tbody>\n",
       "    <tr>\n",
       "      <td>0</td>\n",
       "      <td>0.000052</td>\n",
       "    </tr>\n",
       "    <tr>\n",
       "      <td>1</td>\n",
       "      <td>0.608503</td>\n",
       "    </tr>\n",
       "    <tr>\n",
       "      <td>2</td>\n",
       "      <td>0.031185</td>\n",
       "    </tr>\n",
       "    <tr>\n",
       "      <td>3</td>\n",
       "      <td>0.386951</td>\n",
       "    </tr>\n",
       "    <tr>\n",
       "      <td>4</td>\n",
       "      <td>0.661199</td>\n",
       "    </tr>\n",
       "  </tbody>\n",
       "</table>\n",
       "</div>"
      ],
      "text/plain": [
       "          0\n",
       "0  0.000052\n",
       "1  0.608503\n",
       "2  0.031185\n",
       "3  0.386951\n",
       "4  0.661199"
      ]
     },
     "execution_count": 111,
     "metadata": {},
     "output_type": "execute_result"
    }
   ],
   "source": [
    "y_preddf = pd.DataFrame(y_pred)\n",
    "y_preddf.head()"
   ]
  },
  {
   "cell_type": "code",
   "execution_count": 112,
   "metadata": {},
   "outputs": [],
   "source": [
    "y_preddf.reset_index(drop = True, inplace = True)\n",
    "y_testdf.reset_index(drop = True, inplace = True)"
   ]
  },
  {
   "cell_type": "code",
   "execution_count": 113,
   "metadata": {},
   "outputs": [
    {
     "data": {
      "text/html": [
       "<div>\n",
       "<style scoped>\n",
       "    .dataframe tbody tr th:only-of-type {\n",
       "        vertical-align: middle;\n",
       "    }\n",
       "\n",
       "    .dataframe tbody tr th {\n",
       "        vertical-align: top;\n",
       "    }\n",
       "\n",
       "    .dataframe thead th {\n",
       "        text-align: right;\n",
       "    }\n",
       "</style>\n",
       "<table border=\"1\" class=\"dataframe\">\n",
       "  <thead>\n",
       "    <tr style=\"text-align: right;\">\n",
       "      <th></th>\n",
       "      <th>churn</th>\n",
       "      <th>0</th>\n",
       "    </tr>\n",
       "  </thead>\n",
       "  <tbody>\n",
       "    <tr>\n",
       "      <td>0</td>\n",
       "      <td>0</td>\n",
       "      <td>0.000052</td>\n",
       "    </tr>\n",
       "    <tr>\n",
       "      <td>1</td>\n",
       "      <td>0</td>\n",
       "      <td>0.608503</td>\n",
       "    </tr>\n",
       "    <tr>\n",
       "      <td>2</td>\n",
       "      <td>0</td>\n",
       "      <td>0.031185</td>\n",
       "    </tr>\n",
       "    <tr>\n",
       "      <td>3</td>\n",
       "      <td>0</td>\n",
       "      <td>0.386951</td>\n",
       "    </tr>\n",
       "    <tr>\n",
       "      <td>4</td>\n",
       "      <td>0</td>\n",
       "      <td>0.661199</td>\n",
       "    </tr>\n",
       "  </tbody>\n",
       "</table>\n",
       "</div>"
      ],
      "text/plain": [
       "   churn         0\n",
       "0      0  0.000052\n",
       "1      0  0.608503\n",
       "2      0  0.031185\n",
       "3      0  0.386951\n",
       "4      0  0.661199"
      ]
     },
     "execution_count": 113,
     "metadata": {},
     "output_type": "execute_result"
    }
   ],
   "source": [
    "y_pred_fin = pd.concat([y_testdf, y_preddf], axis = 1)\n",
    "y_pred_fin.head()"
   ]
  },
  {
   "cell_type": "code",
   "execution_count": 114,
   "metadata": {},
   "outputs": [
    {
     "data": {
      "text/html": [
       "<div>\n",
       "<style scoped>\n",
       "    .dataframe tbody tr th:only-of-type {\n",
       "        vertical-align: middle;\n",
       "    }\n",
       "\n",
       "    .dataframe tbody tr th {\n",
       "        vertical-align: top;\n",
       "    }\n",
       "\n",
       "    .dataframe thead th {\n",
       "        text-align: right;\n",
       "    }\n",
       "</style>\n",
       "<table border=\"1\" class=\"dataframe\">\n",
       "  <thead>\n",
       "    <tr style=\"text-align: right;\">\n",
       "      <th></th>\n",
       "      <th>churn</th>\n",
       "      <th>Churn_prob</th>\n",
       "    </tr>\n",
       "  </thead>\n",
       "  <tbody>\n",
       "    <tr>\n",
       "      <td>0</td>\n",
       "      <td>0</td>\n",
       "      <td>0.000052</td>\n",
       "    </tr>\n",
       "    <tr>\n",
       "      <td>1</td>\n",
       "      <td>0</td>\n",
       "      <td>0.608503</td>\n",
       "    </tr>\n",
       "    <tr>\n",
       "      <td>2</td>\n",
       "      <td>0</td>\n",
       "      <td>0.031185</td>\n",
       "    </tr>\n",
       "    <tr>\n",
       "      <td>3</td>\n",
       "      <td>0</td>\n",
       "      <td>0.386951</td>\n",
       "    </tr>\n",
       "    <tr>\n",
       "      <td>4</td>\n",
       "      <td>0</td>\n",
       "      <td>0.661199</td>\n",
       "    </tr>\n",
       "  </tbody>\n",
       "</table>\n",
       "</div>"
      ],
      "text/plain": [
       "   churn  Churn_prob\n",
       "0      0    0.000052\n",
       "1      0    0.608503\n",
       "2      0    0.031185\n",
       "3      0    0.386951\n",
       "4      0    0.661199"
      ]
     },
     "execution_count": 114,
     "metadata": {},
     "output_type": "execute_result"
    }
   ],
   "source": [
    "y_pred_fin = y_pred_fin.rename(columns = {0: 'Churn_prob'})\n",
    "y_pred_fin.head()"
   ]
  },
  {
   "cell_type": "code",
   "execution_count": 115,
   "metadata": {},
   "outputs": [],
   "source": [
    "y_pred_fin['final_predicted'] = y_pred_fin.Churn_prob.map(lambda x: 1 if x > cutoff_prob else 0)"
   ]
  },
  {
   "cell_type": "code",
   "execution_count": 116,
   "metadata": {},
   "outputs": [
    {
     "data": {
      "text/html": [
       "<div>\n",
       "<style scoped>\n",
       "    .dataframe tbody tr th:only-of-type {\n",
       "        vertical-align: middle;\n",
       "    }\n",
       "\n",
       "    .dataframe tbody tr th {\n",
       "        vertical-align: top;\n",
       "    }\n",
       "\n",
       "    .dataframe thead th {\n",
       "        text-align: right;\n",
       "    }\n",
       "</style>\n",
       "<table border=\"1\" class=\"dataframe\">\n",
       "  <thead>\n",
       "    <tr style=\"text-align: right;\">\n",
       "      <th></th>\n",
       "      <th>churn</th>\n",
       "      <th>Churn_prob</th>\n",
       "      <th>final_predicted</th>\n",
       "    </tr>\n",
       "  </thead>\n",
       "  <tbody>\n",
       "    <tr>\n",
       "      <td>0</td>\n",
       "      <td>0</td>\n",
       "      <td>0.000052</td>\n",
       "      <td>0</td>\n",
       "    </tr>\n",
       "    <tr>\n",
       "      <td>1</td>\n",
       "      <td>0</td>\n",
       "      <td>0.608503</td>\n",
       "      <td>1</td>\n",
       "    </tr>\n",
       "    <tr>\n",
       "      <td>2</td>\n",
       "      <td>0</td>\n",
       "      <td>0.031185</td>\n",
       "      <td>0</td>\n",
       "    </tr>\n",
       "    <tr>\n",
       "      <td>3</td>\n",
       "      <td>0</td>\n",
       "      <td>0.386951</td>\n",
       "      <td>0</td>\n",
       "    </tr>\n",
       "    <tr>\n",
       "      <td>4</td>\n",
       "      <td>0</td>\n",
       "      <td>0.661199</td>\n",
       "      <td>1</td>\n",
       "    </tr>\n",
       "  </tbody>\n",
       "</table>\n",
       "</div>"
      ],
      "text/plain": [
       "   churn  Churn_prob  final_predicted\n",
       "0      0    0.000052                0\n",
       "1      0    0.608503                1\n",
       "2      0    0.031185                0\n",
       "3      0    0.386951                0\n",
       "4      0    0.661199                1"
      ]
     },
     "execution_count": 116,
     "metadata": {},
     "output_type": "execute_result"
    }
   ],
   "source": [
    "y_pred_fin.head()"
   ]
  },
  {
   "cell_type": "code",
   "execution_count": 117,
   "metadata": {},
   "outputs": [
    {
     "data": {
      "text/plain": [
       "array([[6778, 1429],\n",
       "       [ 149,  638]])"
      ]
     },
     "execution_count": 117,
     "metadata": {},
     "output_type": "execute_result"
    }
   ],
   "source": [
    "confusion2 = metrics.confusion_matrix( y_pred_fin.churn, y_pred_fin.final_predicted )          # TN         FP\n",
    "confusion2                                                                # FN         TP"
   ]
  },
  {
   "cell_type": "code",
   "execution_count": 118,
   "metadata": {},
   "outputs": [],
   "source": [
    "TP = confusion2[1,1] # true positive \n",
    "TN = confusion2[0,0] # true negatives\n",
    "FP = confusion2[0,1] # false positives\n",
    "FN = confusion2[1,0] # false negatives"
   ]
  },
  {
   "cell_type": "code",
   "execution_count": 119,
   "metadata": {},
   "outputs": [
    {
     "name": "stdout",
     "output_type": "stream",
     "text": [
      "Test Set Metrics:\n",
      "=================\n",
      "Accuracy                   = 82.03 \n",
      "Sensitivity (= Recall)     = 81.07\n",
      "Specificity (= TNR)        = 82.59\n",
      "Precision (= PPR)          = 30.87\n",
      "NPR                        = 97.85\n",
      "FPR ( = 1 - Specificity)   = 17.41\n"
     ]
    }
   ],
   "source": [
    "print('Test Set Metrics:')\n",
    "print('='*17)\n",
    "print(f'Accuracy                   = {round(accuracy*100, 2)} ')\n",
    "sensitivity = TP/(TP + FN)\n",
    "print(f'Sensitivity (= Recall)     = {round(sensitivity*100, 2)}')\n",
    "\n",
    "specificity = TN/(TN + FP)\n",
    "print(f'Specificity (= TNR)        = {round(specificity*100, 2)}')\n",
    "\n",
    "precision = TP/(TP + FP)\n",
    "ppr = precision\n",
    "print(f'Precision (= PPR)          = {round(ppr*100, 2)}')\n",
    "\n",
    "npr = TN/(TN + FN)\n",
    "print(f'NPR                        = {round(npr*100, 2)}')\n",
    "\n",
    "fpr = FP/(FP + TN)\n",
    "print(f'FPR ( = 1 - Specificity)   = {round(fpr*100, 2)}')"
   ]
  },
  {
   "cell_type": "markdown",
   "metadata": {},
   "source": [
    "* We see from the above, that:<br>\n",
    "**Sensitivity** is **`81.07`**<br>\n",
    "**Specificity** is **`82.72`**<br>\n",
    "**Precision** is **`31.03`**<br>\n",
    "<br>\n",
    "<br>\n",
    "- We see that the precision value is quite low, about 31%\n",
    "- This is possibly not ideal\n",
    "- However, the most important thing is to correctly identify all the customers who my possibly churn\n",
    "- This will help the telecom company:\n",
    "    - work out a strategy on how to retain them\n",
    "    - bring out some schemes specially meant of customers who might churn\n",
    "- In the bargain, the telecom company might give these schemes even to those customer who might not churn\n",
    "- **Still, it is a farily good decision, since all these customers are HVC and also because it might ensure these other customers don't churn either**"
   ]
  },
  {
   "cell_type": "markdown",
   "metadata": {},
   "source": [
    "## 7.0 Random Forest Classifier"
   ]
  },
  {
   "cell_type": "markdown",
   "metadata": {},
   "source": [
    "* We now run the RF classifier\n",
    "* For this, use GridSearchCV to identify the right model among a set of candidate models\n",
    "* To get the candidate models, we try 2 parameters each, for `max_depth`, `min_samples_leaf`, `min_samples_split`, `max_features` and `n_estimators`\n",
    "* We are running only for 2 values, since GridSearchCV takes a long time to complete\n",
    "* After selecting the best here, we have run only 1 instance of RF estimator over different values around the best value\n",
    "* We finally select the set of values that give the best Sensitivity"
   ]
  },
  {
   "cell_type": "code",
   "execution_count": 120,
   "metadata": {},
   "outputs": [],
   "source": [
    "# Create the parameter grid based on the results of random search \n",
    "params = {\n",
    "    'max_depth': [4, 6],\n",
    "    'min_samples_leaf': [1, 3],\n",
    "    'min_samples_split': [5000, 7000],\n",
    "    'max_features': [40, 59],\n",
    "    'n_estimators': [20, 40]\n",
    "}"
   ]
  },
  {
   "cell_type": "code",
   "execution_count": 121,
   "metadata": {},
   "outputs": [],
   "source": [
    "#classifier_rf = RandomForestClassifier(random_state=42, n_jobs=-1, class_weight = 'balanced')"
   ]
  },
  {
   "cell_type": "code",
   "execution_count": 122,
   "metadata": {},
   "outputs": [],
   "source": [
    "# Instantiate the grid search model\n",
    "#grid_search = GridSearchCV(estimator=classifier_rf, param_grid=params, \n",
    "#                          cv=4, n_jobs=-1, verbose=1, scoring = \"recall\")"
   ]
  },
  {
   "cell_type": "code",
   "execution_count": 123,
   "metadata": {},
   "outputs": [],
   "source": [
    "#%%time\n",
    "#grid_search.fit(telco_train_pca, y_train)"
   ]
  },
  {
   "cell_type": "code",
   "execution_count": 124,
   "metadata": {},
   "outputs": [],
   "source": [
    "def get_dt_graph(dt_classifier):\n",
    "    dot_data = StringIO()\n",
    "    export_graphviz(dt_classifier, out_file=dot_data, filled=True,rounded=True,\n",
    "                    feature_names=train_df.columns, \n",
    "                    class_names=['Churn', \"No Churn\"])\n",
    "    graph = pydotplus.graph_from_dot_data(dot_data.getvalue())\n",
    "    return graph"
   ]
  },
  {
   "cell_type": "code",
   "execution_count": 125,
   "metadata": {},
   "outputs": [],
   "source": [
    "def evaluate_model(dt_classifier):\n",
    "    print(\"Train Accuracy :\", metrics.accuracy_score(y_train, dt_classifier.predict(telco_train_pca)))\n",
    "    print(\"Train Confusion Matrix:\")\n",
    "    confusion2 = metrics.confusion_matrix(y_train, dt_classifier.predict(telco_train_pca))\n",
    "    print(metrics.confusion_matrix(y_train, dt_classifier.predict(telco_train_pca)))\n",
    "    print(f'Train RECALL SCORE: {metrics.recall_score(y_train, dt_classifier.predict(telco_train_pca))}')\n",
    "    TP = confusion2[1,1] # true positive \n",
    "    TN = confusion2[0,0] # true negatives\n",
    "    FP = confusion2[0,1] # false positives\n",
    "    FN = confusion2[1,0] # false negatives\n",
    "    print(\"-\"*50)\n",
    "    print('Train Set Metrics:')\n",
    "    print('='*17)\n",
    "    accuracy = (TP + TN)/confusion2.sum()\n",
    "    print(f'Accuracy                   = {round(accuracy*100, 2)} ')\n",
    "    sensitivity = TP/(TP + FN)\n",
    "    print(f'Sensitivity (= Recall)     = {round(sensitivity*100, 2)}')\n",
    "\n",
    "    specificity = TN/(TN + FP)\n",
    "    print(f'Specificity (= TNR)        = {round(specificity*100, 2)}')\n",
    "\n",
    "    precision = TP/(TP + FP)\n",
    "    ppr = precision\n",
    "    print(f'Precision (= PPR)          = {round(ppr*100, 2)}')\n",
    "\n",
    "    npr = TN/(TN + FN)\n",
    "    print(f'NPR                        = {round(npr*100, 2)}')\n",
    "\n",
    "    fpr = FP/(FP + TN)\n",
    "    print(f'FPR ( = 1 - Specificity)   = {round(fpr*100, 2)}')\n",
    "                                          \n",
    "    print(\"-\"*50)\n",
    "    print(\"Test Accuracy :\", metrics.accuracy_score(y_test, dt_classifier.predict(telco_test_pca)))\n",
    "    print(\"Test Confusion Matrix:\")\n",
    "    confusion2 = metrics.confusion_matrix(y_test, dt_classifier.predict(telco_test_pca))\n",
    "    print(metrics.confusion_matrix(y_test, dt_classifier.predict(telco_test_pca)))\n",
    "    print(f'Test RECALL SCORE: {metrics.recall_score(y_test, dt_classifier.predict(telco_test_pca))}')\n",
    "    TP = confusion2[1,1] # true positive \n",
    "    TN = confusion2[0,0] # true negatives\n",
    "    FP = confusion2[0,1] # false positives\n",
    "    FN = confusion2[1,0] # false negatives\n",
    "    print(\"-\"*50)\n",
    "    print('Test Set Metrics:')\n",
    "    print('='*17)\n",
    "    accuracy = (TP + TN)/confusion2.sum()\n",
    "    print(f'Accuracy                   = {round(accuracy*100, 2)} ')\n",
    "    sensitivity = TP/(TP + FN)\n",
    "    print(f'Sensitivity (= Recall)     = {round(sensitivity*100, 2)}')\n",
    "\n",
    "    specificity = TN/(TN + FP)\n",
    "    print(f'Specificity (= TNR)        = {round(specificity*100, 2)}')\n",
    "\n",
    "    precision = TP/(TP + FP)\n",
    "    ppr = precision\n",
    "    print(f'Precision (= PPR)          = {round(ppr*100, 2)}')\n",
    "\n",
    "    npr = TN/(TN + FN)\n",
    "    print(f'NPR                        = {round(npr*100, 2)}')\n",
    "\n",
    "    fpr = FP/(FP + TN)\n",
    "    print(f'FPR ( = 1 - Specificity)   = {round(fpr*100, 2)}')\n",
    "    print(\"-\"*50)"
   ]
  },
  {
   "cell_type": "code",
   "execution_count": 126,
   "metadata": {},
   "outputs": [],
   "source": [
    "#rf_best = grid_search.best_estimator_"
   ]
  },
  {
   "cell_type": "code",
   "execution_count": 127,
   "metadata": {},
   "outputs": [],
   "source": [
    "#rf_best"
   ]
  },
  {
   "cell_type": "code",
   "execution_count": 128,
   "metadata": {},
   "outputs": [],
   "source": [
    "#evaluate_model(rf_best)"
   ]
  },
  {
   "cell_type": "code",
   "execution_count": 129,
   "metadata": {},
   "outputs": [],
   "source": [
    "#sample_tree = rf_best.estimators_[0]"
   ]
  },
  {
   "cell_type": "code",
   "execution_count": 131,
   "metadata": {},
   "outputs": [],
   "source": [
    "#gph = get_dt_graph(sample_tree)\n",
    "#Image(gph.create_png())"
   ]
  },
  {
   "cell_type": "code",
   "execution_count": 137,
   "metadata": {},
   "outputs": [],
   "source": [
    "rf = RandomForestClassifier(random_state=42, n_estimators=20, max_depth=4, min_samples_leaf = 1, \n",
    "                            max_features = 10, min_samples_split = 5000, class_weight = 'balanced', n_jobs = -1)"
   ]
  },
  {
   "cell_type": "code",
   "execution_count": 138,
   "metadata": {},
   "outputs": [
    {
     "data": {
      "text/plain": [
       "(20985, 41)"
      ]
     },
     "execution_count": 138,
     "metadata": {},
     "output_type": "execute_result"
    }
   ],
   "source": [
    "telco_train_pca.shape"
   ]
  },
  {
   "cell_type": "code",
   "execution_count": 139,
   "metadata": {},
   "outputs": [],
   "source": [
    "train_df = pd.DataFrame(telco_train_pca)\n",
    "test_df = pd.DataFrame(telco_test_pca)"
   ]
  },
  {
   "cell_type": "code",
   "execution_count": 140,
   "metadata": {},
   "outputs": [
    {
     "data": {
      "text/plain": [
       "RandomForestClassifier(class_weight='balanced', max_depth=4, max_features=10,\n",
       "                       min_samples_split=5000, n_estimators=20, n_jobs=-1,\n",
       "                       random_state=42)"
      ]
     },
     "execution_count": 140,
     "metadata": {},
     "output_type": "execute_result"
    }
   ],
   "source": [
    "rf.fit(train_df, y_train)"
   ]
  },
  {
   "cell_type": "code",
   "execution_count": 141,
   "metadata": {},
   "outputs": [
    {
     "name": "stdout",
     "output_type": "stream",
     "text": [
      "Train Accuracy : 0.7806528472718609\n",
      "Train Confusion Matrix:\n",
      "[[14918  4265]\n",
      " [  338  1464]]\n",
      "Train RECALL SCORE: 0.8124306326304107\n",
      "--------------------------------------------------\n",
      "Train Set Metrics:\n",
      "=================\n",
      "Accuracy                   = 78.07 \n",
      "Sensitivity (= Recall)     = 81.24\n",
      "Specificity (= TNR)        = 77.77\n",
      "Precision (= PPR)          = 25.55\n",
      "NPR                        = 97.78\n",
      "FPR ( = 1 - Specificity)   = 22.23\n",
      "--------------------------------------------------\n",
      "Test Accuracy : 0.7802979764287302\n",
      "Test Confusion Matrix:\n",
      "[[6410 1797]\n",
      " [ 179  608]]\n",
      "Test RECALL SCORE: 0.772554002541296\n",
      "--------------------------------------------------\n",
      "Test Set Metrics:\n",
      "=================\n",
      "Accuracy                   = 78.03 \n",
      "Sensitivity (= Recall)     = 77.26\n",
      "Specificity (= TNR)        = 78.1\n",
      "Precision (= PPR)          = 25.28\n",
      "NPR                        = 97.28\n",
      "FPR ( = 1 - Specificity)   = 21.9\n",
      "--------------------------------------------------\n"
     ]
    }
   ],
   "source": [
    "evaluate_model(rf)"
   ]
  },
  {
   "cell_type": "markdown",
   "metadata": {},
   "source": [
    "### 7.1 Results\n",
    "We can see from the above that:\n",
    "\n",
    "- **Sensitivity = `83.61`**\n",
    "- **Specificity = `68.49`**\n",
    "- **Precision   = `20.28`**\n",
    "\n",
    "Again, since we need to value churning customer more, we choose ths model, which gives more weightage to Sensitivity"
   ]
  },
  {
   "cell_type": "markdown",
   "metadata": {},
   "source": [
    "## 8.0 Decision Trees\n",
    "\n",
    "* We now run Decision Trees, again using GridSearchCV\n",
    "* Again, after getting a model close to what is required, we have run a single instance of Decision Tree classifier by varying values around it to get the best estimator"
   ]
  },
  {
   "cell_type": "code",
   "execution_count": 319,
   "metadata": {},
   "outputs": [],
   "source": [
    "params1 = {\n",
    "    'max_depth': [4, 5, 6],\n",
    "    'min_samples_leaf': [1, 3, 5],\n",
    "    'min_samples_split': [7000, 8000, 9000],\n",
    "}"
   ]
  },
  {
   "cell_type": "code",
   "execution_count": 320,
   "metadata": {},
   "outputs": [],
   "source": [
    "dtclf = DecisionTreeClassifier(random_state=42, class_weight = 'balanced')"
   ]
  },
  {
   "cell_type": "code",
   "execution_count": 321,
   "metadata": {},
   "outputs": [],
   "source": [
    "grid_search1 = GridSearchCV(estimator=dtclf, param_grid=params1, \n",
    "                          cv=4, verbose=1, scoring = \"recall\", n_jobs = -1)"
   ]
  },
  {
   "cell_type": "code",
   "execution_count": 322,
   "metadata": {
    "scrolled": true
   },
   "outputs": [
    {
     "name": "stdout",
     "output_type": "stream",
     "text": [
      "Fitting 4 folds for each of 27 candidates, totalling 108 fits\n"
     ]
    },
    {
     "name": "stderr",
     "output_type": "stream",
     "text": [
      "[Parallel(n_jobs=-1)]: Using backend LokyBackend with 4 concurrent workers.\n",
      "[Parallel(n_jobs=-1)]: Done  42 tasks      | elapsed:   11.4s\n",
      "[Parallel(n_jobs=-1)]: Done 108 out of 108 | elapsed:   21.6s finished\n"
     ]
    },
    {
     "name": "stdout",
     "output_type": "stream",
     "text": [
      "CPU times: user 1.07 s, sys: 234 ms, total: 1.3 s\n",
      "Wall time: 22.1 s\n"
     ]
    },
    {
     "data": {
      "text/plain": [
       "GridSearchCV(cv=4,\n",
       "             estimator=DecisionTreeClassifier(class_weight='balanced',\n",
       "                                              random_state=42),\n",
       "             n_jobs=-1,\n",
       "             param_grid={'max_depth': [4, 5, 6], 'min_samples_leaf': [1, 3, 5],\n",
       "                         'min_samples_split': [7000, 8000, 9000]},\n",
       "             scoring='recall', verbose=1)"
      ]
     },
     "execution_count": 322,
     "metadata": {},
     "output_type": "execute_result"
    }
   ],
   "source": [
    "%%time\n",
    "grid_search1.fit(telco_train_pca, y_train)"
   ]
  },
  {
   "cell_type": "code",
   "execution_count": 323,
   "metadata": {},
   "outputs": [
    {
     "data": {
      "text/html": [
       "<div>\n",
       "<style scoped>\n",
       "    .dataframe tbody tr th:only-of-type {\n",
       "        vertical-align: middle;\n",
       "    }\n",
       "\n",
       "    .dataframe tbody tr th {\n",
       "        vertical-align: top;\n",
       "    }\n",
       "\n",
       "    .dataframe thead th {\n",
       "        text-align: right;\n",
       "    }\n",
       "</style>\n",
       "<table border=\"1\" class=\"dataframe\">\n",
       "  <thead>\n",
       "    <tr style=\"text-align: right;\">\n",
       "      <th></th>\n",
       "      <th>mean_fit_time</th>\n",
       "      <th>std_fit_time</th>\n",
       "      <th>mean_score_time</th>\n",
       "      <th>std_score_time</th>\n",
       "      <th>param_max_depth</th>\n",
       "      <th>param_min_samples_leaf</th>\n",
       "      <th>param_min_samples_split</th>\n",
       "      <th>params</th>\n",
       "      <th>split0_test_score</th>\n",
       "      <th>split1_test_score</th>\n",
       "      <th>split2_test_score</th>\n",
       "      <th>split3_test_score</th>\n",
       "      <th>mean_test_score</th>\n",
       "      <th>std_test_score</th>\n",
       "      <th>rank_test_score</th>\n",
       "    </tr>\n",
       "  </thead>\n",
       "  <tbody>\n",
       "    <tr>\n",
       "      <td>0</td>\n",
       "      <td>0.611078</td>\n",
       "      <td>0.016628</td>\n",
       "      <td>0.006965</td>\n",
       "      <td>0.000128</td>\n",
       "      <td>4</td>\n",
       "      <td>1</td>\n",
       "      <td>7000</td>\n",
       "      <td>{'max_depth': 4, 'min_samples_leaf': 1, 'min_s...</td>\n",
       "      <td>0.880266</td>\n",
       "      <td>0.831111</td>\n",
       "      <td>0.857778</td>\n",
       "      <td>0.855876</td>\n",
       "      <td>0.856258</td>\n",
       "      <td>0.017401</td>\n",
       "      <td>1</td>\n",
       "    </tr>\n",
       "    <tr>\n",
       "      <td>1</td>\n",
       "      <td>0.593201</td>\n",
       "      <td>0.005469</td>\n",
       "      <td>0.006110</td>\n",
       "      <td>0.000131</td>\n",
       "      <td>4</td>\n",
       "      <td>1</td>\n",
       "      <td>8000</td>\n",
       "      <td>{'max_depth': 4, 'min_samples_leaf': 1, 'min_s...</td>\n",
       "      <td>0.880266</td>\n",
       "      <td>0.831111</td>\n",
       "      <td>0.857778</td>\n",
       "      <td>0.855876</td>\n",
       "      <td>0.856258</td>\n",
       "      <td>0.017401</td>\n",
       "      <td>1</td>\n",
       "    </tr>\n",
       "    <tr>\n",
       "      <td>2</td>\n",
       "      <td>0.586478</td>\n",
       "      <td>0.012327</td>\n",
       "      <td>0.006899</td>\n",
       "      <td>0.000997</td>\n",
       "      <td>4</td>\n",
       "      <td>1</td>\n",
       "      <td>9000</td>\n",
       "      <td>{'max_depth': 4, 'min_samples_leaf': 1, 'min_s...</td>\n",
       "      <td>0.880266</td>\n",
       "      <td>0.831111</td>\n",
       "      <td>0.857778</td>\n",
       "      <td>0.855876</td>\n",
       "      <td>0.856258</td>\n",
       "      <td>0.017401</td>\n",
       "      <td>1</td>\n",
       "    </tr>\n",
       "    <tr>\n",
       "      <td>3</td>\n",
       "      <td>0.599078</td>\n",
       "      <td>0.016123</td>\n",
       "      <td>0.005423</td>\n",
       "      <td>0.000425</td>\n",
       "      <td>4</td>\n",
       "      <td>3</td>\n",
       "      <td>7000</td>\n",
       "      <td>{'max_depth': 4, 'min_samples_leaf': 3, 'min_s...</td>\n",
       "      <td>0.880266</td>\n",
       "      <td>0.831111</td>\n",
       "      <td>0.857778</td>\n",
       "      <td>0.855876</td>\n",
       "      <td>0.856258</td>\n",
       "      <td>0.017401</td>\n",
       "      <td>1</td>\n",
       "    </tr>\n",
       "    <tr>\n",
       "      <td>4</td>\n",
       "      <td>0.592948</td>\n",
       "      <td>0.012632</td>\n",
       "      <td>0.005778</td>\n",
       "      <td>0.000154</td>\n",
       "      <td>4</td>\n",
       "      <td>3</td>\n",
       "      <td>8000</td>\n",
       "      <td>{'max_depth': 4, 'min_samples_leaf': 3, 'min_s...</td>\n",
       "      <td>0.880266</td>\n",
       "      <td>0.831111</td>\n",
       "      <td>0.857778</td>\n",
       "      <td>0.855876</td>\n",
       "      <td>0.856258</td>\n",
       "      <td>0.017401</td>\n",
       "      <td>1</td>\n",
       "    </tr>\n",
       "  </tbody>\n",
       "</table>\n",
       "</div>"
      ],
      "text/plain": [
       "   mean_fit_time  std_fit_time  mean_score_time  std_score_time  \\\n",
       "0       0.611078      0.016628         0.006965        0.000128   \n",
       "1       0.593201      0.005469         0.006110        0.000131   \n",
       "2       0.586478      0.012327         0.006899        0.000997   \n",
       "3       0.599078      0.016123         0.005423        0.000425   \n",
       "4       0.592948      0.012632         0.005778        0.000154   \n",
       "\n",
       "  param_max_depth param_min_samples_leaf param_min_samples_split  \\\n",
       "0               4                      1                    7000   \n",
       "1               4                      1                    8000   \n",
       "2               4                      1                    9000   \n",
       "3               4                      3                    7000   \n",
       "4               4                      3                    8000   \n",
       "\n",
       "                                              params  split0_test_score  \\\n",
       "0  {'max_depth': 4, 'min_samples_leaf': 1, 'min_s...           0.880266   \n",
       "1  {'max_depth': 4, 'min_samples_leaf': 1, 'min_s...           0.880266   \n",
       "2  {'max_depth': 4, 'min_samples_leaf': 1, 'min_s...           0.880266   \n",
       "3  {'max_depth': 4, 'min_samples_leaf': 3, 'min_s...           0.880266   \n",
       "4  {'max_depth': 4, 'min_samples_leaf': 3, 'min_s...           0.880266   \n",
       "\n",
       "   split1_test_score  split2_test_score  split3_test_score  mean_test_score  \\\n",
       "0           0.831111           0.857778           0.855876         0.856258   \n",
       "1           0.831111           0.857778           0.855876         0.856258   \n",
       "2           0.831111           0.857778           0.855876         0.856258   \n",
       "3           0.831111           0.857778           0.855876         0.856258   \n",
       "4           0.831111           0.857778           0.855876         0.856258   \n",
       "\n",
       "   std_test_score  rank_test_score  \n",
       "0        0.017401                1  \n",
       "1        0.017401                1  \n",
       "2        0.017401                1  \n",
       "3        0.017401                1  \n",
       "4        0.017401                1  "
      ]
     },
     "execution_count": 323,
     "metadata": {},
     "output_type": "execute_result"
    }
   ],
   "source": [
    "bestDf = pd.DataFrame(grid_search1.cv_results_)\n",
    "bestDf.head()"
   ]
  },
  {
   "cell_type": "code",
   "execution_count": 325,
   "metadata": {},
   "outputs": [],
   "source": [
    "rf_best1 = grid_search1.best_estimator_"
   ]
  },
  {
   "cell_type": "code",
   "execution_count": 326,
   "metadata": {},
   "outputs": [
    {
     "data": {
      "text/plain": [
       "DecisionTreeClassifier(class_weight='balanced', max_depth=4,\n",
       "                       min_samples_split=7000, random_state=42)"
      ]
     },
     "execution_count": 326,
     "metadata": {},
     "output_type": "execute_result"
    }
   ],
   "source": [
    "rf_best1"
   ]
  },
  {
   "cell_type": "code",
   "execution_count": 327,
   "metadata": {},
   "outputs": [
    {
     "data": {
      "image/png": "[encoded data removed]",
      "text/plain": [
       "<IPython.core.display.Image object>"
      ]
     },
     "execution_count": 327,
     "metadata": {},
     "output_type": "execute_result"
    }
   ],
   "source": [
    "gph = get_dt_graph(rf_best1)\n",
    "Image(gph.create_png())"
   ]
  },
  {
   "cell_type": "code",
   "execution_count": 328,
   "metadata": {},
   "outputs": [
    {
     "name": "stdout",
     "output_type": "stream",
     "text": [
      "Train Accuracy : 0.6909220872051466\n",
      "Train Confusion Matrix:\n",
      "[[12955  6228]\n",
      " [  258  1544]]\n",
      "Train RECALL SCORE: 0.8568257491675916\n",
      "--------------------------------------------------\n",
      "Train Set Metrics:\n",
      "=================\n",
      "Accuracy                   = 69.09 \n",
      "Sensitivity (= Recall)     = 85.68\n",
      "Specificity (= TNR)        = 67.53\n",
      "Precision (= PPR)          = 19.87\n",
      "NPR                        = 98.05\n",
      "FPR ( = 1 - Specificity)   = 32.47\n",
      "--------------------------------------------------\n",
      "Test Accuracy : 0.6950189014898821\n",
      "Test Confusion Matrix:\n",
      "[[5597 2610]\n",
      " [ 133  654]]\n",
      "Test RECALL SCORE: 0.8310038119440915\n",
      "--------------------------------------------------\n",
      "Test Set Metrics:\n",
      "=================\n",
      "Accuracy                   = 69.5 \n",
      "Sensitivity (= Recall)     = 83.1\n",
      "Specificity (= TNR)        = 68.2\n",
      "Precision (= PPR)          = 20.04\n",
      "NPR                        = 97.68\n",
      "FPR ( = 1 - Specificity)   = 31.8\n",
      "--------------------------------------------------\n"
     ]
    }
   ],
   "source": [
    "evaluate_model(rf_best1)"
   ]
  },
  {
   "cell_type": "markdown",
   "metadata": {},
   "source": [
    "### 7.1 Observations\n",
    "We can observe the following:\n",
    "- Multiple estimators have a rank of 1\n",
    "- The value given above is for min_samples_split = 7000\n",
    "- We then ran Decision Tree classifier with multiple values, individually\n",
    "- **This was because, running the DT Classifier using GridSearchCV was too time-conusming**\n",
    "- We then settled on `max_depth = 4`, `min_samples_split = 8000` and `min_samples_leaf = 3`, since it gave the best Sensitivity\n",
    "- As mentioned earlier, Sensitivity has been given maximum weightage in deciding models, since, identifying prospective **Churn** customers is more important than having high accuracy or precision"
   ]
  },
  {
   "cell_type": "code",
   "execution_count": 329,
   "metadata": {},
   "outputs": [
    {
     "data": {
      "text/plain": [
       "DecisionTreeClassifier(class_weight='balanced', max_depth=4, min_samples_leaf=3,\n",
       "                       min_samples_split=8000, random_state=42)"
      ]
     },
     "execution_count": 329,
     "metadata": {},
     "output_type": "execute_result"
    }
   ],
   "source": [
    "dt_default = DecisionTreeClassifier(max_depth = 4, min_samples_split = 8000, min_samples_leaf = 3, \\\n",
    "                                    random_state=42, class_weight = 'balanced')\n",
    "dt_default.fit(telco_train_pca, y_train)"
   ]
  },
  {
   "cell_type": "code",
   "execution_count": 330,
   "metadata": {},
   "outputs": [
    {
     "name": "stdout",
     "output_type": "stream",
     "text": [
      "Train Accuracy : 0.6909220872051466\n",
      "Train Confusion Matrix:\n",
      "[[12955  6228]\n",
      " [  258  1544]]\n",
      "Train RECALL SCORE: 0.8568257491675916\n",
      "--------------------------------------------------\n",
      "Train Set Metrics:\n",
      "=================\n",
      "Accuracy                   = 69.09 \n",
      "Sensitivity (= Recall)     = 85.68\n",
      "Specificity (= TNR)        = 67.53\n",
      "Precision (= PPR)          = 19.87\n",
      "NPR                        = 98.05\n",
      "FPR ( = 1 - Specificity)   = 32.47\n",
      "--------------------------------------------------\n",
      "Test Accuracy : 0.6950189014898821\n",
      "Test Confusion Matrix:\n",
      "[[5597 2610]\n",
      " [ 133  654]]\n",
      "Test RECALL SCORE: 0.8310038119440915\n",
      "--------------------------------------------------\n",
      "Test Set Metrics:\n",
      "=================\n",
      "Accuracy                   = 69.5 \n",
      "Sensitivity (= Recall)     = 83.1\n",
      "Specificity (= TNR)        = 68.2\n",
      "Precision (= PPR)          = 20.04\n",
      "NPR                        = 97.68\n",
      "FPR ( = 1 - Specificity)   = 31.8\n",
      "--------------------------------------------------\n"
     ]
    }
   ],
   "source": [
    "evaluate_model(dt_default)"
   ]
  },
  {
   "cell_type": "markdown",
   "metadata": {},
   "source": [
    "### 7.3 Results\n",
    "Following are the salient values of this model\n",
    "####    - Sensitivity = 83.1%\n",
    "####    - Specificity = 68.2%\n",
    "####    - Precision   = 20.04%\n",
    "    \n",
    "Again, based on the problem structure that **Sensitivity** is most important, we have selected a model with highest sensitivity"
   ]
  },
  {
   "cell_type": "code",
   "execution_count": null,
   "metadata": {},
   "outputs": [],
   "source": []
  },
  {
   "cell_type": "code",
   "execution_count": null,
   "metadata": {},
   "outputs": [],
   "source": []
  },
  {
   "cell_type": "code",
   "execution_count": null,
   "metadata": {},
   "outputs": [],
   "source": []
  },
  {
   "cell_type": "code",
   "execution_count": null,
   "metadata": {},
   "outputs": [],
   "source": []
  },
  {
   "cell_type": "code",
   "execution_count": null,
   "metadata": {},
   "outputs": [],
   "source": []
  },
  {
   "cell_type": "code",
   "execution_count": null,
   "metadata": {},
   "outputs": [],
   "source": []
  },
  {
   "cell_type": "code",
   "execution_count": null,
   "metadata": {},
   "outputs": [],
   "source": []
  },
  {
   "cell_type": "code",
   "execution_count": null,
   "metadata": {},
   "outputs": [],
   "source": []
  },
  {
   "cell_type": "code",
   "execution_count": null,
   "metadata": {},
   "outputs": [],
   "source": []
  },
  {
   "cell_type": "code",
   "execution_count": null,
   "metadata": {},
   "outputs": [],
   "source": []
  },
  {
   "cell_type": "code",
   "execution_count": null,
   "metadata": {},
   "outputs": [],
   "source": []
  },
  {
   "cell_type": "code",
   "execution_count": null,
   "metadata": {},
   "outputs": [],
   "source": []
  },
  {
   "cell_type": "code",
   "execution_count": null,
   "metadata": {},
   "outputs": [],
   "source": []
  },
  {
   "cell_type": "code",
   "execution_count": null,
   "metadata": {},
   "outputs": [],
   "source": []
  },
  {
   "cell_type": "code",
   "execution_count": null,
   "metadata": {},
   "outputs": [],
   "source": []
  },
  {
   "cell_type": "code",
   "execution_count": null,
   "metadata": {},
   "outputs": [],
   "source": []
  },
  {
   "cell_type": "code",
   "execution_count": null,
   "metadata": {},
   "outputs": [],
   "source": []
  },
  {
   "cell_type": "code",
   "execution_count": null,
   "metadata": {},
   "outputs": [],
   "source": []
  },
  {
   "cell_type": "code",
   "execution_count": null,
   "metadata": {},
   "outputs": [],
   "source": []
  },
  {
   "cell_type": "code",
   "execution_count": null,
   "metadata": {},
   "outputs": [],
   "source": []
  },
  {
   "cell_type": "code",
   "execution_count": null,
   "metadata": {},
   "outputs": [],
   "source": []
  },
  {
   "cell_type": "code",
   "execution_count": null,
   "metadata": {},
   "outputs": [],
   "source": []
  },
  {
   "cell_type": "code",
   "execution_count": null,
   "metadata": {},
   "outputs": [],
   "source": []
  },
  {
   "cell_type": "code",
   "execution_count": null,
   "metadata": {},
   "outputs": [],
   "source": []
  },
  {
   "cell_type": "code",
   "execution_count": null,
   "metadata": {},
   "outputs": [],
   "source": []
  },
  {
   "cell_type": "code",
   "execution_count": null,
   "metadata": {},
   "outputs": [],
   "source": []
  },
  {
   "cell_type": "code",
   "execution_count": null,
   "metadata": {},
   "outputs": [],
   "source": []
  },
  {
   "cell_type": "code",
   "execution_count": null,
   "metadata": {},
   "outputs": [],
   "source": []
  },
  {
   "cell_type": "code",
   "execution_count": null,
   "metadata": {},
   "outputs": [],
   "source": []
  },
  {
   "cell_type": "code",
   "execution_count": null,
   "metadata": {},
   "outputs": [],
   "source": []
  },
  {
   "cell_type": "code",
   "execution_count": null,
   "metadata": {},
   "outputs": [],
   "source": []
  },
  {
   "cell_type": "code",
   "execution_count": null,
   "metadata": {},
   "outputs": [],
   "source": []
  },
  {
   "cell_type": "code",
   "execution_count": null,
   "metadata": {},
   "outputs": [],
   "source": []
  },
  {
   "cell_type": "code",
   "execution_count": null,
   "metadata": {},
   "outputs": [],
   "source": []
  },
  {
   "cell_type": "code",
   "execution_count": null,
   "metadata": {},
   "outputs": [],
   "source": []
  },
  {
   "cell_type": "code",
   "execution_count": null,
   "metadata": {},
   "outputs": [],
   "source": []
  },
  {
   "cell_type": "code",
   "execution_count": null,
   "metadata": {},
   "outputs": [],
   "source": []
  },
  {
   "cell_type": "code",
   "execution_count": null,
   "metadata": {},
   "outputs": [],
   "source": []
  },
  {
   "cell_type": "code",
   "execution_count": null,
   "metadata": {},
   "outputs": [],
   "source": []
  },
  {
   "cell_type": "code",
   "execution_count": null,
   "metadata": {},
   "outputs": [],
   "source": []
  },
  {
   "cell_type": "code",
   "execution_count": null,
   "metadata": {},
   "outputs": [],
   "source": []
  },
  {
   "cell_type": "code",
   "execution_count": null,
   "metadata": {},
   "outputs": [],
   "source": []
  },
  {
   "cell_type": "code",
   "execution_count": null,
   "metadata": {},
   "outputs": [],
   "source": []
  },
  {
   "cell_type": "code",
   "execution_count": null,
   "metadata": {},
   "outputs": [],
   "source": []
  },
  {
   "cell_type": "code",
   "execution_count": null,
   "metadata": {},
   "outputs": [],
   "source": []
  },
  {
   "cell_type": "code",
   "execution_count": null,
   "metadata": {},
   "outputs": [],
   "source": []
  },
  {
   "cell_type": "code",
   "execution_count": null,
   "metadata": {},
   "outputs": [],
   "source": []
  },
  {
   "cell_type": "code",
   "execution_count": null,
   "metadata": {},
   "outputs": [],
   "source": []
  },
  {
   "cell_type": "code",
   "execution_count": null,
   "metadata": {},
   "outputs": [],
   "source": []
  },
  {
   "cell_type": "code",
   "execution_count": null,
   "metadata": {},
   "outputs": [],
   "source": []
  },
  {
   "cell_type": "code",
   "execution_count": null,
   "metadata": {},
   "outputs": [],
   "source": []
  },
  {
   "cell_type": "code",
   "execution_count": null,
   "metadata": {},
   "outputs": [],
   "source": []
  },
  {
   "cell_type": "code",
   "execution_count": null,
   "metadata": {},
   "outputs": [],
   "source": []
  },
  {
   "cell_type": "code",
   "execution_count": null,
   "metadata": {},
   "outputs": [],
   "source": []
  },
  {
   "cell_type": "code",
   "execution_count": null,
   "metadata": {},
   "outputs": [],
   "source": []
  },
  {
   "cell_type": "code",
   "execution_count": null,
   "metadata": {},
   "outputs": [],
   "source": []
  },
  {
   "cell_type": "code",
   "execution_count": null,
   "metadata": {},
   "outputs": [],
   "source": []
  },
  {
   "cell_type": "code",
   "execution_count": null,
   "metadata": {},
   "outputs": [],
   "source": []
  },
  {
   "cell_type": "code",
   "execution_count": null,
   "metadata": {},
   "outputs": [],
   "source": []
  },
  {
   "cell_type": "code",
   "execution_count": null,
   "metadata": {},
   "outputs": [],
   "source": []
  },
  {
   "cell_type": "code",
   "execution_count": null,
   "metadata": {},
   "outputs": [],
   "source": []
  },
  {
   "cell_type": "code",
   "execution_count": null,
   "metadata": {},
   "outputs": [],
   "source": []
  },
  {
   "cell_type": "code",
   "execution_count": null,
   "metadata": {},
   "outputs": [],
   "source": []
  },
  {
   "cell_type": "code",
   "execution_count": null,
   "metadata": {},
   "outputs": [],
   "source": []
  },
  {
   "cell_type": "code",
   "execution_count": null,
   "metadata": {},
   "outputs": [],
   "source": []
  },
  {
   "cell_type": "code",
   "execution_count": null,
   "metadata": {},
   "outputs": [],
   "source": []
  },
  {
   "cell_type": "code",
   "execution_count": null,
   "metadata": {},
   "outputs": [],
   "source": []
  },
  {
   "cell_type": "code",
   "execution_count": null,
   "metadata": {},
   "outputs": [],
   "source": []
  },
  {
   "cell_type": "code",
   "execution_count": null,
   "metadata": {},
   "outputs": [],
   "source": []
  },
  {
   "cell_type": "code",
   "execution_count": null,
   "metadata": {},
   "outputs": [],
   "source": []
  },
  {
   "cell_type": "code",
   "execution_count": null,
   "metadata": {},
   "outputs": [],
   "source": []
  }
 ],
 "metadata": {
  "kernelspec": {
   "display_name": "Python 3",
   "language": "python",
   "name": "python3"
  },
  "language_info": {
   "codemirror_mode": {
    "name": "ipython",
    "version": 3
   },
   "file_extension": ".py",
   "mimetype": "text/x-python",
   "name": "python",
   "nbconvert_exporter": "python",
   "pygments_lexer": "ipython3",
   "version": "3.7.4"
  }
 },
 "nbformat": 4,
 "nbformat_minor": 2
}
